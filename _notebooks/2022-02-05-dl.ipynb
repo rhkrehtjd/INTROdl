{
 "cells": [
  {
   "cell_type": "markdown",
   "id": "3416df09-ae2f-4d76-8fd0-2b67f201a288",
   "metadata": {},
   "source": [
    "# 신경망"
   ]
  },
  {
   "cell_type": "markdown",
   "id": "b9395744-0ed8-43ef-a49b-da56131d4dd1",
   "metadata": {},
   "source": [
    "- 신경망을 통해 가중치 매개변수의 적절한 값을 데이터로부터 자동으로 학습하는 능력이 이제부터 살펴볼 신경망의 중요한 성질이다. \n",
    "- 신경망의 개요를 알아보고, 신경망이 입력 데이터가 무엇인지 식별하는 처리 과정을 자세히 알아보자."
   ]
  },
  {
   "cell_type": "markdown",
   "id": "06573709-714e-46a2-a4c7-99a2c1c104b4",
   "metadata": {},
   "source": [
    "> 퍼셉트론에서 신경망으로"
   ]
  },
  {
   "cell_type": "markdown",
   "id": "2460c021-afc2-4b43-9a77-54f24b201280",
   "metadata": {},
   "source": [
    "- 입력층, 은닉층, 출력층으로 구성된다. \n",
    "- 이 중 은닉층의 뉴런은 사람 눈에는 보이지 않는다. \n",
    "- 뉴런이 연결되는 방식은 앞 장의 퍼셉트론과 달라진 것이 없다. \n",
    "- 차이점에 대해 알아보자"
   ]
  },
  {
   "cell_type": "markdown",
   "id": "5049f209-64e1-43f0-ac14-bf54cbf95ea6",
   "metadata": {},
   "source": [
    "> 활성화 함수"
   ]
  },
  {
   "cell_type": "markdown",
   "id": "67bdd191-fd77-4897-8602-c5102887b358",
   "metadata": {},
   "source": [
    "- 입력 신호의 총합을 출력 신호로 변환하는 함수를 일컫는다.\n",
    "- 활성화라는 이름이 말해주듯 활성화 함수는 입력 신호의 총합이 활성화를 일으키는지를 정하는 역할을 한다.\n",
    "- 임계값을 경계로 출력이 바뀌는데 이런 함수를 계단 함수라고 한다. \n",
    "- 그래서 퍼셉트론에서는 활성화 함수로 계단 함수를 이용한다라고 할 수 있다.\n",
    "- 즉 활성화 함수로 쓸 수 있는 여러 후보 중에서 퍼셉트론은 계단 함수를 채용하고 있다. \n",
    "- 그렇다면 계단 함수 이외의 함수를 사용하면 어떻게 될까. 사실 활성화 함수를 계단 함수에서 다른 함수로 변경하는 것이 신경망의 세계로 나아가는 열쇠이다. \n",
    "- 신경망에서 이용하는 활성화 함수를 알아보자"
   ]
  },
  {
   "cell_type": "markdown",
   "id": "d41cd96b-4ae1-4dab-af86-3d3ab089f0e0",
   "metadata": {},
   "source": [
    "- 신경망에서 자주 이용하는 활성화 함수인 시그모이드 함수를 알아보자\n",
    "  - $\\frac{1}{1+exp(-x)}$"
   ]
  },
  {
   "cell_type": "markdown",
   "id": "b36c5b4d-9312-49af-80b0-43b01315a3a8",
   "metadata": {},
   "source": [
    "- 신경망에서는 활성화 함수로 시그모이드 함수를 이용하여 신호를 변환하고, 그 변환된 신호를 다음 뉴런에 전달한다. \n",
    "- 앞 장에서본 퍼셉트론과 앞으로 볼 신경망의 주된 차이는 이 활성화 함수이다. \n",
    "- 계단 함수를 구현해보자"
   ]
  },
  {
   "cell_type": "code",
   "execution_count": 5,
   "id": "38c67a3a-8f80-4734-874a-5e9f84481c9d",
   "metadata": {},
   "outputs": [],
   "source": [
    "import numpy as np\n",
    "\n",
    "def step_function(x):\n",
    "    if x>0:\n",
    "        return 1\n",
    "    else : \n",
    "        return 0 "
   ]
  },
  {
   "cell_type": "markdown",
   "id": "35248b96-e192-4e12-b71e-5a404e25fb59",
   "metadata": {},
   "source": [
    "- 인수 x는 실수만 받아들인다. 즉 step_function(3.0) 같은 것은 가능하지만 step_function(np.array([1,2]))는 안 된다. \n",
    "- 가능하도록 해보자"
   ]
  },
  {
   "cell_type": "code",
   "execution_count": 6,
   "id": "dbad09cc-92e7-4623-b734-abf44364a31c",
   "metadata": {},
   "outputs": [],
   "source": [
    "def step_function(x):\n",
    "    y = x > 0\n",
    "    return y.astype(np.int)"
   ]
  },
  {
   "cell_type": "markdown",
   "id": "d9e57135-2bd0-4d93-acf9-dc9d566850cf",
   "metadata": {},
   "source": [
    "- 아래 셀을 통해 위 함수를 이해해보자"
   ]
  },
  {
   "cell_type": "code",
   "execution_count": 7,
   "id": "bbc28460-551e-43e7-9490-004ef956ed21",
   "metadata": {},
   "outputs": [
    {
     "data": {
      "text/plain": [
       "array([False,  True,  True])"
      ]
     },
     "execution_count": 7,
     "metadata": {},
     "output_type": "execute_result"
    }
   ],
   "source": [
    "x = np.array([-1,1,2])\n",
    "y = x>0\n",
    "y"
   ]
  },
  {
   "cell_type": "markdown",
   "id": "534dd9cd-fb95-4170-adb9-faa039f346b6",
   "metadata": {},
   "source": [
    "- 이렇게 넘파이 배열에 부등호 연산을 수행하면 배열의 원소 각각에 부등호 연산을 수행한 bool 배열이 새로 생성되고 y라는 변수에 저장된다.\n",
    "- 그런데 우리가 원하는 계단 함수는 0이나 1의 int형을 출력하는 함수이기 때문에 아래 셀을 통해 변환하여 반환해주자"
   ]
  },
  {
   "cell_type": "code",
   "execution_count": 14,
   "id": "68677373-314e-4a9a-a250-be1e33e77d00",
   "metadata": {},
   "outputs": [
    {
     "data": {
      "text/plain": [
       "array([0, 1, 1])"
      ]
     },
     "execution_count": 14,
     "metadata": {},
     "output_type": "execute_result"
    }
   ],
   "source": [
    "import warnings\n",
    "warnings.filterwarnings(\"ignore\") \n",
    "\n",
    "\n",
    "y = y.astype(np.int)\n",
    "y"
   ]
  },
  {
   "cell_type": "markdown",
   "id": "551ef6cb-db68-41ed-a9e9-3bc55164f65f",
   "metadata": {},
   "source": [
    "- 이제 앞에서 정의한 계단 함수를 그래프로 그려보자"
   ]
  },
  {
   "cell_type": "code",
   "execution_count": 87,
   "id": "2217d02c-33d5-4e1f-a0f6-ce238cf0d2c4",
   "metadata": {},
   "outputs": [
    {
     "data": {
      "image/png": "[encoded data removed]",
      "text/plain": [
       "<Figure size 432x288 with 1 Axes>"
      ]
     },
     "metadata": {
      "needs_background": "light"
     },
     "output_type": "display_data"
    }
   ],
   "source": [
    "import matplotlib.pyplot as plt\n",
    "\n",
    "def step_function(x):\n",
    "    return np.array(x>0 , dtype=np.int)\n",
    "\n",
    "x = np.arange(-5,5,0.1)\n",
    "y = step_function(x)\n",
    "plt.plot(x,y)\n",
    "plt.ylim(-0.1,1.1)\n",
    "plt.show()"
   ]
  },
  {
   "cell_type": "markdown",
   "id": "0ded209a-599a-437b-be7f-13aceda1e2e9",
   "metadata": {},
   "source": [
    "- 시그모이드 함수를 구현해보자"
   ]
  },
  {
   "cell_type": "code",
   "execution_count": 22,
   "id": "38009720-62e9-4d46-b6bc-384051140338",
   "metadata": {},
   "outputs": [
    {
     "data": {
      "text/plain": [
       "array([0.26894142, 0.73105858, 0.88079708])"
      ]
     },
     "execution_count": 22,
     "metadata": {},
     "output_type": "execute_result"
    }
   ],
   "source": [
    "def sigmoid(x):\n",
    "    return 1/(1 + np.exp(-x))\n",
    "\n",
    "x = np.array([-1,1,2])\n",
    "sigmoid(x)"
   ]
  },
  {
   "cell_type": "markdown",
   "id": "9f56051b-2290-44e8-b777-2607163e7761",
   "metadata": {},
   "source": [
    "- 시그모이드 함수를 그래프로 그려보자"
   ]
  },
  {
   "cell_type": "code",
   "execution_count": 25,
   "id": "a2844a98-b5d2-4ae9-a312-5db9b1f868dc",
   "metadata": {},
   "outputs": [
    {
     "data": {
      "image/png": "[encoded data removed]",
      "text/plain": [
       "<Figure size 432x288 with 1 Axes>"
      ]
     },
     "metadata": {
      "needs_background": "light"
     },
     "output_type": "display_data"
    }
   ],
   "source": [
    "x = np.arange(-5, 5, 0.1)\n",
    "y = sigmoid(x)\n",
    "plt.plot(x,y)\n",
    "plt.ylim(-0.1,1.1)\n",
    "plt.title('Sigmoid Function')\n",
    "plt.show()"
   ]
  },
  {
   "cell_type": "markdown",
   "id": "08afb269-5ca9-4168-b21c-8fce7e523aee",
   "metadata": {},
   "source": [
    "- 잡담 : 시그모이드란 'S'자 모양이라는 뜻이다. 계단 함수처럼 그 모양을 따 이름을 지은 것이다. 'S자 모양 함수'라고도 부를 수 있다."
   ]
  },
  {
   "cell_type": "markdown",
   "id": "1544af5d-e6ca-461b-8280-bfef6ffb6d11",
   "metadata": {},
   "source": [
    "----"
   ]
  },
  {
   "cell_type": "code",
   "execution_count": 91,
   "id": "8b779d79-f6e2-4635-9724-92e0cc149b1a",
   "metadata": {},
   "outputs": [
    {
     "data": {
      "image/png": "[encoded data removed]",
      "text/plain": [
       "<Figure size 432x288 with 2 Axes>"
      ]
     },
     "metadata": {
      "needs_background": "light"
     },
     "output_type": "display_data"
    }
   ],
   "source": [
    "fig, (ax1,ax2) = plt.subplots(1,2)\n",
    "x = np.arange(-5,5,0.1)\n",
    "y = step_function(x)\n",
    "ax1.plot(x,y)\n",
    "ax1.set_title('Step Function')\n",
    "x = np.arange(-5, 5, 0.1)\n",
    "y = sigmoid(x)\n",
    "ax2.plot(x,y)\n",
    "ax2.set_title('Sigmoid Function')\n",
    "plt.show()"
   ]
  },
  {
   "cell_type": "markdown",
   "id": "9166289a-6f4d-4053-a2a3-dc05c1557e21",
   "metadata": {},
   "source": [
    "- 비교\n",
    "  - 시그모이드 함수는 부드러운 곡선이며 입력에 따라 출력이 연속적으로 변한다. 한편 계단 함수는 0을 경계로 출력이 갑자기 바뀌어버린다. 시그모이드 함수의 이 매끈함이 신경망 학습에서 아주 중요한 역할을 한다. \n",
    "  - 다시 말해 퍼셉트론에서는 뉴런 사이에 0 혹은 1이 흘렀다면 신경망에서는 연속적인 실수가 흐른다.\n",
    "  - 공통점 : 둘 다 입력이 작을 때의 출력은 0에 가깝고 혹은 0이고 입력이 커지면 출력이 1에 가까워지는 혹은 1이 되는 구조이다. \n",
    "  - 즉, 계단 함수와 시그모이드 함수는 입력이 중요하면 큰 값을 출력하고 입력이 중요하지 않으면 작은 값을 출력한다.\n",
    "  - 그리고 입력이 아무리 작거나 커도 출력은 0에서 1 사이라는 것도 둘의 공통점이다.\n",
    "  - 또한 둘다 비선형 함수이다. "
   ]
  },
  {
   "cell_type": "markdown",
   "id": "9fe4ba14-cf29-4053-b1be-8f307352f0b6",
   "metadata": {},
   "source": [
    "- 신경망에서는 활성화 함수로 비선형 함수를 사용해야 한다. 선형 함수를 이용하면 신경망의 층을 깊게 하는 의미가 없어지기 때문이다. "
   ]
  },
  {
   "cell_type": "markdown",
   "id": "fb0913e3-e72d-4306-a59a-2f4e8da2f2c5",
   "metadata": {},
   "source": [
    "----"
   ]
  },
  {
   "cell_type": "markdown",
   "id": "426b7b56-63b0-4e1f-b47d-dcd92a2f33f5",
   "metadata": {},
   "source": [
    "- 시그모이드 함수는 신경망 분야에서 오래전부터 이용해왔으나 최근에는 ReUL(Rectified Linear Unit) 렐루 함수를 주로 이용한다. \n",
    "- 렐루 함수는 입력이 0을 넘으면 그 입력을 그대로 출력하고 0 이하이면 0을 출력하는 함수이다. "
   ]
  },
  {
   "cell_type": "code",
   "execution_count": 92,
   "id": "6ec94a4e-5579-4973-8894-fa60c819b2aa",
   "metadata": {},
   "outputs": [
    {
     "data": {
      "image/png": "[encoded data removed]",
      "text/plain": [
       "<Figure size 432x288 with 1 Axes>"
      ]
     },
     "metadata": {
      "needs_background": "light"
     },
     "output_type": "display_data"
    }
   ],
   "source": [
    "def relu(x):\n",
    "    return np.maximum(0,x)\n",
    "\n",
    "x = np.arange(-6 ,6 ,0.1)\n",
    "y = relu(x)\n",
    "plt.plot(x,y)\n",
    "plt.ylim(-1,7)\n",
    "plt.show()"
   ]
  },
  {
   "cell_type": "markdown",
   "id": "ea5394c4-5307-46cb-b46b-a5aebd8cd110",
   "metadata": {},
   "source": [
    "- ReLU 함수도 활성화 함수로 이용할 수 있다. "
   ]
  },
  {
   "cell_type": "markdown",
   "id": "ac24c80e-c817-4733-b1e4-1e4aa3981a9d",
   "metadata": {},
   "source": [
    "---"
   ]
  },
  {
   "cell_type": "markdown",
   "id": "0b12f71f-6f0f-4b6c-87d3-b9ff8065c712",
   "metadata": {},
   "source": [
    "- 넘파이의 다차원 배열에 대해 간략히 알아보자"
   ]
  },
  {
   "cell_type": "code",
   "execution_count": 93,
   "id": "d764b167-97ff-4ac2-b12d-e55d170d2648",
   "metadata": {},
   "outputs": [
    {
     "data": {
      "text/plain": [
       "array([[1, 2],\n",
       "       [3, 4],\n",
       "       [5, 6]])"
      ]
     },
     "execution_count": 93,
     "metadata": {},
     "output_type": "execute_result"
    }
   ],
   "source": [
    "b = np.array([[1,2],[3,4],[5,6]])\n",
    "b"
   ]
  },
  {
   "cell_type": "code",
   "execution_count": 94,
   "id": "a331a213-3451-4753-a2f1-225b62c46889",
   "metadata": {},
   "outputs": [
    {
     "name": "stdout",
     "output_type": "stream",
     "text": [
      "2\n",
      "(3, 2)\n"
     ]
    }
   ],
   "source": [
    "print(np.ndim(b))\n",
    "print(np.shape(b))"
   ]
  },
  {
   "cell_type": "markdown",
   "id": "6baa5238-12f2-410c-8505-00fb26942641",
   "metadata": {},
   "source": [
    "- $3 \\times 2$ 배열이다.\n",
    "- 처음 차원에는 원소가 3개 다음 차원에는 원소가 2개 들어있다는 의미이다.\n",
    "- 이때 처음 차원은 0번째 차원, 다음 차원은 1번째 차원에 대응한다. \n",
    "  - 2차원 배열은 행렬이라고 부르고 가로방향을 행, 세로방향을 열이라고 부른다."
   ]
  },
  {
   "cell_type": "markdown",
   "id": "37360108-6d48-4804-bfa2-81bea1619f1e",
   "metadata": {},
   "source": [
    "```python\n",
    "np.dot()\n",
    "```\n",
    "은 입력이 1차원 배열이면 벡터를, 2차원 배열이면 행렬 곱을 계산한다. \n",
    "\n",
    "주의할 것은 np.dot(A,B)와 np.dot(B,A)는 다른 값이 될 수 있다.(우연의 일치가 발생할 순 있다.)\n",
    "- 행렬의 곱은 *과는 다르다"
   ]
  },
  {
   "cell_type": "markdown",
   "id": "8f0cbc75-1f9d-46c7-bf37-54516d0f9e23",
   "metadata": {},
   "source": [
    "----"
   ]
  },
  {
   "cell_type": "code",
   "execution_count": 96,
   "id": "142affc7-da08-477c-a414-67ee3d02344c",
   "metadata": {},
   "outputs": [
    {
     "data": {
      "text/plain": [
       "array([14, 19, 24])"
      ]
     },
     "execution_count": 96,
     "metadata": {},
     "output_type": "execute_result"
    }
   ],
   "source": [
    "a = np.array([2,3]) # 입력 값\n",
    "b = np.array([[1,2,3],[4,5,6]]) # 가중치\n",
    "# 편향과 활성화 함수를 생략하고 가중치만 갖는 간단한 신경망이다.\n",
    "\n",
    "np.dot(a,b)"
   ]
  },
  {
   "cell_type": "markdown",
   "id": "720bb09e-90af-4d0e-a91f-e90b9cb1fc72",
   "metadata": {},
   "source": [
    "---"
   ]
  },
  {
   "cell_type": "code",
   "execution_count": 100,
   "id": "622d5df8-32bb-4480-8ad1-e8a1463c445e",
   "metadata": {},
   "outputs": [
    {
     "name": "stdout",
     "output_type": "stream",
     "text": [
      "[0.31682708 0.69627909]\n"
     ]
    }
   ],
   "source": [
    "def identity_function(x):\n",
    "    return x\n",
    "\n",
    "def init_network():\n",
    "    network = {}  # dict 형태로 이용할 것\n",
    "    network['W1'] = np.array([[0.1,0.3,0.5],[0.2,0.4,0.6]])\n",
    "    network['b1'] = np.array([0.1,0.2,0.3])\n",
    "    network['W2'] = np.array([[0.1,0.4],[0.2,0.5],[0.3,0.6]])\n",
    "    network['b2'] = np.array([0.1,0.2])\n",
    "    network['W3'] = np.array([[0.1,0.3],[0.2,0.4]])\n",
    "    network['b3'] = np.array([0.1,0.2])\n",
    "    \n",
    "    return network\n",
    "\n",
    "def forward(network, x):\n",
    "    W1,W2,W3 = network['W1'],network['W2'],network['W3']\n",
    "    b1,b2,b3 = network['b1'],network['b2'],network['b3']\n",
    "    \n",
    "    a1 = np.dot(x, W1) + b1\n",
    "    z1 = sigmoid(a1) # 1층\n",
    "    a2 = np.dot(z1, W2) + b2\n",
    "    z2 = sigmoid(a2) # 2층\n",
    "    a3 = np.dot(z2,W3) + b3\n",
    "    y = identity_function(a3) # 3층\n",
    "    \n",
    "    return y\n",
    "\n",
    "network = init_network()\n",
    "x = np.array([1,0.5])\n",
    "y = forward(network, x)\n",
    "print(y)"
   ]
  },
  {
   "cell_type": "code",
   "execution_count": 101,
   "id": "bf04233d-1475-4fd5-8585-01c056f12081",
   "metadata": {},
   "outputs": [
    {
     "data": {
      "text/plain": [
       "{'W1': array([[0.1, 0.3, 0.5],\n",
       "        [0.2, 0.4, 0.6]]),\n",
       " 'b1': array([0.1, 0.2, 0.3]),\n",
       " 'W2': array([[0.1, 0.4],\n",
       "        [0.2, 0.5],\n",
       "        [0.3, 0.6]]),\n",
       " 'b2': array([0.1, 0.2]),\n",
       " 'W3': array([[0.1, 0.3],\n",
       "        [0.2, 0.4]]),\n",
       " 'b3': array([0.1, 0.2])}"
      ]
     },
     "execution_count": 101,
     "metadata": {},
     "output_type": "execute_result"
    }
   ],
   "source": [
    "network"
   ]
  }
 ],
 "metadata": {
  "kernelspec": {
   "display_name": "Python 3 (ipykernel)",
   "language": "python",
   "name": "python3"
  },
  "language_info": {
   "codemirror_mode": {
    "name": "ipython",
    "version": 3
   },
   "file_extension": ".py",
   "mimetype": "text/x-python",
   "name": "python",
   "nbconvert_exporter": "python",
   "pygments_lexer": "ipython3",
   "version": "3.8.11"
  }
 },
 "nbformat": 4,
 "nbformat_minor": 5
}
