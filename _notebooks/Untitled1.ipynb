{
 "cells": [
  {
   "cell_type": "markdown",
   "id": "84f190ee-d464-488b-b976-a8fc293497f4",
   "metadata": {},
   "source": [
    "- 밑바닥부터 시작하는 딥러닝 review 2회독"
   ]
  },
  {
   "cell_type": "code",
   "execution_count": null,
   "id": "e9c5d830-ccd1-47c3-a9f5-ac870218c53a",
   "metadata": {},
   "outputs": [],
   "source": []
  }
 ],
 "metadata": {
  "kernelspec": {
   "display_name": "Python 3 (ipykernel)",
   "language": "python",
   "name": "python3"
  },
  "language_info": {
   "codemirror_mode": {
    "name": "ipython",
    "version": 3
   },
   "file_extension": ".py",
   "mimetype": "text/x-python",
   "name": "python",
   "nbconvert_exporter": "python",
   "pygments_lexer": "ipython3",
   "version": "3.8.11"
  }
 },
 "nbformat": 4,
 "nbformat_minor": 5
}
