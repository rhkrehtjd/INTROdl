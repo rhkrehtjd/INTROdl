{
 "cells": [
  {
   "cell_type": "markdown",
   "id": "b19f5932-5549-4934-a23c-54b8e7f31395",
   "metadata": {},
   "source": [
    "# 2022/01/12/WED"
   ]
  },
  {
   "cell_type": "code",
   "execution_count": 24,
   "id": "e8d61859-8d53-4975-92b8-b0b3d1dc64a5",
   "metadata": {},
   "outputs": [],
   "source": [
    "import torch"
   ]
  },
  {
   "cell_type": "code",
   "execution_count": 25,
   "id": "698a66af-b587-44f9-ad03-944ececedb42",
   "metadata": {},
   "outputs": [
    {
     "name": "stdout",
     "output_type": "stream",
     "text": [
      "tensor([0., 1., 2., 3., 4., 5., 6.])\n"
     ]
    }
   ],
   "source": [
    "t=torch.FloatTensor([0.,1.,2.,3.,4.,5.,6.])\n",
    "print(t)"
   ]
  },
  {
   "cell_type": "code",
   "execution_count": 26,
   "id": "adee8b47-b998-46ae-a252-57fc72cabb8c",
   "metadata": {},
   "outputs": [
    {
     "name": "stdout",
     "output_type": "stream",
     "text": [
      "1\n",
      "torch.Size([7])\n",
      "torch.Size([7])\n",
      "tensor(0.) tensor(1.) tensor(6.)\n"
     ]
    }
   ],
   "source": [
    "print(t.dim())\n",
    "print(t.shape)\n",
    "print(t.size())\n",
    "print(t[0],t[1],t[-1])"
   ]
  },
  {
   "cell_type": "markdown",
   "id": "5d9d4dac-b7c5-4652-b3be-514c00600a90",
   "metadata": {},
   "source": [
    "- 그 외에도 slicing도 ndarray처럼 사용 가능\n",
    "- 2차원 3차원도 ndarray처럼 사용 가능"
   ]
  },
  {
   "cell_type": "markdown",
   "id": "95d305c9-c351-4ec2-9afd-c341714d693d",
   "metadata": {},
   "source": [
    "> ### Broadcasting"
   ]
  },
  {
   "cell_type": "code",
   "execution_count": 27,
   "id": "4209fe61-ae82-4932-a754-914a7229d4dc",
   "metadata": {},
   "outputs": [
    {
     "name": "stdout",
     "output_type": "stream",
     "text": [
      "tensor([[5., 5.]])\n"
     ]
    }
   ],
   "source": [
    "m1 = torch.FloatTensor([[3,3]])\n",
    "m2 = torch.FloatTensor([[2,2]])\n",
    "print(m1+m2)"
   ]
  },
  {
   "cell_type": "markdown",
   "id": "d31ffe0e-0b0c-4de5-8fef-0f55a3d49c5d",
   "metadata": {},
   "source": [
    "- 이렇게 같은 크기뿐만 아니라 Broadcasting을 통해"
   ]
  },
  {
   "cell_type": "code",
   "execution_count": 28,
   "id": "ea16948d-677b-4fe2-b76b-e3152e6f801c",
   "metadata": {},
   "outputs": [
    {
     "name": "stdout",
     "output_type": "stream",
     "text": [
      "tensor([[4., 5.]])\n"
     ]
    }
   ],
   "source": [
    "m1 = torch.FloatTensor([[1,2]])\n",
    "m2 = torch.FloatTensor([[3]])\n",
    "print(m1+m2)"
   ]
  },
  {
   "cell_type": "markdown",
   "id": "cc972c96-98a9-4822-a79f-748938febd29",
   "metadata": {},
   "source": [
    "- 이렇게 크기가 동일하지 않아도 pytorch가 자동으로 동일한 size로 변환하여 연산 수행 가능"
   ]
  },
  {
   "cell_type": "code",
   "execution_count": 29,
   "id": "191f7f63-4482-4da9-acc1-7ffb6ec90a12",
   "metadata": {},
   "outputs": [
    {
     "name": "stdout",
     "output_type": "stream",
     "text": [
      "tensor([[4., 5.],\n",
      "        [5., 6.]])\n"
     ]
    }
   ],
   "source": [
    "m1 = torch.FloatTensor([[1,2]])\n",
    "m2 = torch.FloatTensor([[3],[4]])\n",
    "print(m1+m2)"
   ]
  },
  {
   "cell_type": "code",
   "execution_count": 30,
   "id": "6e9076b8-b5e3-472f-a9ae-be6d566f12dc",
   "metadata": {},
   "outputs": [
    {
     "name": "stdout",
     "output_type": "stream",
     "text": [
      "torch.Size([1, 2])\n"
     ]
    }
   ],
   "source": [
    "print(m1.shape)"
   ]
  },
  {
   "cell_type": "code",
   "execution_count": 31,
   "id": "27d84c76-17df-4a62-ba44-c1453a5ea831",
   "metadata": {},
   "outputs": [
    {
     "data": {
      "text/plain": [
       "tensor([[1., 2.]])"
      ]
     },
     "execution_count": 31,
     "metadata": {},
     "output_type": "execute_result"
    }
   ],
   "source": [
    "m1"
   ]
  },
  {
   "cell_type": "code",
   "execution_count": 32,
   "id": "020f743d-ac19-4b2a-b5c5-e97b76d89e81",
   "metadata": {},
   "outputs": [
    {
     "name": "stdout",
     "output_type": "stream",
     "text": [
      "torch.Size([2, 1])\n"
     ]
    }
   ],
   "source": [
    "print(m2.shape)"
   ]
  },
  {
   "cell_type": "code",
   "execution_count": 33,
   "id": "34ca55cf-ded5-4d28-a15d-8ecb910cedd6",
   "metadata": {},
   "outputs": [
    {
     "data": {
      "text/plain": [
       "tensor([[3.],\n",
       "        [4.]])"
      ]
     },
     "execution_count": 33,
     "metadata": {},
     "output_type": "execute_result"
    }
   ],
   "source": [
    "m2"
   ]
  },
  {
   "cell_type": "markdown",
   "id": "b05d54be-fd1f-468c-aeb1-7597a220663e",
   "metadata": {},
   "source": [
    "- 이렇게 행렬 모양이 다르더라도 m1과 m2를 각각 2x2행렬로 변경하여 덧셈 수행하는 기능도 가능하다\n",
    "- 이런 Broadcasting 기능은 자동으로 수행되기 때문에 잘못 사용하지 않게 유의하자"
   ]
  },
  {
   "cell_type": "code",
   "execution_count": 34,
   "id": "56b502b4-482a-4292-8e9d-829908c4eadc",
   "metadata": {},
   "outputs": [
    {
     "name": "stdout",
     "output_type": "stream",
     "text": [
      "tensor([[ 3.,  6.],\n",
      "        [12., 16.]])\n",
      "tensor([[ 3.,  6.],\n",
      "        [12., 16.]])\n"
     ]
    }
   ],
   "source": [
    "m1 = torch.FloatTensor([[1,2],[3,4]])\n",
    "m2 = torch.FloatTensor([[3],[4]])\n",
    "print(m1*m2)\n",
    "print(m1.mul(m2))"
   ]
  },
  {
   "cell_type": "markdown",
   "id": "17897cde-3273-493a-930f-687542f6bf02",
   "metadata": {},
   "source": [
    "- 이때 m2가 Broadcasting되면서 우리가 일반적으로 알고 있는 행렬 연산 수행과는 상이하게 진행됨\n",
    "- 우리가 알고 있는 행렬 연산을 하기 위해서는"
   ]
  },
  {
   "cell_type": "code",
   "execution_count": 35,
   "id": "89a6a8b1-4cd7-4088-9ce2-78bf71e8a082",
   "metadata": {},
   "outputs": [
    {
     "name": "stdout",
     "output_type": "stream",
     "text": [
      "tensor([[11.],\n",
      "        [25.]])\n"
     ]
    }
   ],
   "source": [
    "m1 = torch.FloatTensor([[1,2],[3,4]])\n",
    "m2 = torch.FloatTensor([[3],[4]])\n",
    "print(m1.matmul(m2))"
   ]
  },
  {
   "cell_type": "markdown",
   "id": "a017ad80-589c-40f8-bc2d-bffa834260bc",
   "metadata": {},
   "source": [
    "- 이렇게 해야한다."
   ]
  },
  {
   "cell_type": "code",
   "execution_count": 36,
   "id": "c62afefc-6a14-4107-a026-1f09a57460f7",
   "metadata": {},
   "outputs": [
    {
     "name": "stdout",
     "output_type": "stream",
     "text": [
      "tensor(1.5000)\n"
     ]
    }
   ],
   "source": [
    "t = torch.FloatTensor([1,2])\n",
    "print(t.mean())"
   ]
  },
  {
   "cell_type": "code",
   "execution_count": 37,
   "id": "4d4c9f76-ff21-44d6-bd40-5dc9e00bbd91",
   "metadata": {},
   "outputs": [
    {
     "name": "stdout",
     "output_type": "stream",
     "text": [
      "tensor([2., 3.])\n",
      "tensor([1.5000, 3.5000])\n",
      "tensor([1.5000, 3.5000])\n"
     ]
    }
   ],
   "source": [
    "t = torch.FloatTensor([[1,2],[3,4]])\n",
    "print(t.mean(dim=0)) # dim=0을 없애겠다.  (2x2) -> (1x2)\n",
    "print(t.mean(dim=1)) # dim=1을 없애겠다.  (2x2) -> (2x1)\n",
    "print(t.mean(dim=-1))"
   ]
  },
  {
   "cell_type": "code",
   "execution_count": 38,
   "id": "d29b1a78-a0aa-4398-92f9-94cc31ddc20a",
   "metadata": {},
   "outputs": [
    {
     "name": "stdout",
     "output_type": "stream",
     "text": [
      "tensor([[1., 2.],\n",
      "        [3., 4.]])\n"
     ]
    }
   ],
   "source": [
    "t = torch.FloatTensor([[1,2],[3,4]])\n",
    "print(t)"
   ]
  },
  {
   "cell_type": "code",
   "execution_count": 39,
   "id": "7e79cce9-ba88-455f-871c-f721228fb40d",
   "metadata": {},
   "outputs": [
    {
     "name": "stdout",
     "output_type": "stream",
     "text": [
      "tensor(10.)\n",
      "tensor([4., 6.])\n",
      "tensor([3., 7.])\n",
      "tensor([3., 7.])\n"
     ]
    }
   ],
   "source": [
    "print(t.sum())\n",
    "print(t.sum(dim=0))\n",
    "print(t.sum(dim=1))\n",
    "print(t.sum(dim=-1))"
   ]
  },
  {
   "cell_type": "code",
   "execution_count": 50,
   "id": "f20d189f-3518-4350-9865-2f4aef0f597a",
   "metadata": {},
   "outputs": [
    {
     "name": "stdout",
     "output_type": "stream",
     "text": [
      "tensor([[3., 2.],\n",
      "        [1., 4.]])\n"
     ]
    }
   ],
   "source": [
    "t = torch.FloatTensor([[3,2],[1,4]])\n",
    "print(t)"
   ]
  },
  {
   "cell_type": "code",
   "execution_count": 51,
   "id": "ea939b61-8c52-40ae-8921-bb92dade845c",
   "metadata": {},
   "outputs": [
    {
     "name": "stdout",
     "output_type": "stream",
     "text": [
      "tensor(4.)\n"
     ]
    }
   ],
   "source": [
    "print(t.max())"
   ]
  },
  {
   "cell_type": "code",
   "execution_count": 53,
   "id": "982bf3d2-974b-47b0-bcae-7acaaa4fac49",
   "metadata": {},
   "outputs": [
    {
     "name": "stdout",
     "output_type": "stream",
     "text": [
      "torch.return_types.max(\n",
      "values=tensor([3., 4.]),\n",
      "indices=tensor([0, 1]))\n",
      "tensor([3., 4.])\n",
      "tensor([0, 1])\n"
     ]
    }
   ],
   "source": [
    "print(t.max(dim=0)) # dim=0 제외하고 각 열에서의 max와 그 때의 index값을 알려줌\n",
    "print(t.max(dim=0)[0]) # max값\n",
    "print(t.max(dim=0)[1]) # max값의 index 즉, argmax"
   ]
  },
  {
   "cell_type": "code",
   "execution_count": 54,
   "id": "6d9ec1fe-aecc-4524-8cc3-b5b5145cd9ef",
   "metadata": {},
   "outputs": [
    {
     "name": "stdout",
     "output_type": "stream",
     "text": [
      "torch.return_types.max(\n",
      "values=tensor([3., 4.]),\n",
      "indices=tensor([0, 1]))\n",
      "tensor([3., 4.])\n",
      "tensor([0, 1])\n"
     ]
    }
   ],
   "source": [
    "print(t.max(dim=1))\n",
    "print(t.max(dim=1)[0])\n",
    "print(t.max(dim=1)[1])"
   ]
  }
 ],
 "metadata": {
  "kernelspec": {
   "display_name": "Python 3 (ipykernel)",
   "language": "python",
   "name": "python3"
  },
  "language_info": {
   "codemirror_mode": {
    "name": "ipython",
    "version": 3
   },
   "file_extension": ".py",
   "mimetype": "text/x-python",
   "name": "python",
   "nbconvert_exporter": "python",
   "pygments_lexer": "ipython3",
   "version": "3.8.11"
  }
 },
 "nbformat": 4,
 "nbformat_minor": 5
}
