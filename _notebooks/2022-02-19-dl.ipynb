{
 "cells": [
  {
   "cell_type": "markdown",
   "id": "5b6f2d7b-d020-4b3a-bf30-1b882f9ae3d9",
   "metadata": {},
   "source": [
    "# 3차원 데이터의 합성곱 연산, 풀링 계층"
   ]
  },
  {
   "cell_type": "markdown",
   "id": "1b730ace-f3cd-4259-99ed-ced2fe605c63",
   "metadata": {},
   "source": [
    "- 지금까지 2차원 형상을 다루는 합성곱 연산을 살펴봤다. 그러나 이미지만 해도 세로,가로,채널까지 총 3차원 데이터이다. \n",
    "- 채널 쪽으로 특징 맵이 여러 개 있다면 입력 데이터와 필터의 합성곱 연산을 채널마다 수행하고, 그 결과를 더해서 하나의 출력을 얻는다. \n",
    "- 3차원 합성곱 연산에서 주의할 점은 입력 데이터의 채널 수와 필터의 채널 수가 같아야 한다는 것이다. \n",
    "  - 한편 필터 자체의 크기는 원하는 값으로 설정할 수 있다. (단, 모든 채널의 필터가 같은 크기여야 한다.)"
   ]
  },
  {
   "cell_type": "markdown",
   "id": "8835f8ad-588e-44b0-b0b0-6d53095407ba",
   "metadata": {},
   "source": [
    "- 블록으로 생각하기\n",
    "  - 3차원의 합성곱 연산은 데이터와 필터를 직육면체 블록이라고 생각하면 쉽다. 예를들어 채널수C, 높이H, 너비W인 데이터의 형상은(C,H,W)로 쓴다. 필터도 같은 순서로 쓴다. \n",
    "  - 합성곱 연산의 출력으로 다수의 채널을 내보내려면 어떻게 해야할까\n",
    "    - 다수의 필터(가중치)를 사용하는 것이다. \n",
    "    - 이런 방식으로 완성된 블록을 다음 계층으로 넘기겠다는 것이 CNN의 처리 흐름이다. "
   ]
  },
  {
   "cell_type": "markdown",
   "id": "a2fb165b-d444-4bd8-9048-8ffdf080c33f",
   "metadata": {},
   "source": [
    "- 이상에서 보듯 합성곱 연산에서는 필터의 수도 고려해야 한다. 그런 이유로 필터의 가중치 데이터는 4차원 데이터이며(출력 채널 수, 입력 채널 수, 높이, 너비) 순으로 쓴다. "
   ]
  },
  {
   "cell_type": "markdown",
   "id": "927de94f-73e2-486a-b53d-9438ace93b63",
   "metadata": {},
   "source": [
    "- 합성곱 연산에서도 완전연결 계층과 마찬가지로 편향이 쓰인다. \n",
    "  - 편향은 채널 하나에 값 하나씩으로 구성된다. 이 예에서는 편향의 현상은 (FN,1,1)이고 필터의 출력 결과의 형상은 (FN,OH,OW)이다. 이 두블록을 더하면 편향의 각 값이 필터의 출력인 (FN,OH,OW) 블록의 대응 채널의 원소 모두에 더해진다. \n",
    "    - 참고로 형상이 다른 블록의 덧셈은 넘파이의 브로드캐스트 기능으로 쉽게 구현 가능하다."
   ]
  },
  {
   "cell_type": "markdown",
   "id": "f77d2a17-6070-4e04-9829-a3ea416d4c97",
   "metadata": {},
   "source": [
    "- 배치 처리\n",
    "  - 합성곱 연산도 마찬가지로 배치 처리를 지원하고자 한다. 그래서 각 계층으로 흐르는 데이터의 차원을 하나 늘려 4차원 데이터로 저장한다. 구체적으로는 데이터를 (데이터 수, 채널 수, 높이, 너비) 순으로 저장한다. \n",
    "  - 여기에서 주의할 점 : 신경망에 4차원 데이터가 하나 흐를 따마다 데이터 N개에 대한 합성곱 연산이 이뤄진다는 것이다. 즉, N회 분의 처리를 한 번에 수행하는 것이다. "
   ]
  },
  {
   "cell_type": "markdown",
   "id": "805c9b5f-1b81-4724-abc8-ab58809c6484",
   "metadata": {},
   "source": [
    "- 풀링 계층\n",
    "  - 풀링은 세로, 가로 방향의 공간을 줄이는 연산이다. \n",
    "  - 2x2 최대 풀링은 최댓값을 구하는 연산으로 2x2는 대상 영역의 크기를 뜻한다. 즉 2x2 최대 풀링은 2x2 크기의 영역에서 가장 큰 원소 하나를 꺼낸다. 또, 스트라이드는 이 예에서는 2로 설정했으므로 2x2 윈도우가 원소 2칸 간격으로 이동한다. 참고로 풀링의 윈도우 크기와 스트라이드는 같은 값으로 설정하는 것이 보통이다."
   ]
  },
  {
   "cell_type": "markdown",
   "id": "f20db091-97bd-43c7-b86e-1fdaaf2467ec",
   "metadata": {},
   "source": [
    "- 풀링 계층의 특징\n",
    "  - 1) 풀링 계층은 합성곱 계층과 달리 학습해야 할 매개변수가 없다. 풀링은 대상 영역에서 최댓값이나 평균을 취하는 명확한 처리이므로 특별히 학습할 것이 없다. \n",
    "  - 2) 풀링 연산은 입력 데이터의 채널 수 그대로 출력 데이터로 내보낸다. \n",
    "  - 3) 입력 데이터가 조금 변해도 풀링의 결과는 잘 변하지 않는다."
   ]
  },
  {
   "cell_type": "markdown",
   "id": "90c71028-780e-4369-96ae-f262bed5613b",
   "metadata": {},
   "source": [
    "---"
   ]
  },
  {
   "cell_type": "markdown",
   "id": "c3ec6091-fd09-47ad-a988-0d994c7225a3",
   "metadata": {},
   "source": [
    "- 합성곱 풀링 계층 구현하기\n",
    "  - CNN에서 계층 사이를 흐르는 데이터는 4차원이다. 예를 들어 데이터의 형상이 (10,1,28,28)이라면, 이는 높이28, 너비28, 채널1인 데이터가 10개라는 이야기이다. "
   ]
  },
  {
   "cell_type": "code",
   "execution_count": 3,
   "id": "74ff12e8-e7e0-40ad-8225-50f0f1d15a4d",
   "metadata": {},
   "outputs": [],
   "source": [
    "import numpy as np"
   ]
  },
  {
   "cell_type": "code",
   "execution_count": 4,
   "id": "4490f5bb-8608-48ae-8c0a-39d2a263901b",
   "metadata": {},
   "outputs": [
    {
     "data": {
      "text/plain": [
       "(10, 1, 28, 28)"
      ]
     },
     "execution_count": 4,
     "metadata": {},
     "output_type": "execute_result"
    }
   ],
   "source": [
    "x = np.random.rand(10,1,28,28)\n",
    "x.shape"
   ]
  },
  {
   "cell_type": "markdown",
   "id": "259135bc-0c1f-4446-89aa-7bed9ef63954",
   "metadata": {},
   "source": [
    "- 여기 10개 중 첫 번째 데이터에 접근하려면 단순히 x[0], 또, 첫 번째 데이터의 첫 채널의 공간 데이터에 접근하려면 x[0][0],x[0,0]을 통해 접근할 수 있다. \n",
    "- 이처럼 CNN은 4차원 데이터를 다룬다. 그래서 합성곱 연산의 구현은 복잡해질 것 같지만, 다음 절에서 설명하는 im2col(image to cloumn)이라는 트릭이 문제를 단순하게 만들 수 있다. "
   ]
  },
  {
   "cell_type": "markdown",
   "id": "8f47c558-469a-41e2-99d9-ad03d850a34a",
   "metadata": {},
   "source": [
    "- im2col\n",
    "  - 입력 데이터를 필터링(가중치 계산)하기 좋게 전개하는(펼치는) 함수이다. 3차원 입력 데이터에 im2col을 적용하면 2차원 행렬로 바뀐다. 정확히는 배치 안의 데이터 수까지 포함한 4차원 데이터를 2차원으로 변환한다. \n",
    "  - im2col은 필터링하기 좋게 입력 데이터를 전개한다. 구체적으로는 입력 데이터에서 필터를 적용하는 영역을 한 줄로 늘어놓는다. \n",
    "  - 이 전개를 필터를 적용하는 모든 영역에서 수행하는 게 im2col이다.\n",
    "  - 필터 적용 영역이 겹치게 되면 im2col로 전개한 후의 원소 수가 원래 블록의 원소 수보다 많아진다. 그래서 im2col을 사용해 구현하면 메모리를 더 많이 소비하는 단점이 있다. 그렇지만 이 문제를 행렬 계산으로 만들면 선형 대수 라이브러리를 활용해 효율을 높일 수 있다. "
   ]
  },
  {
   "cell_type": "markdown",
   "id": "0cf1844d-4802-492e-b66a-c4262e12b21e",
   "metadata": {},
   "source": [
    "- im2col 방식으로 출력한 결과는 2차원 행렬이다. CNN은 데이터를 4차원 배열로 저장하므로 2차원인 출력 데이터를 4차원으로 변형한다. 이상이 합성곱 계층의 구현 흐름이다. \n",
    "- im2col은 필터 크기, 스트라이드, 패딩을 고려하여 입력 데이터를 2차원 배열로 전개한다. 구현해보자"
   ]
  },
  {
   "cell_type": "code",
   "execution_count": 7,
   "id": "2f44962e-ba75-45a9-a171-61e5c4313b46",
   "metadata": {},
   "outputs": [
    {
     "name": "stdout",
     "output_type": "stream",
     "text": [
      "(9, 75)\n",
      "(90, 75)\n"
     ]
    }
   ],
   "source": [
    "import sys, os\n",
    "sys.path.append(os.pardir)\n",
    "from common.util import im2col\n",
    "\n",
    "x1 = np.random.rand(1, 3, 7, 7)\n",
    "col1 = im2col(x1, 5, 5, stride = 1, pad =0)\n",
    "print(col1.shape)\n",
    "\n",
    "x2 = np.random.rand(10, 3, 7, 7)\n",
    "col2 = im2col(x2, 5, 5, stride = 1, pad =0)\n",
    "print(col2.shape)"
   ]
  },
  {
   "cell_type": "markdown",
   "id": "3248f66c-fb52-42d8-a984-ebbc8fba473a",
   "metadata": {},
   "source": [
    "- im2col을 사용하여 합성곱 계층을 구현해보자"
   ]
  },
  {
   "cell_type": "code",
   "execution_count": 8,
   "id": "c9a3a328-3889-4ddc-97d3-e0cf06b40dbc",
   "metadata": {},
   "outputs": [],
   "source": [
    "class Convolution:\n",
    "    def __init__(self, W, b, stride=1,pad=0):\n",
    "        self.W=W\n",
    "        self.b=b\n",
    "        self.stride=stride\n",
    "        self.pad=pad\n",
    "    def forward(self, x):\n",
    "        FN, C, FH, FW = self.W.shape\n",
    "        N, C, H, W = x.shape\n",
    "        out_h = int(1 + ( H + 2*self.pad - FH)/ self.stride)\n",
    "        out_w = int(1 + ( W + 2*self.pad - FW)/ self.stride)\n",
    "        \n",
    "        col = im2col(x, FH, FW, self.stride, self.pad)\n",
    "        col_W = self.W.reshape(FN, -1).T\n",
    "        out = np.dot(col, col_W) + self.b\n",
    "        \n",
    "        out = im2col(x,FH,FW,self.stride, self.pad)\n",
    "        \n",
    "        return out"
   ]
  },
  {
   "cell_type": "markdown",
   "id": "472c001b-bc83-4289-9400-a016aac266c4",
   "metadata": {},
   "source": [
    "- 이상이 합성곱 계층의 forward 구현이다. \n",
    "- 합성곱 계층의 역전파는 im2col을 역으로 처리한다. "
   ]
  },
  {
   "cell_type": "markdown",
   "id": "13c0ff8d-8f9d-44a1-ad6b-b6f7e22da3a5",
   "metadata": {},
   "source": [
    "- 풀링 계층 구현도 합성곱 계층과 마찬가지로 im2col을 사용해 입력 데이터를 전개한다. \n",
    "  - 다만, 풀링의 경우엔 채널 쪽이 독립적이라는 점이 합성곱 계층 때와 다르다. "
   ]
  },
  {
   "cell_type": "code",
   "execution_count": 9,
   "id": "854c3caa-cbab-4d13-922c-4070d9b1a843",
   "metadata": {},
   "outputs": [],
   "source": [
    "class Pooling:\n",
    "    def __init__(self, pool_h, pool_w, stride = 1, pad=0):\n",
    "        self.pool_h = pool_h\n",
    "        self.pool_w = pool_w\n",
    "        self.stirde = pool_stirde\n",
    "        self.pad = pad\n",
    "        \n",
    "    def forward(self, w):\n",
    "        N, C, H, W = x.shape\n",
    "        out_h = int(1 + ( H + 2*self.pad - FH)/ self.stride)\n",
    "        out_w = int(1 + ( W + 2*self.pad - FW)/ self.stride)\n",
    "        \n",
    "        # 전개 \n",
    "        col = im2col(x, self.pool_h, self.pool_w, self.stride, self.pad)\n",
    "        col = col.reshape(-1, self.pool_h *self.pool_w)\n",
    "        \n",
    "        # 최댓값\n",
    "        out = np.max(col, axis = 1)\n",
    "        \n",
    "        # 성형\n",
    "        out = out.reshape(N, out_h, out_w, C).transpose(0,3,1,2)\n",
    "        \n",
    "        return out"
   ]
  },
  {
   "cell_type": "markdown",
   "id": "5b8aa86b-badf-487a-95c9-8a73b49499de",
   "metadata": {},
   "source": [
    "- 풀링 계층 구현\n",
    "  - 1) 입력 데이터를 전개한다. \n",
    "  - 2) 행별 최댓값을 구한다. \n",
    "  - 3) 적절한 모양으로 성형한다. \n",
    "  \n",
    "  \n",
    "  \n",
    "> 최댓값 계산에는 넘파이의 np.max 메서드를 사용할 수 있다. np.max는 인수로 축(axis)을 지정할 수 있는데, 이 인수로 지정한 축마다 최댓값을 구할 수 있다. 가령 np.max(x, axis=1)과 같이 쓰면 입력 x의 1번째 차원(0번째가 아닌)의 축마다 최댓값을 반환해준다."
   ]
  }
 ],
 "metadata": {
  "kernelspec": {
   "display_name": "Python 3 (ipykernel)",
   "language": "python",
   "name": "python3"
  },
  "language_info": {
   "codemirror_mode": {
    "name": "ipython",
    "version": 3
   },
   "file_extension": ".py",
   "mimetype": "text/x-python",
   "name": "python",
   "nbconvert_exporter": "python",
   "pygments_lexer": "ipython3",
   "version": "3.8.11"
  }
 },
 "nbformat": 4,
 "nbformat_minor": 5
}
