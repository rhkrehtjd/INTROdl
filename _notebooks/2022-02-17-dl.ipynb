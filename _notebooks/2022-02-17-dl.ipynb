{
 "cells": [
  {
   "cell_type": "markdown",
   "id": "cbb0dcf5-86b0-4150-bb66-cccbe0b2c09e",
   "metadata": {},
   "source": [
    "# 가중치 초깃값, 배치 정규화 등"
   ]
  },
  {
   "cell_type": "markdown",
   "id": "79d4d2a0-8d6d-41de-8ce6-6df65ef2e943",
   "metadata": {},
   "source": [
    "- 은닉층의 활성화값(활성화 함수의 출력 데이터)의 분포를 관찰하면 중요한 정보를 얻을 수 있다.\n",
    "  - 가중치의 초깃값에 따라 은닉층 활성화값들이 어떻게 변화하는지 알아보자\n",
    "  - 활성화 함수로 시그모이드 함수를 사용하는 5층 신경망에 무작위로 생성한 입력 데이터를 흘리며 각 층의 활성화값 분포를 히스토그램으로 그려보자"
   ]
  },
  {
   "cell_type": "code",
   "execution_count": 1,
   "id": "3b050404-1d3e-45d8-9c88-4e714f65b59c",
   "metadata": {},
   "outputs": [
    {
     "name": "stderr",
     "output_type": "stream",
     "text": [
      "C:\\Users\\ehfus\\Anaconda3\\envs\\dv2021\\lib\\site-packages\\numpy\\_distributor_init.py:30: UserWarning: loaded more than 1 DLL from .libs:\n",
      "C:\\Users\\ehfus\\Anaconda3\\envs\\dv2021\\lib\\site-packages\\numpy\\.libs\\libopenblas.EL2C6PLE4ZYW3ECEVIV3OXXGRN2NRFM2.gfortran-win_amd64.dll\n",
      "C:\\Users\\ehfus\\Anaconda3\\envs\\dv2021\\lib\\site-packages\\numpy\\.libs\\libopenblas.XWYDX2IKJW2NMTWSFYNGFUWKQU3LYTCZ.gfortran-win_amd64.dll\n",
      "  warnings.warn(\"loaded more than 1 DLL from .libs:\"\n"
     ]
    },
    {
     "data": {
      "image/png": "[encoded data removed]",
      "text/plain": [
       "<Figure size 432x288 with 5 Axes>"
      ]
     },
     "metadata": {
      "needs_background": "light"
     },
     "output_type": "display_data"
    }
   ],
   "source": [
    "import numpy as np\n",
    "import matplotlib.pyplot as plt\n",
    "\n",
    "\n",
    "def sigmoid(x):\n",
    "    return 1 / (1 + np.exp(-x))\n",
    "\n",
    "x = np.random.randn(1000, 100)  # 1000개의 데이터\n",
    "node_num = 100  # 각 은닉층의 노드(뉴런) 수\n",
    "hidden_layer_size = 5  # 은닉층이 5개\n",
    "activations = {}  # 이곳에 활성화 결과를 저장\n",
    "\n",
    "for i in range(hidden_layer_size):\n",
    "    if i != 0:\n",
    "        x = activations[i-1]\n",
    "    \n",
    "    w = np.random.randn(node_num, node_num) * 1\n",
    "    a = np.dot(x, w)\n",
    "    z = sigmoid(a)\n",
    "    activations[i] = z\n",
    "\n",
    "# 히스토그램 그리기\n",
    "for i, a in activations.items():\n",
    "    plt.subplot(1, len(activations), i+1)\n",
    "    plt.title(str(i+1) + \"-layer\")\n",
    "    if i != 0: plt.yticks([], [])\n",
    "    # plt.xlim(0.1, 1)\n",
    "    # plt.ylim(0, 7000)\n",
    "    plt.hist(a.flatten(), 30, range=(0,1))\n",
    "plt.show()"
   ]
  },
  {
   "cell_type": "markdown",
   "id": "e09d6bf7-8707-4002-97b3-8ab598a7876c",
   "metadata": {},
   "source": [
    "- 각 층의 활성화값들이 0과 1에 치우쳐 분포되어 있다.\n",
    "- 여기에서 사용한 시그모이드 함수는 그 출력이 0에 가까워지자 또는 1에 가까워지자 그 미분은 0에 다가간다. 그래서 데이터가 0과 1에 치우쳐 분포하게 되면 역전파의 기울기 값이 점점 작아지다가 사라진다.\n",
    "- 이것이 `기울기 소실`이다. \n",
    "- 이번에는 가중치의 표준편차를 0.01로 바꿔 같은 실험을 반복해보자"
   ]
  },
  {
   "cell_type": "code",
   "execution_count": 2,
   "id": "40dba29c-116a-45be-894e-6eb1ea215847",
   "metadata": {},
   "outputs": [
    {
     "data": {
      "image/png": "[encoded data removed]",
      "text/plain": [
       "<Figure size 432x288 with 5 Axes>"
      ]
     },
     "metadata": {
      "needs_background": "light"
     },
     "output_type": "display_data"
    }
   ],
   "source": [
    "import numpy as np\n",
    "import matplotlib.pyplot as plt\n",
    "\n",
    "\n",
    "def sigmoid(x):\n",
    "    return 1 / (1 + np.exp(-x))\n",
    "\n",
    "x = np.random.randn(1000, 100)  # 1000개의 데이터\n",
    "node_num = 100  # 각 은닉층의 노드(뉴런) 수\n",
    "hidden_layer_size = 5  # 은닉층이 5개\n",
    "activations = {}  # 이곳에 활성화 결과를 저장\n",
    "\n",
    "for i in range(hidden_layer_size):\n",
    "    if i != 0:\n",
    "        x = activations[i-1]\n",
    "    \n",
    "    w = np.random.randn(node_num, node_num) * 0.01\n",
    "    a = np.dot(x, w)\n",
    "    z = sigmoid(a)\n",
    "    activations[i] = z\n",
    "\n",
    "# 히스토그램 그리기\n",
    "for i, a in activations.items():\n",
    "    plt.subplot(1, len(activations), i+1)\n",
    "    plt.title(str(i+1) + \"-layer\")\n",
    "    if i != 0: plt.yticks([], [])\n",
    "    # plt.xlim(0.1, 1)\n",
    "    # plt.ylim(0, 7000)\n",
    "    plt.hist(a.flatten(), 30, range=(0,1))\n",
    "plt.show()"
   ]
  },
  {
   "cell_type": "markdown",
   "id": "0f2ef456-56cb-4d6e-b289-228f1ca319be",
   "metadata": {},
   "source": [
    "- 이번에는 0.5 부근에 집중되어 있다. 앞의 그래프처럼 0과 1에 치우치진 않았으니 기울기 소실 문제는 일어나지 않지만 활성화값들이 치우쳤다는 것은 표현력 관점에서는 큰 문제가 있는 것이다.\n",
    "- 즉, 다수의 뉴런이 거의 같은 값을 출력하고 있으니 뉴런을 여러 개 둔 의미가 없어진다는 뜻이다. \n",
    "- 예를 들어, 뉴런 100개가 거의 같은 값을 출력한다면 뉴런 1개짜리와 별반 다를 게 없는 것이다. \n",
    "- 그래서 활성화값들이 치우치면 표현력을 제한한다는 관점에서 문제가 된다. \n",
    "- 각 층의 활성화값은 적당히 고루 분포되어야 한다. 층과 층 사이에 적당하게 다양한 데이터가 흐르게 해야 신경망 학습이 효율적으로 이루어지기 때문이다. 치우친 데이터가 흐르면 기울기 소실이나 표현력 제한 문제에 빠져 학습이 잘 이루어지지 않을 수 있다. "
   ]
  },
  {
   "cell_type": "markdown",
   "id": "2d1b79e5-a923-4d42-b8cd-9b612e25e706",
   "metadata": {},
   "source": [
    "- 권장되는 Xavier 초깃값을 써보자\n",
    "  - 이 초깃값을 사용하면 앞 층에 노드가 많을수록 대상 노드의 초깃값으로 설정하는 가중치가 좁게 퍼진다. "
   ]
  },
  {
   "cell_type": "code",
   "execution_count": 3,
   "id": "58f8023a-5a84-4219-bd50-f11aabac3c7c",
   "metadata": {},
   "outputs": [
    {
     "data": {
      "image/png": "[encoded data removed]",
      "text/plain": [
       "<Figure size 432x288 with 5 Axes>"
      ]
     },
     "metadata": {
      "needs_background": "light"
     },
     "output_type": "display_data"
    }
   ],
   "source": [
    "import numpy as np\n",
    "import matplotlib.pyplot as plt\n",
    "\n",
    "\n",
    "def sigmoid(x):\n",
    "    return 1 / (1 + np.exp(-x))\n",
    "\n",
    "x = np.random.randn(1000, 100)  # 1000개의 데이터\n",
    "node_num = 100  # 각 은닉층의 노드(뉴런) 수\n",
    "hidden_layer_size = 5  # 은닉층이 5개\n",
    "activations = {}  # 이곳에 활성화 결과를 저장\n",
    "\n",
    "for i in range(hidden_layer_size):\n",
    "    if i != 0:\n",
    "        x = activations[i-1]\n",
    "    \n",
    "    w = np.random.randn(node_num, node_num) / np.sqrt(node_num)\n",
    "    a = np.dot(x, w)\n",
    "    z = sigmoid(a)\n",
    "    activations[i] = z\n",
    "\n",
    "# 히스토그램 그리기\n",
    "for i, a in activations.items():\n",
    "    plt.subplot(1, len(activations), i+1)\n",
    "    plt.title(str(i+1) + \"-layer\")\n",
    "    if i != 0: plt.yticks([], [])\n",
    "    # plt.xlim(0.1, 1)\n",
    "    # plt.ylim(0, 7000)\n",
    "    plt.hist(a.flatten(), 30, range=(0,1))\n",
    "plt.show()"
   ]
  },
  {
   "cell_type": "markdown",
   "id": "a2c29688-23ed-4f17-a78d-81519f9947cb",
   "metadata": {},
   "source": [
    "- 층이 깊어지면서 형태가 다소 일그러지지만, 앞에서 본 방식보다는 확연히 넓게 분포되는 것을 알 수 있다. \n",
    "- 각 층에 흐르는 데이터는 적당히 퍼져 있으므로 시그모이드 함수의 표현력도 제한받지 않고, 학습이 효율적으로 이뤄질 것으로 기대할 수 있다. "
   ]
  },
  {
   "cell_type": "markdown",
   "id": "286ac6db-7a9a-4c7d-9f27-a772a020aba9",
   "metadata": {},
   "source": [
    "- Xavier 초깃값을 활성화 함수가 선형인 것을 전제로 이끈 결과이다. 시그모이드 함수와 tanh 함수는 좌우 대칭이라 중앙 부근이 선형인 함수로 볼 수 있다. 그래서 Xavier 초깃값이 적당하다. \n",
    "- 반면 ReLU를 이용할 때는 ReLU에 특화된 초깃값을 이용하라고 권장한다. \n",
    "- 해당 초깃값을 He 초깃값이라 한다."
   ]
  },
  {
   "cell_type": "code",
   "execution_count": 4,
   "id": "2b82f1fa-cd83-4f32-b866-46870e8feb27",
   "metadata": {},
   "outputs": [
    {
     "data": {
      "image/png": "[encoded data removed]",
      "text/plain": [
       "<Figure size 432x288 with 5 Axes>"
      ]
     },
     "metadata": {
      "needs_background": "light"
     },
     "output_type": "display_data"
    }
   ],
   "source": [
    "import numpy as np\n",
    "import matplotlib.pyplot as plt\n",
    "\n",
    "\n",
    "def relu(x):\n",
    "    return np.maximum(0,x)\n",
    "\n",
    "x = np.random.randn(1000, 100)  # 1000개의 데이터\n",
    "node_num = 100  # 각 은닉층의 노드(뉴런) 수\n",
    "hidden_layer_size = 5  # 은닉층이 5개\n",
    "activations = {}  # 이곳에 활성화 결과를 저장\n",
    "\n",
    "for i in range(hidden_layer_size):\n",
    "    if i != 0:\n",
    "        x = activations[i-1]\n",
    "    \n",
    "    w = np.random.randn(node_num, node_num) * np.sqrt(2) / np.sqrt(node_num)\n",
    "    a = np.dot(x, w)\n",
    "    z = relu(a)\n",
    "    activations[i] = z\n",
    "\n",
    "# 히스토그램 그리기\n",
    "for i, a in activations.items():\n",
    "    plt.subplot(1, len(activations), i+1)\n",
    "    plt.title(str(i+1) + \"-layer\")\n",
    "    if i != 0: plt.yticks([], [])\n",
    "    # plt.xlim(0.1, 1)\n",
    "    # plt.ylim(0, 7000)\n",
    "    plt.hist(a.flatten(), 30, range=(0,1))\n",
    "plt.show()"
   ]
  },
  {
   "cell_type": "markdown",
   "id": "d5895a9a-a49d-433f-a0cc-4b3a397f179f",
   "metadata": {},
   "source": [
    "- He 초깃값은 모든 층에서 균일하게 분포되어 있다.\n",
    "- 층이 깊어져도 분포가 균일하게 유지되기에 역전파 때도 적절한 값이 나올 것으로 기대할 수 있다. \n",
    "- 따라서 활성화 함수로 ReLU를 사용할 때는 He 초깃값을, sigmoid마 tanh 등의 S자 모양 곡선일 때는 Xavier 초깃값을 쓴다. "
   ]
  },
  {
   "cell_type": "markdown",
   "id": "84d0a974-6ffd-469a-8dd0-617897c68584",
   "metadata": {},
   "source": [
    "---"
   ]
  },
  {
   "cell_type": "markdown",
   "id": "956d1e97-6f8b-4ab7-8481-c79cc6a8302f",
   "metadata": {},
   "source": [
    "- MNIST 데이터셋으로 본 가중치 초깃값 비교\n",
    "  - 실제 데이터를 가지고 가중치의 초깃값을 주는 방법이 신경망 학습에 얼마나 영향을 주는지 알아보자"
   ]
  },
  {
   "cell_type": "code",
   "execution_count": 5,
   "id": "9e5fe1ea-0feb-4578-a815-fb1993dcb4f5",
   "metadata": {},
   "outputs": [
    {
     "name": "stdout",
     "output_type": "stream",
     "text": [
      "===========iteration:0===========\n",
      "std=0.01:2.302429797639348\n",
      "Xavier:2.3026148669107496\n",
      "He:2.277857804579289\n",
      "===========iteration:100===========\n",
      "std=0.01:2.303292853997276\n",
      "Xavier:2.234326172265587\n",
      "He:1.5005924485044848\n",
      "===========iteration:200===========\n",
      "std=0.01:2.301417343514494\n",
      "Xavier:2.087924436660839\n",
      "He:0.7067580473137639\n",
      "===========iteration:300===========\n",
      "std=0.01:2.3013438187421946\n",
      "Xavier:1.770500143384992\n",
      "He:0.5602112129657093\n",
      "===========iteration:400===========\n",
      "std=0.01:2.3014368742428744\n",
      "Xavier:1.3176740433596514\n",
      "He:0.3681439703994114\n",
      "===========iteration:500===========\n",
      "std=0.01:2.3044005756657437\n",
      "Xavier:0.9902237159385396\n",
      "He:0.30892714112828057\n",
      "===========iteration:600===========\n",
      "std=0.01:2.3030591310458215\n",
      "Xavier:0.7526462154317728\n",
      "He:0.40218584589549555\n",
      "===========iteration:700===========\n",
      "std=0.01:2.3041291713479843\n",
      "Xavier:0.586208347563391\n",
      "He:0.3337892925219035\n",
      "===========iteration:800===========\n",
      "std=0.01:2.303364952400675\n",
      "Xavier:0.63464499915734\n",
      "He:0.41187381352936203\n",
      "===========iteration:900===========\n",
      "std=0.01:2.2975302040733254\n",
      "Xavier:0.30952570462933804\n",
      "He:0.16631918507970234\n",
      "===========iteration:1000===========\n",
      "std=0.01:2.296942843621004\n",
      "Xavier:0.3161938527906491\n",
      "He:0.18967482624871215\n",
      "===========iteration:1100===========\n",
      "std=0.01:2.2994930233988304\n",
      "Xavier:0.3459259879231751\n",
      "He:0.26021137128760713\n",
      "===========iteration:1200===========\n",
      "std=0.01:2.2992459071770277\n",
      "Xavier:0.34298167086324327\n",
      "He:0.2288704138513741\n",
      "===========iteration:1300===========\n",
      "std=0.01:2.304113865320631\n",
      "Xavier:0.35294921013770564\n",
      "He:0.18997185815254125\n",
      "===========iteration:1400===========\n",
      "std=0.01:2.298613076761841\n",
      "Xavier:0.4594074014741365\n",
      "He:0.27355975550609296\n",
      "===========iteration:1500===========\n",
      "std=0.01:2.2987149901527157\n",
      "Xavier:0.35297086572944764\n",
      "He:0.2800627974265304\n",
      "===========iteration:1600===========\n",
      "std=0.01:2.302619261878843\n",
      "Xavier:0.29813585576266644\n",
      "He:0.19331724426040525\n",
      "===========iteration:1700===========\n",
      "std=0.01:2.309549447205139\n",
      "Xavier:0.3326361965668827\n",
      "He:0.2399589526449093\n",
      "===========iteration:1800===========\n",
      "std=0.01:2.301983183071444\n",
      "Xavier:0.26631561315403807\n",
      "He:0.1804474045819951\n",
      "===========iteration:1900===========\n",
      "std=0.01:2.2996949081037243\n",
      "Xavier:0.38827001458299426\n",
      "He:0.24350341698182332\n"
     ]
    },
    {
     "data": {
      "image/png": "[encoded data removed]",
      "text/plain": [
       "<Figure size 432x288 with 1 Axes>"
      ]
     },
     "metadata": {
      "needs_background": "light"
     },
     "output_type": "display_data"
    }
   ],
   "source": [
    "import os\n",
    "import sys\n",
    "\n",
    "sys.path.append(os.pardir)  # 부모 디렉터리의 파일을 가져올 수 있도록 설정\n",
    "import numpy as np\n",
    "import matplotlib.pyplot as plt\n",
    "from dataset.mnist import load_mnist\n",
    "from common.util import smooth_curve\n",
    "from common.multi_layer_net import MultiLayerNet\n",
    "from common.optimizer import SGD\n",
    "\n",
    "\n",
    "# 0. MNIST 데이터 읽기==========\n",
    "(x_train, t_train), (x_test, t_test) = load_mnist(normalize=True)\n",
    "\n",
    "train_size = x_train.shape[0]\n",
    "batch_size = 128\n",
    "max_iterations = 2000\n",
    "\n",
    "\n",
    "# 1. 실험용 설정==========\n",
    "weight_init_types = {'std=0.01': 0.01, 'Xavier': 'sigmoid', 'He': 'relu'}\n",
    "optimizer = SGD(lr=0.01)\n",
    "\n",
    "networks = {}\n",
    "train_loss = {}\n",
    "for key, weight_type in weight_init_types.items():\n",
    "    networks[key] = MultiLayerNet(input_size=784, hidden_size_list=[100, 100, 100, 100],\n",
    "                                  output_size=10, weight_init_std=weight_type)\n",
    "    train_loss[key] = []\n",
    "\n",
    "\n",
    "# 2. 훈련 시작==========\n",
    "for i in range(max_iterations):\n",
    "    batch_mask = np.random.choice(train_size, batch_size)\n",
    "    x_batch = x_train[batch_mask]\n",
    "    t_batch = t_train[batch_mask]\n",
    "    \n",
    "    for key in weight_init_types.keys():\n",
    "        grads = networks[key].gradient(x_batch, t_batch)\n",
    "        optimizer.update(networks[key].params, grads)\n",
    "    \n",
    "        loss = networks[key].loss(x_batch, t_batch)\n",
    "        train_loss[key].append(loss)\n",
    "    \n",
    "    if i % 100 == 0:\n",
    "        print(\"===========\" + \"iteration:\" + str(i) + \"===========\")\n",
    "        for key in weight_init_types.keys():\n",
    "            loss = networks[key].loss(x_batch, t_batch)\n",
    "            print(key + \":\" + str(loss))\n",
    "\n",
    "\n",
    "# 3. 그래프 그리기==========\n",
    "markers = {'std=0.01': 'o', 'Xavier': 's', 'He': 'D'}\n",
    "x = np.arange(max_iterations)\n",
    "for key in weight_init_types.keys():\n",
    "    plt.plot(x, smooth_curve(train_loss[key]), marker=markers[key], markevery=100, label=key)\n",
    "plt.xlabel(\"iterations\")\n",
    "plt.ylabel(\"loss\")\n",
    "plt.ylim(0, 2.5)\n",
    "plt.legend()\n",
    "plt.show()"
   ]
  },
  {
   "cell_type": "markdown",
   "id": "4f0b091a-509b-47a2-93f2-1d173c4c835d",
   "metadata": {},
   "source": [
    "- std = 0.01일 때는 학습이 전혀 이루어지지 않고 있다.\n",
    "  - 순전파 때 너무 작은 값(0 근처로 밀집한 데이터)이 흐르기 때문이다. 그로 인해 역전파 때의 기울기도 작아져 가중치가 거의 갱신되지 않는 것이다. \n",
    "- He 초깃값이나 Xavier의 경우 학습이 순조롭게 이뤄지고 있음을 알 수 있다. \n",
    "  - 다만 학습 진도는 He 초깃값 쪽이 더 빠르다.\n",
    "  "
   ]
  },
  {
   "cell_type": "markdown",
   "id": "2ca217ce-98a2-4648-9c59-e9db017ba53d",
   "metadata": {},
   "source": [
    "---"
   ]
  },
  {
   "cell_type": "markdown",
   "id": "d0c36429-bf23-40a5-ae90-aa7c33dd8765",
   "metadata": {},
   "source": [
    "- 배치 정규화\n",
    "  - 각 층이 활성화를 적당히 퍼뜨리도록 강제해보자\n",
    "    - 1) 학습을 빨리 진행할 수 있다.\n",
    "    - 2) 초깃값에 크게 의존하지 않는다.\n",
    "    - 3) 오버피팅을 억제한다.\n",
    "  - 데이터 분포를 정규화하는 배치 정규화 계층을 신경망에 삽입한다."
   ]
  },
  {
   "cell_type": "markdown",
   "id": "d6a1b11c-dcb2-41a0-8733-62ba558554bc",
   "metadata": {},
   "source": [
    "- 미니배치 B라는 m개의 입력 데이터의 집합에 대해 평군과 분산을 구한다.\n",
    "- 그리고 입력 데이터를 평균이 0 분산이 1이 되게 정규화한다. \n",
    "- 미니배치 입력 데이터를 평균 0, 분산 1인 데이터로 변환해주는 처리를 활성화 함수의 앞 혹은 뒤에 삽입함으로써 데이터 분포가 덜 치우치게 할 수 있다. \n",
    "- 또, 배치 정규화 계층마다 이 정규화된 데이터 대한 고유한 확대와 이동 변환을 수행한다. (수식은 교재 212p를  참고한다. )"
   ]
  },
  {
   "cell_type": "markdown",
   "id": "b6000a38-1d65-4760-b8cc-3f8d9205b5c0",
   "metadata": {},
   "source": [
    "- 해당 배치 정규화의 알고리즘이 신경망에서 순전파 때 적용된다. "
   ]
  },
  {
   "cell_type": "markdown",
   "id": "9ab10a77-9b17-4051-93b0-dca2437bc5c2",
   "metadata": {},
   "source": [
    "- MNIST 데이터 셋을 사용하여 배치 정규화 계층을 사용할 때와 사용하지 않을 때의 학습 진도가 어떻게 달라지는지 살펴보자"
   ]
  },
  {
   "cell_type": "code",
   "execution_count": 6,
   "id": "5f2fbff6-e229-4a40-8701-9bd9ade97aae",
   "metadata": {},
   "outputs": [
    {
     "name": "stdout",
     "output_type": "stream",
     "text": [
      "============== 1/16 ==============\n",
      "epoch:0 | 0.099 - 0.112\n",
      "epoch:1 | 0.097 - 0.129\n"
     ]
    },
    {
     "name": "stderr",
     "output_type": "stream",
     "text": [
      "C:\\Users\\ehfus\\Downloads\\DeepLearning\\deep-learning-from-scratch-master\\ch06\\..\\common\\multi_layer_net_extend.py:104: RuntimeWarning: overflow encountered in square\n",
      "  weight_decay += 0.5 * self.weight_decay_lambda * np.sum(W**2)\n",
      "C:\\Users\\ehfus\\Downloads\\DeepLearning\\deep-learning-from-scratch-master\\ch06\\..\\common\\multi_layer_net_extend.py:104: RuntimeWarning: invalid value encountered in double_scalars\n",
      "  weight_decay += 0.5 * self.weight_decay_lambda * np.sum(W**2)\n",
      "C:\\Users\\ehfus\\Downloads\\DeepLearning\\deep-learning-from-scratch-master\\ch06\\..\\common\\functions.py:34: RuntimeWarning: invalid value encountered in subtract\n",
      "  x = x - np.max(x, axis=0)\n"
     ]
    },
    {
     "name": "stdout",
     "output_type": "stream",
     "text": [
      "epoch:2 | 0.097 - 0.166\n",
      "epoch:3 | 0.097 - 0.178\n",
      "epoch:4 | 0.097 - 0.181\n",
      "epoch:5 | 0.097 - 0.195\n",
      "epoch:6 | 0.097 - 0.218\n",
      "epoch:7 | 0.097 - 0.238\n",
      "epoch:8 | 0.097 - 0.245\n",
      "epoch:9 | 0.097 - 0.251\n",
      "epoch:10 | 0.097 - 0.285\n",
      "epoch:11 | 0.097 - 0.3\n",
      "epoch:12 | 0.097 - 0.316\n",
      "epoch:13 | 0.097 - 0.331\n",
      "epoch:14 | 0.097 - 0.339\n",
      "epoch:15 | 0.097 - 0.351\n",
      "epoch:16 | 0.097 - 0.366\n",
      "epoch:17 | 0.097 - 0.382\n",
      "epoch:18 | 0.097 - 0.393\n"
     ]
    },
    {
     "name": "stderr",
     "output_type": "stream",
     "text": [
      "No handles with labels found to put in legend.\n"
     ]
    },
    {
     "name": "stdout",
     "output_type": "stream",
     "text": [
      "epoch:19 | 0.097 - 0.401\n",
      "============== 2/16 ==============\n",
      "epoch:0 | 0.097 - 0.092\n",
      "epoch:1 | 0.097 - 0.102\n"
     ]
    },
    {
     "name": "stderr",
     "output_type": "stream",
     "text": [
      "C:\\Users\\ehfus\\Downloads\\DeepLearning\\deep-learning-from-scratch-master\\ch06\\..\\common\\multi_layer_net_extend.py:104: RuntimeWarning: overflow encountered in square\n",
      "  weight_decay += 0.5 * self.weight_decay_lambda * np.sum(W**2)\n",
      "C:\\Users\\ehfus\\Downloads\\DeepLearning\\deep-learning-from-scratch-master\\ch06\\..\\common\\multi_layer_net_extend.py:104: RuntimeWarning: invalid value encountered in double_scalars\n",
      "  weight_decay += 0.5 * self.weight_decay_lambda * np.sum(W**2)\n"
     ]
    },
    {
     "name": "stdout",
     "output_type": "stream",
     "text": [
      "epoch:2 | 0.097 - 0.125\n",
      "epoch:3 | 0.097 - 0.16\n",
      "epoch:4 | 0.097 - 0.197\n",
      "epoch:5 | 0.097 - 0.222\n",
      "epoch:6 | 0.097 - 0.236\n",
      "epoch:7 | 0.097 - 0.267\n",
      "epoch:8 | 0.097 - 0.284\n",
      "epoch:9 | 0.097 - 0.316\n",
      "epoch:10 | 0.097 - 0.343\n",
      "epoch:11 | 0.097 - 0.357\n",
      "epoch:12 | 0.097 - 0.372\n",
      "epoch:13 | 0.097 - 0.387\n",
      "epoch:14 | 0.097 - 0.401\n",
      "epoch:15 | 0.097 - 0.423\n",
      "epoch:16 | 0.097 - 0.442\n",
      "epoch:17 | 0.097 - 0.46\n"
     ]
    },
    {
     "name": "stderr",
     "output_type": "stream",
     "text": [
      "No handles with labels found to put in legend.\n"
     ]
    },
    {
     "name": "stdout",
     "output_type": "stream",
     "text": [
      "epoch:18 | 0.097 - 0.465\n",
      "epoch:19 | 0.097 - 0.479\n",
      "============== 3/16 ==============\n",
      "epoch:0 | 0.098 - 0.092\n",
      "epoch:1 | 0.361 - 0.13\n",
      "epoch:2 | 0.488 - 0.165\n",
      "epoch:3 | 0.605 - 0.183\n",
      "epoch:4 | 0.674 - 0.207\n",
      "epoch:5 | 0.717 - 0.254\n",
      "epoch:6 | 0.78 - 0.297\n",
      "epoch:7 | 0.813 - 0.324\n",
      "epoch:8 | 0.831 - 0.371\n",
      "epoch:9 | 0.867 - 0.4\n",
      "epoch:10 | 0.905 - 0.439\n",
      "epoch:11 | 0.903 - 0.466\n",
      "epoch:12 | 0.919 - 0.498\n",
      "epoch:13 | 0.935 - 0.529\n",
      "epoch:14 | 0.941 - 0.551\n",
      "epoch:15 | 0.949 - 0.566\n",
      "epoch:16 | 0.958 - 0.585\n",
      "epoch:17 | 0.967 - 0.613\n",
      "epoch:18 | 0.967 - 0.626\n",
      "epoch:19 | 0.971 - 0.643\n"
     ]
    },
    {
     "name": "stderr",
     "output_type": "stream",
     "text": [
      "No handles with labels found to put in legend.\n"
     ]
    },
    {
     "name": "stdout",
     "output_type": "stream",
     "text": [
      "============== 4/16 ==============\n",
      "epoch:0 | 0.099 - 0.099\n",
      "epoch:1 | 0.207 - 0.093\n",
      "epoch:2 | 0.367 - 0.183\n",
      "epoch:3 | 0.484 - 0.242\n",
      "epoch:4 | 0.569 - 0.285\n",
      "epoch:5 | 0.623 - 0.336\n",
      "epoch:6 | 0.661 - 0.389\n",
      "epoch:7 | 0.689 - 0.44\n",
      "epoch:8 | 0.726 - 0.493\n",
      "epoch:9 | 0.743 - 0.538\n",
      "epoch:10 | 0.763 - 0.569\n",
      "epoch:11 | 0.771 - 0.613\n",
      "epoch:12 | 0.782 - 0.638\n",
      "epoch:13 | 0.797 - 0.672\n",
      "epoch:14 | 0.818 - 0.689\n",
      "epoch:15 | 0.839 - 0.711\n",
      "epoch:16 | 0.841 - 0.73\n",
      "epoch:17 | 0.857 - 0.746\n",
      "epoch:18 | 0.869 - 0.766\n",
      "epoch:19 | 0.866 - 0.781\n"
     ]
    },
    {
     "name": "stderr",
     "output_type": "stream",
     "text": [
      "No handles with labels found to put in legend.\n"
     ]
    },
    {
     "name": "stdout",
     "output_type": "stream",
     "text": [
      "============== 5/16 ==============\n",
      "epoch:0 | 0.091 - 0.101\n",
      "epoch:1 | 0.101 - 0.167\n",
      "epoch:2 | 0.111 - 0.277\n",
      "epoch:3 | 0.121 - 0.395\n",
      "epoch:4 | 0.122 - 0.532\n",
      "epoch:5 | 0.136 - 0.597\n",
      "epoch:6 | 0.155 - 0.642\n",
      "epoch:7 | 0.177 - 0.688\n",
      "epoch:8 | 0.185 - 0.726\n",
      "epoch:9 | 0.195 - 0.746\n",
      "epoch:10 | 0.219 - 0.772\n",
      "epoch:11 | 0.231 - 0.789\n",
      "epoch:12 | 0.242 - 0.8\n",
      "epoch:13 | 0.232 - 0.813\n",
      "epoch:14 | 0.248 - 0.822\n",
      "epoch:15 | 0.24 - 0.837\n",
      "epoch:16 | 0.254 - 0.844\n",
      "epoch:17 | 0.253 - 0.851\n",
      "epoch:18 | 0.265 - 0.863\n",
      "epoch:19 | 0.263 - 0.873\n"
     ]
    },
    {
     "name": "stderr",
     "output_type": "stream",
     "text": [
      "No handles with labels found to put in legend.\n"
     ]
    },
    {
     "name": "stdout",
     "output_type": "stream",
     "text": [
      "============== 6/16 ==============\n",
      "epoch:0 | 0.114 - 0.123\n",
      "epoch:1 | 0.117 - 0.169\n",
      "epoch:2 | 0.117 - 0.356\n",
      "epoch:3 | 0.117 - 0.52\n",
      "epoch:4 | 0.117 - 0.633\n",
      "epoch:5 | 0.16 - 0.692\n",
      "epoch:6 | 0.14 - 0.74\n",
      "epoch:7 | 0.117 - 0.771\n",
      "epoch:8 | 0.117 - 0.785\n",
      "epoch:9 | 0.117 - 0.816\n",
      "epoch:10 | 0.117 - 0.829\n",
      "epoch:11 | 0.117 - 0.843\n",
      "epoch:12 | 0.117 - 0.854\n",
      "epoch:13 | 0.117 - 0.873\n",
      "epoch:14 | 0.117 - 0.885\n",
      "epoch:15 | 0.117 - 0.9\n",
      "epoch:16 | 0.117 - 0.911\n",
      "epoch:17 | 0.137 - 0.921\n"
     ]
    },
    {
     "name": "stderr",
     "output_type": "stream",
     "text": [
      "No handles with labels found to put in legend.\n"
     ]
    },
    {
     "name": "stdout",
     "output_type": "stream",
     "text": [
      "epoch:18 | 0.204 - 0.927\n",
      "epoch:19 | 0.144 - 0.932\n",
      "============== 7/16 ==============\n",
      "epoch:0 | 0.117 - 0.094\n",
      "epoch:1 | 0.117 - 0.31\n",
      "epoch:2 | 0.117 - 0.617\n",
      "epoch:3 | 0.117 - 0.744\n",
      "epoch:4 | 0.117 - 0.802\n",
      "epoch:5 | 0.116 - 0.843\n",
      "epoch:6 | 0.117 - 0.862\n",
      "epoch:7 | 0.117 - 0.893\n",
      "epoch:8 | 0.117 - 0.912\n",
      "epoch:9 | 0.117 - 0.926\n",
      "epoch:10 | 0.117 - 0.942\n",
      "epoch:11 | 0.117 - 0.952\n",
      "epoch:12 | 0.117 - 0.957\n",
      "epoch:13 | 0.117 - 0.962\n",
      "epoch:14 | 0.117 - 0.968\n",
      "epoch:15 | 0.117 - 0.975\n",
      "epoch:16 | 0.117 - 0.981\n",
      "epoch:17 | 0.117 - 0.986\n",
      "epoch:18 | 0.117 - 0.988\n"
     ]
    },
    {
     "name": "stderr",
     "output_type": "stream",
     "text": [
      "No handles with labels found to put in legend.\n"
     ]
    },
    {
     "name": "stdout",
     "output_type": "stream",
     "text": [
      "epoch:19 | 0.117 - 0.989\n",
      "============== 8/16 ==============\n",
      "epoch:0 | 0.092 - 0.094\n",
      "epoch:1 | 0.099 - 0.441\n",
      "epoch:2 | 0.105 - 0.622\n",
      "epoch:3 | 0.117 - 0.737\n",
      "epoch:4 | 0.117 - 0.788\n",
      "epoch:5 | 0.117 - 0.838\n",
      "epoch:6 | 0.117 - 0.869\n",
      "epoch:7 | 0.117 - 0.899\n",
      "epoch:8 | 0.116 - 0.937\n",
      "epoch:9 | 0.116 - 0.961\n",
      "epoch:10 | 0.117 - 0.971\n",
      "epoch:11 | 0.117 - 0.982\n",
      "epoch:12 | 0.117 - 0.988\n",
      "epoch:13 | 0.117 - 0.991\n",
      "epoch:14 | 0.117 - 0.994\n",
      "epoch:15 | 0.117 - 0.996\n",
      "epoch:16 | 0.117 - 0.998\n",
      "epoch:17 | 0.117 - 0.998\n",
      "epoch:18 | 0.117 - 0.999\n"
     ]
    },
    {
     "name": "stderr",
     "output_type": "stream",
     "text": [
      "No handles with labels found to put in legend.\n"
     ]
    },
    {
     "name": "stdout",
     "output_type": "stream",
     "text": [
      "epoch:19 | 0.117 - 1.0\n",
      "============== 9/16 ==============\n",
      "epoch:0 | 0.093 - 0.104\n",
      "epoch:1 | 0.117 - 0.563\n",
      "epoch:2 | 0.117 - 0.701\n",
      "epoch:3 | 0.117 - 0.788\n",
      "epoch:4 | 0.117 - 0.891\n",
      "epoch:5 | 0.116 - 0.931\n",
      "epoch:6 | 0.117 - 0.955\n",
      "epoch:7 | 0.117 - 0.974\n",
      "epoch:8 | 0.117 - 0.988\n",
      "epoch:9 | 0.117 - 0.991\n",
      "epoch:10 | 0.117 - 0.993\n",
      "epoch:11 | 0.117 - 0.993\n",
      "epoch:12 | 0.117 - 0.995\n",
      "epoch:13 | 0.117 - 0.998\n",
      "epoch:14 | 0.117 - 0.999\n",
      "epoch:15 | 0.117 - 0.999\n",
      "epoch:16 | 0.117 - 1.0\n",
      "epoch:17 | 0.117 - 1.0\n",
      "epoch:18 | 0.117 - 1.0\n"
     ]
    },
    {
     "name": "stderr",
     "output_type": "stream",
     "text": [
      "No handles with labels found to put in legend.\n"
     ]
    },
    {
     "name": "stdout",
     "output_type": "stream",
     "text": [
      "epoch:19 | 0.117 - 1.0\n",
      "============== 10/16 ==============\n",
      "epoch:0 | 0.116 - 0.097\n",
      "epoch:1 | 0.117 - 0.406\n",
      "epoch:2 | 0.117 - 0.622\n",
      "epoch:3 | 0.117 - 0.691\n",
      "epoch:4 | 0.117 - 0.845\n",
      "epoch:5 | 0.117 - 0.904\n",
      "epoch:6 | 0.116 - 0.96\n",
      "epoch:7 | 0.117 - 0.964\n",
      "epoch:8 | 0.116 - 0.977\n",
      "epoch:9 | 0.117 - 0.984\n",
      "epoch:10 | 0.117 - 0.976\n",
      "epoch:11 | 0.117 - 0.995\n",
      "epoch:12 | 0.117 - 0.995\n",
      "epoch:13 | 0.117 - 0.996\n",
      "epoch:14 | 0.117 - 0.997\n",
      "epoch:15 | 0.117 - 0.998\n",
      "epoch:16 | 0.117 - 0.999\n",
      "epoch:17 | 0.117 - 0.999\n"
     ]
    },
    {
     "name": "stderr",
     "output_type": "stream",
     "text": [
      "No handles with labels found to put in legend.\n"
     ]
    },
    {
     "name": "stdout",
     "output_type": "stream",
     "text": [
      "epoch:18 | 0.117 - 0.999\n",
      "epoch:19 | 0.117 - 0.999\n",
      "============== 11/16 ==============\n",
      "epoch:0 | 0.116 - 0.099\n",
      "epoch:1 | 0.117 - 0.465\n",
      "epoch:2 | 0.117 - 0.626\n",
      "epoch:3 | 0.117 - 0.733\n",
      "epoch:4 | 0.117 - 0.736\n",
      "epoch:5 | 0.117 - 0.772\n",
      "epoch:6 | 0.117 - 0.758\n",
      "epoch:7 | 0.117 - 0.785\n",
      "epoch:8 | 0.117 - 0.801\n",
      "epoch:9 | 0.117 - 0.796\n",
      "epoch:10 | 0.117 - 0.798\n",
      "epoch:11 | 0.117 - 0.801\n",
      "epoch:12 | 0.117 - 0.811\n",
      "epoch:13 | 0.117 - 0.806\n",
      "epoch:14 | 0.117 - 0.898\n",
      "epoch:15 | 0.117 - 0.896\n",
      "epoch:16 | 0.117 - 0.902\n",
      "epoch:17 | 0.117 - 0.901\n",
      "epoch:18 | 0.117 - 0.898\n"
     ]
    },
    {
     "name": "stderr",
     "output_type": "stream",
     "text": [
      "No handles with labels found to put in legend.\n"
     ]
    },
    {
     "name": "stdout",
     "output_type": "stream",
     "text": [
      "epoch:19 | 0.117 - 0.974\n",
      "============== 12/16 ==============\n",
      "epoch:0 | 0.117 - 0.17\n",
      "epoch:1 | 0.105 - 0.424\n",
      "epoch:2 | 0.116 - 0.375\n",
      "epoch:3 | 0.117 - 0.701\n",
      "epoch:4 | 0.117 - 0.765\n",
      "epoch:5 | 0.117 - 0.829\n",
      "epoch:6 | 0.117 - 0.84\n",
      "epoch:7 | 0.117 - 0.853\n",
      "epoch:8 | 0.117 - 0.82\n",
      "epoch:9 | 0.117 - 0.863\n",
      "epoch:10 | 0.117 - 0.883\n",
      "epoch:11 | 0.117 - 0.876\n",
      "epoch:12 | 0.117 - 0.88\n",
      "epoch:13 | 0.117 - 0.864\n",
      "epoch:14 | 0.117 - 0.877\n",
      "epoch:15 | 0.117 - 0.811\n",
      "epoch:16 | 0.117 - 0.843\n",
      "epoch:17 | 0.117 - 0.873\n",
      "epoch:18 | 0.117 - 0.886\n",
      "epoch:19 | 0.117 - 0.834\n"
     ]
    },
    {
     "name": "stderr",
     "output_type": "stream",
     "text": [
      "No handles with labels found to put in legend.\n"
     ]
    },
    {
     "name": "stdout",
     "output_type": "stream",
     "text": [
      "============== 13/16 ==============\n",
      "epoch:0 | 0.097 - 0.252\n",
      "epoch:1 | 0.097 - 0.455\n",
      "epoch:2 | 0.117 - 0.415\n",
      "epoch:3 | 0.117 - 0.588\n",
      "epoch:4 | 0.117 - 0.593\n",
      "epoch:5 | 0.117 - 0.603\n",
      "epoch:6 | 0.117 - 0.606\n",
      "epoch:7 | 0.117 - 0.603\n",
      "epoch:8 | 0.116 - 0.624\n",
      "epoch:9 | 0.116 - 0.657\n",
      "epoch:10 | 0.116 - 0.636\n",
      "epoch:11 | 0.116 - 0.647\n",
      "epoch:12 | 0.116 - 0.638\n",
      "epoch:13 | 0.116 - 0.631\n",
      "epoch:14 | 0.116 - 0.68\n",
      "epoch:15 | 0.116 - 0.701\n",
      "epoch:16 | 0.116 - 0.72\n",
      "epoch:17 | 0.116 - 0.743\n",
      "epoch:18 | 0.116 - 0.762\n"
     ]
    },
    {
     "name": "stderr",
     "output_type": "stream",
     "text": [
      "No handles with labels found to put in legend.\n"
     ]
    },
    {
     "name": "stdout",
     "output_type": "stream",
     "text": [
      "epoch:19 | 0.116 - 0.802\n",
      "============== 14/16 ==============\n",
      "epoch:0 | 0.097 - 0.1\n",
      "epoch:1 | 0.117 - 0.337\n",
      "epoch:2 | 0.117 - 0.445\n",
      "epoch:3 | 0.117 - 0.46\n",
      "epoch:4 | 0.117 - 0.498\n",
      "epoch:5 | 0.117 - 0.504\n",
      "epoch:6 | 0.117 - 0.52\n",
      "epoch:7 | 0.117 - 0.511\n",
      "epoch:8 | 0.117 - 0.518\n",
      "epoch:9 | 0.117 - 0.521\n",
      "epoch:10 | 0.117 - 0.558\n",
      "epoch:11 | 0.117 - 0.602\n",
      "epoch:12 | 0.117 - 0.598\n",
      "epoch:13 | 0.117 - 0.568\n",
      "epoch:14 | 0.117 - 0.594\n",
      "epoch:15 | 0.117 - 0.592\n",
      "epoch:16 | 0.117 - 0.593\n",
      "epoch:17 | 0.117 - 0.616\n",
      "epoch:18 | 0.117 - 0.612\n",
      "epoch:19 | 0.117 - 0.623\n"
     ]
    },
    {
     "name": "stderr",
     "output_type": "stream",
     "text": [
      "No handles with labels found to put in legend.\n"
     ]
    },
    {
     "name": "stdout",
     "output_type": "stream",
     "text": [
      "============== 15/16 ==============\n",
      "epoch:0 | 0.117 - 0.147\n",
      "epoch:1 | 0.105 - 0.346\n",
      "epoch:2 | 0.105 - 0.389\n",
      "epoch:3 | 0.105 - 0.419\n",
      "epoch:4 | 0.105 - 0.412\n",
      "epoch:5 | 0.116 - 0.431\n",
      "epoch:6 | 0.116 - 0.438\n",
      "epoch:7 | 0.116 - 0.48\n",
      "epoch:8 | 0.116 - 0.469\n",
      "epoch:9 | 0.116 - 0.589\n",
      "epoch:10 | 0.116 - 0.593\n",
      "epoch:11 | 0.116 - 0.658\n",
      "epoch:12 | 0.116 - 0.604\n",
      "epoch:13 | 0.116 - 0.658\n",
      "epoch:14 | 0.116 - 0.664\n",
      "epoch:15 | 0.116 - 0.566\n",
      "epoch:16 | 0.116 - 0.685\n",
      "epoch:17 | 0.116 - 0.705\n"
     ]
    },
    {
     "name": "stderr",
     "output_type": "stream",
     "text": [
      "No handles with labels found to put in legend.\n"
     ]
    },
    {
     "name": "stdout",
     "output_type": "stream",
     "text": [
      "epoch:18 | 0.116 - 0.633\n",
      "epoch:19 | 0.116 - 0.712\n",
      "============== 16/16 ==============\n",
      "epoch:0 | 0.117 - 0.171\n",
      "epoch:1 | 0.117 - 0.218\n",
      "epoch:2 | 0.117 - 0.313\n",
      "epoch:3 | 0.117 - 0.309\n",
      "epoch:4 | 0.117 - 0.305\n",
      "epoch:5 | 0.117 - 0.336\n",
      "epoch:6 | 0.117 - 0.409\n",
      "epoch:7 | 0.117 - 0.423\n",
      "epoch:8 | 0.117 - 0.415\n",
      "epoch:9 | 0.117 - 0.419\n",
      "epoch:10 | 0.117 - 0.422\n",
      "epoch:11 | 0.117 - 0.42\n",
      "epoch:12 | 0.117 - 0.421\n",
      "epoch:13 | 0.117 - 0.419\n",
      "epoch:14 | 0.117 - 0.407\n",
      "epoch:15 | 0.117 - 0.431\n",
      "epoch:16 | 0.117 - 0.438\n",
      "epoch:17 | 0.117 - 0.446\n",
      "epoch:18 | 0.117 - 0.437\n",
      "epoch:19 | 0.117 - 0.367\n"
     ]
    },
    {
     "data": {
      "image/png": "[encoded data removed]",
      "text/plain": [
       "<Figure size 432x288 with 16 Axes>"
      ]
     },
     "metadata": {
      "needs_background": "light"
     },
     "output_type": "display_data"
    }
   ],
   "source": [
    "import sys, os\n",
    "sys.path.append(os.pardir)  # 부모 디렉터리의 파일을 가져올 수 있도록 설정\n",
    "import numpy as np\n",
    "import matplotlib.pyplot as plt\n",
    "from dataset.mnist import load_mnist\n",
    "from common.multi_layer_net_extend import MultiLayerNetExtend\n",
    "from common.optimizer import SGD, Adam\n",
    "\n",
    "(x_train, t_train), (x_test, t_test) = load_mnist(normalize=True)\n",
    "\n",
    "# 학습 데이터를 줄임\n",
    "x_train = x_train[:1000]\n",
    "t_train = t_train[:1000]\n",
    "\n",
    "max_epochs = 20\n",
    "train_size = x_train.shape[0]\n",
    "batch_size = 100\n",
    "learning_rate = 0.01\n",
    "\n",
    "\n",
    "def __train(weight_init_std):\n",
    "    bn_network = MultiLayerNetExtend(input_size=784, hidden_size_list=[100, 100, 100, 100, 100], output_size=10, \n",
    "                                    weight_init_std=weight_init_std, use_batchnorm=True)\n",
    "    network = MultiLayerNetExtend(input_size=784, hidden_size_list=[100, 100, 100, 100, 100], output_size=10,\n",
    "                                weight_init_std=weight_init_std)\n",
    "    optimizer = SGD(lr=learning_rate)\n",
    "    \n",
    "    train_acc_list = []\n",
    "    bn_train_acc_list = []\n",
    "    \n",
    "    iter_per_epoch = max(train_size / batch_size, 1)\n",
    "    epoch_cnt = 0\n",
    "    \n",
    "    for i in range(1000000000):\n",
    "        batch_mask = np.random.choice(train_size, batch_size)\n",
    "        x_batch = x_train[batch_mask]\n",
    "        t_batch = t_train[batch_mask]\n",
    "    \n",
    "        for _network in (bn_network, network):\n",
    "            grads = _network.gradient(x_batch, t_batch)\n",
    "            optimizer.update(_network.params, grads)\n",
    "    \n",
    "        if i % iter_per_epoch == 0:\n",
    "            train_acc = network.accuracy(x_train, t_train)\n",
    "            bn_train_acc = bn_network.accuracy(x_train, t_train)\n",
    "            train_acc_list.append(train_acc)\n",
    "            bn_train_acc_list.append(bn_train_acc)\n",
    "    \n",
    "            print(\"epoch:\" + str(epoch_cnt) + \" | \" + str(train_acc) + \" - \" + str(bn_train_acc))\n",
    "    \n",
    "            epoch_cnt += 1\n",
    "            if epoch_cnt >= max_epochs:\n",
    "                break\n",
    "                \n",
    "    return train_acc_list, bn_train_acc_list\n",
    "\n",
    "\n",
    "# 그래프 그리기==========\n",
    "weight_scale_list = np.logspace(0, -4, num=16)\n",
    "x = np.arange(max_epochs)\n",
    "\n",
    "for i, w in enumerate(weight_scale_list):\n",
    "    print( \"============== \" + str(i+1) + \"/16\" + \" ==============\")\n",
    "    train_acc_list, bn_train_acc_list = __train(w)\n",
    "    \n",
    "    plt.subplot(4,4,i+1)\n",
    "    plt.title(\"W:\" + str(w))\n",
    "    if i == 15:\n",
    "        plt.plot(x, bn_train_acc_list, label='Batch Normalization', markevery=2)\n",
    "        plt.plot(x, train_acc_list, linestyle = \"--\", label='Normal(without BatchNorm)', markevery=2)\n",
    "    else:\n",
    "        plt.plot(x, bn_train_acc_list, markevery=2)\n",
    "        plt.plot(x, train_acc_list, linestyle=\"--\", markevery=2)\n",
    "\n",
    "    plt.ylim(0, 1.0)\n",
    "    if i % 4:\n",
    "        plt.yticks([])\n",
    "    else:\n",
    "        plt.ylabel(\"accuracy\")\n",
    "    if i < 12:\n",
    "        plt.xticks([])\n",
    "    else:\n",
    "        plt.xlabel(\"epochs\")\n",
    "    plt.legend(loc='lower right')\n",
    "\n",
    "plt.show()"
   ]
  },
  {
   "cell_type": "markdown",
   "id": "213f697c-2569-40a6-8225-1933fd3ee773",
   "metadata": {},
   "source": [
    "- 거의 모든 경우에서 배치 정규화를 사용할 때의 학습 진도가 빠른 것을 볼 수 있다.\n",
    "- 배치 정규화를 이용하지 않는 경우엔 초깃값이 잘 분포되어 있지 않으면 학습이 전혀 진행되지 않는 모습도 확인할 수 있다. "
   ]
  },
  {
   "cell_type": "markdown",
   "id": "b07a3837-764f-403f-b7ff-b0b7cf28c13b",
   "metadata": {},
   "source": [
    "----"
   ]
  },
  {
   "cell_type": "markdown",
   "id": "be60511d-c7aa-4dab-967e-35e65155ac13",
   "metadata": {},
   "source": [
    "- 기계학습에서는 오버피팅이 문제가 되는 경우가 많다. \n",
    "   - 오버피팅이란 신경망이 훈련 데이터에만 지나치게 적응되어 그 외의 데이터에는 제대로 대응하지 못하는 상태를 말한다. 범용 성능을 갖지 못하는 것이다. \n",
    "   - 오버피팅의 경우 1) : 매개변수가 많고 표현력이 높은 모델\n",
    "   - 오버피팅의 경우 2) : 훈련 데이터가 적을 때"
   ]
  },
  {
   "cell_type": "markdown",
   "id": "b524e4c8-a2f7-4219-beb2-8d24b8b2b874",
   "metadata": {},
   "source": [
    "---"
   ]
  },
  {
   "cell_type": "markdown",
   "id": "eb7a1941-bd86-4cce-812a-2c45a09e4520",
   "metadata": {},
   "source": [
    "- 오버피팅 억제\n",
    "  - 가중치 감소 : 학습 과정에서 큰 가중치에 대해서는 그에 상응하는 큰 페널티를 부과하여 오버피팅을 억제하는 방법이다. 원래 오버피팅은 가중치 매개변수의 값이 커서 발생하는 경우가 많기 때문이다."
   ]
  }
 ],
 "metadata": {
  "kernelspec": {
   "display_name": "Python 3 (ipykernel)",
   "language": "python",
   "name": "python3"
  },
  "language_info": {
   "codemirror_mode": {
    "name": "ipython",
    "version": 3
   },
   "file_extension": ".py",
   "mimetype": "text/x-python",
   "name": "python",
   "nbconvert_exporter": "python",
   "pygments_lexer": "ipython3",
   "version": "3.8.11"
  }
 },
 "nbformat": 4,
 "nbformat_minor": 5
}
