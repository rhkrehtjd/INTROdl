{
 "cells": [
  {
   "cell_type": "markdown",
   "id": "a3a090c4-92bb-406e-a417-66e21570cf2e",
   "metadata": {},
   "source": [
    "# 20220624"
   ]
  },
  {
   "cell_type": "markdown",
   "id": "bcc7517a-4f31-415d-bf60-7ede440dbd76",
   "metadata": {},
   "source": [
    "#### CHAPTER 2 : 퍼셉트론\n"
   ]
  },
  {
   "cell_type": "markdown",
   "id": "af4af867-b161-4c77-9b8b-7186d3bddb3e",
   "metadata": {},
   "source": [
    "- 퍼셉트론이란?\n",
    "  - 다수의 신호를 입력으로 받아 하나의 신호를 출력\n",
    "  - 퍼셉트론 신호는 흐른다/안 흐른다의 두 가지 값을 가질 수 있다.\n",
    "  - 입력 신호가 뉴런에 보내질 때는 각각 `고유한` 가중치가 곱해진다.\n",
    "  - 뉴런에서 보내온 신호의 `총합`이 정해진 한계를 넘어설 때만 1을 출력한다.\n",
    "    - 이를 `'뉴런이 활성화한다'`라고 표현한다. 이때 그 한계를 임계값이라 하며 대개 $\\theta$로 표현한다.\n",
    "  - 퍼셉트론은 `복수의 입력 신호 각각`에 `고유한 가중치를 부여`한다.\n",
    "  - `가중치`는 각 신호가 `결과에 주는 영향력을 조절`하는 요소로 적용\n",
    "    - 즉 가중치가 클수록 해당 신호가 그만큼 더 중요함을 뜻함.\n",
    "    - 퍼셉트론의 가중치는 그 값이 클수록 강한 신호를 흘려보낸다."
   ]
  },
  {
   "cell_type": "markdown",
   "id": "0190df6c-ca30-4efa-96e2-521d7e31e314",
   "metadata": {},
   "source": [
    "- 단순한 논리 회로\n",
    "  - AND 게이트\n",
    "    - 입력이 둘이고 출력은 하나이다.(참고 : 입력 신호와 출력 신호의 대응 표를 `진리표`라 한다)\n",
    "    - 두 입력이 모두 1일 때만 1을 출력하고, 그 외에는 0을 출력한다.\n",
    "  - NAND 게이트와 OR 게이트\n",
    "    - NAND 게이트 : AND 게이트의 출력을 뒤집은 것\n",
    "    - 두 입력이 모두 1일 때만 0을 출력하고 그 외에는 1을 출력한다.\n",
    "    - 이때 매개변수의 조합은 AND 게이트를 구현하는 매개변수의 부호를 모두 반전하기만 하면 NAND 게이트가 된다.\n",
    "    - OR 게이트 : 입력 신호 중 하나 이상이 1이면 출력이 1이 되는 논리 회로이다."
   ]
  },
  {
   "cell_type": "markdown",
   "id": "0733fdf9-9709-49ea-a799-7119ceac1ee5",
   "metadata": {},
   "source": [
    "---"
   ]
  },
  {
   "cell_type": "markdown",
   "id": "54cc8507-de00-4ea5-9d4d-c0e35283542e",
   "metadata": {},
   "source": [
    "#### 퍼셉트론의 구조는 AND, NAND, OR 게이트 모두에서 똑같다. \n",
    "#### 세 가지 게이트에서 다른 것은 매개변수(가중치와 임계값)의 값 뿐이다.\n",
    "#### 즉, 똑같은 구조의 퍼셉트론이 매개변수의 값만 적절히 조정하여 AND, NAND, OR로 사용할 수 있게 된다."
   ]
  },
  {
   "cell_type": "markdown",
   "id": "9c345015-f423-4a9e-a6fe-07069bddf0cc",
   "metadata": {},
   "source": [
    "> 퍼셉트론의 매개변수 값을 정하는 것은 컴퓨터가 아니라 인간이다. 인간이 직접 진리표라는 학습 데이터를 보면서 매개변수의 값을 생각한다. 기계학습 문제는 이 매개변수의 값을 정하는 작업을 컴퓨터가 자동으로 하도록 한다. 학습이란 적절한 매개변수 값을 정하는 작업이며, 사람은 퍼셉트론의 구조를 고민하고 컴퓨터에 학습할 데이터를 주는 일을 한다. "
   ]
  },
  {
   "cell_type": "markdown",
   "id": "9e336ef9-4871-4bf9-ade1-e8b250f729af",
   "metadata": {},
   "source": [
    "---"
   ]
  },
  {
   "cell_type": "markdown",
   "id": "a6327fc7-1f30-4104-acfc-bfad65326740",
   "metadata": {},
   "source": [
    "- 퍼셉트론 구현해보자"
   ]
  },
  {
   "cell_type": "code",
   "execution_count": 1,
   "id": "24ddd211-ce26-4085-9c4d-32df0b735ac1",
   "metadata": {},
   "outputs": [],
   "source": [
    "def AND(x1, x2):\n",
    "    # 매개변수(가중치와 임계값)는 함수 안에서 초기화한다.\n",
    "    w1, w2, theta = 0.5, 0.5, 0.7\n",
    "    tmp = x1*w1 + x2*w2\n",
    "    \n",
    "    # 이때, 부등식에 등호가 어디에 들어가 있는지 중요!!!\n",
    "    \n",
    "    if tmp <= theta:\n",
    "        return 0\n",
    "    elif tmp> theta:\n",
    "        return 1"
   ]
  },
  {
   "cell_type": "code",
   "execution_count": 2,
   "id": "bd898ae5-2d32-42f1-afe5-c07a506c7eff",
   "metadata": {},
   "outputs": [
    {
     "name": "stdout",
     "output_type": "stream",
     "text": [
      "0\n",
      "0\n",
      "0\n",
      "1\n"
     ]
    }
   ],
   "source": [
    "print(AND(0,0))\n",
    "print(AND(1,0))\n",
    "print(AND(0,1))\n",
    "print(AND(1,1))"
   ]
  },
  {
   "cell_type": "markdown",
   "id": "e1bd208e-6805-41c3-a495-0c4ebdb69020",
   "metadata": {},
   "source": [
    "- 위 AND 게이트를 좀 더 효율적인 방식으로 수정해보자\n",
    "- 함수 AND에서 tmp <= theta에서 theta를 좌항으로 옮겨서 정리한다.\n",
    "- 즉, b + x1*w1 + x2*w2 <= 0 이 되고\n",
    "- 이때, b를 편향이라고 바꿔부른다. \n",
    "  - 원래 b는 임계값! (=theta)"
   ]
  },
  {
   "cell_type": "markdown",
   "id": "ec9bc0d3-3f7a-4d3d-97f6-2da8402200ee",
   "metadata": {},
   "source": [
    "> 즉, 퍼셉트론은 입력 신호에 가중치를 곱한 값과 편향을 합하여 그 값이 0을 초과하면 1을 출력하고, 그렇지 않으면 0을 출력한다. "
   ]
  },
  {
   "cell_type": "markdown",
   "id": "4d1b901f-3a24-4f98-a80c-00254cc56187",
   "metadata": {},
   "source": [
    "-  넘파이를 이용하여 가중치와 편향 개념 구현해보자"
   ]
  },
  {
   "cell_type": "code",
   "execution_count": 7,
   "id": "3f27cd07-fa77-476f-8218-5d9703d61e41",
   "metadata": {},
   "outputs": [
    {
     "data": {
      "text/plain": [
       "0.5"
      ]
     },
     "execution_count": 7,
     "metadata": {},
     "output_type": "execute_result"
    }
   ],
   "source": [
    "import numpy as np\n",
    "x = np.array([0,1]) # 두 입력 값\n",
    "w = np.array([0.5,0.5]) # 가중치\n",
    "b = -0.7 # 편향\n",
    "# 원래 우항에 있던 임계값을 좌항으로 옮겼기 때문에 마이너스! 그런데 이건 게이트마다 임계값이 다르기 때문에 좌항으로 옮겼을 때\n",
    "# 음수일 수도 있고 양수일 수도 있음\n",
    "np.sum(w*x)"
   ]
  },
  {
   "cell_type": "code",
   "execution_count": 4,
   "id": "4310999e-44ad-49d1-a6bc-b21995ed46e7",
   "metadata": {},
   "outputs": [
    {
     "data": {
      "text/plain": [
       "-0.19999999999999996"
      ]
     },
     "execution_count": 4,
     "metadata": {},
     "output_type": "execute_result"
    }
   ],
   "source": [
    "np.sum(w*x) + b"
   ]
  },
  {
   "cell_type": "markdown",
   "id": "6d17a5df-fa63-49a3-bf09-0c9351ca4c3e",
   "metadata": {},
   "source": [
    "- 가중치와 편향을 도입한 AND 게이트를 구현해보자"
   ]
  },
  {
   "cell_type": "code",
   "execution_count": 5,
   "id": "2d878810-6fb5-48fd-bd6e-1f5513789601",
   "metadata": {},
   "outputs": [],
   "source": [
    "def AND(x1,x2):\n",
    "    x = np.array([x1,x2])\n",
    "    w = np.array([0.5,0.5])\n",
    "    b = -0.7\n",
    "    \n",
    "    tmp = np.sum(w*x) + b\n",
    "    \n",
    "    if tmp <= 0 :\n",
    "        return 0 \n",
    "    else :\n",
    "        return 1"
   ]
  },
  {
   "cell_type": "markdown",
   "id": "9a18e2f1-e8c0-4147-8416-81f7831964c4",
   "metadata": {},
   "source": [
    "> 가중치는 각 입력 신호가 결과에 주는 영향력(중요도)을 조절하는 매개변수고, 편향은 뉴런이 얼마나 쉽게 활성화(결과로 1을 출력) 하느냐를 조정하는 매개변수이다. (책에 따라 셋 모두(가중치와 편향)를 가중치라고 할 때도 있다)"
   ]
  },
  {
   "cell_type": "markdown",
   "id": "525541cd-d777-4424-856b-5c3d242f578a",
   "metadata": {},
   "source": [
    "- NAND 게이트와 OR 게이트 구현"
   ]
  },
  {
   "cell_type": "code",
   "execution_count": 6,
   "id": "b4d60dd6-7916-4fb7-8365-757fbef93555",
   "metadata": {},
   "outputs": [],
   "source": [
    "def NAND(x1,x2):\n",
    "    x = np.array([x1,x2])\n",
    "    w = np.array([-0.5,-0.5])\n",
    "    b = 0.7\n",
    "    \n",
    "    tmp = np.sum(w*x) + b\n",
    "    \n",
    "    if tmp <= 0 :\n",
    "        return 0\n",
    "    else : \n",
    "        return 1\n",
    "\n",
    "def OR(x1,x2):\n",
    "    x = np.array([x1,x2])\n",
    "    w = np.array([0.5,0.5])\n",
    "    b = -0.2\n",
    "    \n",
    "    tmp = np.sum(w*x) + b\n",
    "    \n",
    "    if tmp <= 0 :\n",
    "        return 0\n",
    "    else : \n",
    "        return 1"
   ]
  },
  {
   "cell_type": "markdown",
   "id": "1536a615-866d-4d7d-af61-80a11e1d8dd5",
   "metadata": {},
   "source": [
    "- AND, NAND, OR 게이트 `모두 같은 구조`의 퍼셉트론이며, 차이는 가중치 매개변수의 값 뿐이다."
   ]
  },
  {
   "cell_type": "markdown",
   "id": "bdaca849-5db6-48b2-a309-e2e6a98f7265",
   "metadata": {},
   "source": [
    "---"
   ]
  },
  {
   "cell_type": "markdown",
   "id": "df6382c5-3774-404b-a979-b0089389c654",
   "metadata": {},
   "source": [
    "- 퍼셉트론의 한계\n",
    "  - 무슨 한계?\n",
    "    - 직선 하나로 나눈 영역만 표현할 수 있다는 한계\n",
    "- XOR 게이트 (배타적 논리합)\n",
    "  - 한쪽이 1일 때만 1을 출력\n",
    "  - 지금까지 본 퍼셉트론으로는 XOR 게이트를 구현할 수 없다.\n",
    "    - 왜?\n",
    "      - XOR 게이트는 한 쪽이 1일 때만 1을 출력한다고 했다.\n",
    "      - 이 입력값들을 좌표평면에 나타내면 입력 값들을 하나의 직선으로 분리하는 것은 불가능하다. \n",
    "      - 따라서 기존의 AND, NAND, OR 게이트의 퍼셉트론으로는 XOR 게이트를 구현할 수 없다. \n",
    "      - 책 55p ~ 56p 참고"
   ]
  },
  {
   "cell_type": "markdown",
   "id": "7ba17dc3-db78-4ea2-9be1-4fbd5f97be73",
   "metadata": {},
   "source": [
    "- 이때, 직선이라는 제약을 없앤다면 주어진 입력값들을 두 구간으로 분류할 수 있을 것이다. \n",
    "- 퍼셉트론은 직선 하나로 나눈 영역만 표현할 수 있다는 한계가 있다. \n",
    "  - 그렇다면 방법은?\n",
    "  - 층을 쌓아, 다층 퍼셉트론을 만든다.\n",
    "  - 층을 하나 더 쌓아 XOR를 표현해보자"
   ]
  },
  {
   "cell_type": "markdown",
   "id": "0fec9448-346b-40c4-93a0-121a2075eb10",
   "metadata": {},
   "source": [
    "---"
   ]
  },
  {
   "cell_type": "markdown",
   "id": "66968f30-7860-4569-9ad5-bef28ec49712",
   "metadata": {},
   "source": [
    "> 0627~"
   ]
  },
  {
   "cell_type": "markdown",
   "id": "6e9d5dc1-f11b-4b31-9218-9f8858dc6b78",
   "metadata": {},
   "source": [
    "- 기존 게이트 조합하기\n",
    "  - AND, NAND, OR 게이트를 조합하기\n",
    "    - 퍼셉트론의 한계 : 단층 퍼셉트론으로는 XOR 게이트를 표현할 수 없음\n",
    "    - 즉, 단층 퍼셉트론으로는 비선형 영역을 분리할 수 없음\n",
    "    - 따라서 퍼셉트론을 조합하여, 즉 층을 쌓아서 XOR 게이트를 구현하면 됨\n",
    "  - 이때 XOR 게이트는 입력 중 하나만 1일 때, 출력 1이 가능"
   ]
  },
  {
   "cell_type": "code",
   "execution_count": 10,
   "id": "aa45cd2d-1317-427e-92a9-c7e6ec904e2d",
   "metadata": {},
   "outputs": [],
   "source": [
    "# 지금까지 정의한 함수 AND, NAND, OR를 사용하면 XOR 게이트를 쉽게 구현할 수 있음\n",
    "def XOR(x1,x2) : \n",
    "    s1 = NAND(x1,x2)\n",
    "    s2 = OR(x1,x2)\n",
    "    y = AND(s1,s2)\n",
    "    \n",
    "    return y"
   ]
  },
  {
   "cell_type": "code",
   "execution_count": 11,
   "id": "b84ea2f0-0f51-42ba-a641-eb46de97bdaa",
   "metadata": {},
   "outputs": [
    {
     "name": "stdout",
     "output_type": "stream",
     "text": [
      "0\n",
      "1\n",
      "1\n",
      "0\n"
     ]
    }
   ],
   "source": [
    "print(XOR(0,0))\n",
    "print(XOR(0,1)) # 이때 1을 출력해야 함\n",
    "print(XOR(1,0)) # # 이때 1을 출력해야 함\n",
    "print(XOR(1,1))"
   ]
  },
  {
   "cell_type": "markdown",
   "id": "6dfc5c3f-3138-4046-a1ad-7109fd10e7be",
   "metadata": {},
   "source": [
    "- 단층 퍼셉트론으로는 표현하지 못한 것을 층을 하나 늘려 구현할 수 있게 됨"
   ]
  },
  {
   "cell_type": "markdown",
   "id": "7b49ee2a-09d3-4193-b907-2fbfe41dec1e",
   "metadata": {},
   "source": [
    "> 정리\n",
    "\n",
    "    1. 퍼셉트론에서는 가중치와 편향을 매개변수로 설정\n",
    "    2. XOR 게이트는 단층 퍼셉트론으로는 표현할 수 없다\n",
    "    3. 2층 퍼셉트론을 이용하면 XOR 게이트를 표현할 수 있다\n",
    "    4. 단층 퍼셉트론은 직선형 영역만 표현할 수 있고, 다층 퍼셉트론은 비선형 영역도 표현할 수 있다\n",
    "    5. 다층 퍼셉트론은 (이론상) 컴퓨터를 표현할 수 있다"
   ]
  },
  {
   "cell_type": "markdown",
   "id": "cb9ba476-9913-4875-be23-53cd8731135d",
   "metadata": {},
   "source": [
    "----"
   ]
  },
  {
   "cell_type": "markdown",
   "id": "452da363-e57f-4200-8530-3e2d78867ed8",
   "metadata": {},
   "source": [
    "----"
   ]
  },
  {
   "cell_type": "markdown",
   "id": "fb24cde1-66f4-49f4-b59c-72aafac46cd5",
   "metadata": {},
   "source": [
    "----"
   ]
  },
  {
   "cell_type": "markdown",
   "id": "31e35256-1981-47e2-8e60-eebb1597c61b",
   "metadata": {},
   "source": [
    "### 신경망"
   ]
  },
  {
   "cell_type": "markdown",
   "id": "98b67cb8-9ae9-427e-b023-8bafcfeae22a",
   "metadata": {},
   "source": [
    "#### - 퍼셉트론에서 신경망으로\n",
    "- 신경망은 퍼셉트론과 유사한 점이 많으나, 퍼셉트론과 다른 점을 중심으로 신경망의 구조를 설명해보자\n",
    "- 신경망은 입력층, 은닉층, 출력층으로 구성되어 있음\n",
    "  - 이때 은닉층의 뉴런은 입력층이나 출력층과 달리 사람 눈에 보이지 않음\n",
    "    - (아마 이게 블랙박스라고 일컬었던 것 같음)\n",
    "  - rewiew\n",
    "    - 편향 : 뉴런이 얼마나 쉽게 활성화되느냐를 제어\n",
    "    - 가중치 : 각 신호의 영향력을 제어"
   ]
  },
  {
   "cell_type": "markdown",
   "id": "0cfad790-4389-4e14-b955-98bf00fafa36",
   "metadata": {},
   "source": [
    "- 활성화 함수의 등장\n",
    "  - 입력 신호의 총합을 출력 신호로 변환하는 함수를 일반적으로 활성화 함수라 한다.\n",
    "  - 입력 신호의 총합이 활성화를 일으키는지를 정하는 역할을 한다."
   ]
  },
  {
   "cell_type": "markdown",
   "id": "1e384822-d03b-4bf2-8915-0726270a9771",
   "metadata": {},
   "source": [
    "- 종전에 설명한 활성화 함수는 임계값을 경계로 출력이 바뀌는데, 이런 함수를 계단 함수라 한다.\n",
    "  - 그래서 '퍼셉트론에서는 활성화 함수로 계단 함수를 이용한다'고 할 수 있다.\n",
    "  - 즉, 활성화 함수로 쓸 수 있는 여러 후보 중에서 퍼셉트론은 계단 함수를 채용한 것\n",
    "    - 그 외, 시그모이드 함수도 활성화 함수로 사용할 수 있음"
   ]
  },
  {
   "cell_type": "markdown",
   "id": "09745ebf-c106-44c9-ba16-c976c592780e",
   "metadata": {},
   "source": [
    "- 활성화 함수 中 시그모이드 함수"
   ]
  },
  {
   "cell_type": "markdown",
   "id": "9348f188-451b-4e3d-844b-4254dd7ab57c",
   "metadata": {},
   "source": [
    "$$h(x) = {\\frac{1}{1+exp(-x)}}$$"
   ]
  },
  {
   "cell_type": "markdown",
   "id": "0d6b10a7-87c9-462e-903e-9cc5d0435961",
   "metadata": {},
   "source": [
    "- 활성화 함수로 이용되는 시그모이드 함수를 계단 함수와 비교하면서 자세히 살펴보자"
   ]
  },
  {
   "cell_type": "code",
   "execution_count": 12,
   "id": "649ba133-2f61-463e-a9be-46a8aa361f4d",
   "metadata": {},
   "outputs": [],
   "source": [
    "def step_function(x):\n",
    "    if x>0:\n",
    "        return 1\n",
    "    else :\n",
    "        return 0 "
   ]
  },
  {
   "cell_type": "markdown",
   "id": "74d0ab06-16ff-4462-b7b3-f9ad02083fe3",
   "metadata": {},
   "source": [
    "- 해당 함수는 실수만 받아들임\n",
    "  - 즉, 넘파이 배열을 인수로 넣을 순 없음\n",
    "    - 이를테면, np.array([1.3,23.3])\n",
    "    - 가능하게 해보자"
   ]
  },
  {
   "cell_type": "code",
   "execution_count": 13,
   "id": "d07f8691-bc10-4319-b13d-2f474a5542d1",
   "metadata": {},
   "outputs": [],
   "source": [
    "def step_function(x):\n",
    "    y = x>0\n",
    "    return y.astype(np.int)"
   ]
  },
  {
   "cell_type": "code",
   "execution_count": 16,
   "id": "b2c9e0ac-b417-4c1e-a600-24da055bc9d6",
   "metadata": {},
   "outputs": [
    {
     "name": "stderr",
     "output_type": "stream",
     "text": [
      "C:\\Users\\ehfus\\AppData\\Local\\Temp/ipykernel_18264/1289675449.py:3: DeprecationWarning: `np.int` is a deprecated alias for the builtin `int`. To silence this warning, use `int` by itself. Doing this will not modify any behavior and is safe. When replacing `np.int`, you may wish to use e.g. `np.int64` or `np.int32` to specify the precision. If you wish to review your current use, check the release note link for additional information.\n",
      "Deprecated in NumPy 1.20; for more details and guidance: https://numpy.org/devdocs/release/1.20.0-notes.html#deprecations\n",
      "  return y.astype(np.int)\n"
     ]
    },
    {
     "data": {
      "text/plain": [
       "array([1, 0, 1, 1, 0])"
      ]
     },
     "execution_count": 16,
     "metadata": {},
     "output_type": "execute_result"
    }
   ],
   "source": [
    "step_function(np.array([23.123,-213,123,333.2,0]))"
   ]
  }
 ],
 "metadata": {
  "kernelspec": {
   "display_name": "Python 3 (ipykernel)",
   "language": "python",
   "name": "python3"
  },
  "language_info": {
   "codemirror_mode": {
    "name": "ipython",
    "version": 3
   },
   "file_extension": ".py",
   "mimetype": "text/x-python",
   "name": "python",
   "nbconvert_exporter": "python",
   "pygments_lexer": "ipython3",
   "version": "3.8.11"
  }
 },
 "nbformat": 4,
 "nbformat_minor": 5
}
