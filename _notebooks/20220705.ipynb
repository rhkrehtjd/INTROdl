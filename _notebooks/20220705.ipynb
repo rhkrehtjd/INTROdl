{
 "cells": [
  {
   "cell_type": "markdown",
   "id": "a3a090c4-92bb-406e-a417-66e21570cf2e",
   "metadata": {},
   "source": [
    "# 20220624"
   ]
  },
  {
   "cell_type": "markdown",
   "id": "bcc7517a-4f31-415d-bf60-7ede440dbd76",
   "metadata": {},
   "source": [
    "#### CHAPTER 2 : 퍼셉트론\n"
   ]
  },
  {
   "cell_type": "markdown",
   "id": "af4af867-b161-4c77-9b8b-7186d3bddb3e",
   "metadata": {},
   "source": [
    "- 퍼셉트론이란?\n",
    "  - 다수의 신호를 입력으로 받아 하나의 신호를 출력\n",
    "  - 퍼셉트론 신호는 흐른다/안 흐른다의 두 가지 값을 가질 수 있다.\n",
    "  - 입력 신호가 뉴런에 보내질 때는 각각 `고유한` 가중치가 곱해진다.\n",
    "  - 뉴런에서 보내온 신호의 `총합`이 정해진 한계를 넘어설 때만 1을 출력한다.\n",
    "    - 이를 `'뉴런이 활성화한다'`라고 표현한다. 이때 그 한계를 임계값이라 하며 대개 $\\theta$로 표현한다.\n",
    "  - 퍼셉트론은 `복수의 입력 신호 각각`에 `고유한 가중치를 부여`한다.\n",
    "  - `가중치`는 각 신호가 `결과에 주는 영향력을 조절`하는 요소로 적용\n",
    "    - 즉 가중치가 클수록 해당 신호가 그만큼 더 중요함을 뜻함.\n",
    "    - 퍼셉트론의 가중치는 그 값이 클수록 강한 신호를 흘려보낸다."
   ]
  },
  {
   "cell_type": "markdown",
   "id": "0190df6c-ca30-4efa-96e2-521d7e31e314",
   "metadata": {},
   "source": [
    "- 단순한 논리 회로\n",
    "  - AND 게이트\n",
    "    - 입력이 둘이고 출력은 하나이다.(참고 : 입력 신호와 출력 신호의 대응 표를 `진리표`라 한다)\n",
    "    - 두 입력이 모두 1일 때만 1을 출력하고, 그 외에는 0을 출력한다.\n",
    "  - NAND 게이트와 OR 게이트\n",
    "    - NAND 게이트 : AND 게이트의 출력을 뒤집은 것\n",
    "    - 두 입력이 모두 1일 때만 0을 출력하고 그 외에는 1을 출력한다.\n",
    "    - 이때 매개변수의 조합은 AND 게이트를 구현하는 매개변수의 부호를 모두 반전하기만 하면 NAND 게이트가 된다.\n",
    "    - OR 게이트 : 입력 신호 중 하나 이상이 1이면 출력이 1이 되는 논리 회로이다."
   ]
  },
  {
   "cell_type": "markdown",
   "id": "0733fdf9-9709-49ea-a799-7119ceac1ee5",
   "metadata": {},
   "source": [
    "---"
   ]
  },
  {
   "cell_type": "markdown",
   "id": "54cc8507-de00-4ea5-9d4d-c0e35283542e",
   "metadata": {},
   "source": [
    "#### 퍼셉트론의 구조는 AND, NAND, OR 게이트 모두에서 똑같다. \n",
    "#### 세 가지 게이트에서 다른 것은 매개변수(가중치와 임계값)의 값 뿐이다.\n",
    "#### 즉, 똑같은 구조의 퍼셉트론이 매개변수의 값만 적절히 조정하여 AND, NAND, OR로 사용할 수 있게 된다."
   ]
  },
  {
   "cell_type": "markdown",
   "id": "9c345015-f423-4a9e-a6fe-07069bddf0cc",
   "metadata": {},
   "source": [
    "> 퍼셉트론의 매개변수 값을 정하는 것은 컴퓨터가 아니라 인간이다. 인간이 직접 진리표라는 학습 데이터를 보면서 매개변수의 값을 생각한다. 기계학습 문제는 이 매개변수의 값을 정하는 작업을 컴퓨터가 자동으로 하도록 한다. 학습이란 적절한 매개변수 값을 정하는 작업이며, 사람은 퍼셉트론의 구조를 고민하고 컴퓨터에 학습할 데이터를 주는 일을 한다. "
   ]
  },
  {
   "cell_type": "markdown",
   "id": "9e336ef9-4871-4bf9-ade1-e8b250f729af",
   "metadata": {},
   "source": [
    "---"
   ]
  },
  {
   "cell_type": "markdown",
   "id": "a6327fc7-1f30-4104-acfc-bfad65326740",
   "metadata": {},
   "source": [
    "- 퍼셉트론 구현해보자"
   ]
  },
  {
   "cell_type": "code",
   "execution_count": 1,
   "id": "24ddd211-ce26-4085-9c4d-32df0b735ac1",
   "metadata": {},
   "outputs": [],
   "source": [
    "def AND(x1, x2):\n",
    "    # 매개변수(가중치와 임계값)는 함수 안에서 초기화한다.\n",
    "    w1, w2, theta = 0.5, 0.5, 0.7\n",
    "    tmp = x1*w1 + x2*w2\n",
    "    \n",
    "    # 이때, 부등식에 등호가 어디에 들어가 있는지 중요!!!\n",
    "    \n",
    "    if tmp <= theta:\n",
    "        return 0\n",
    "    elif tmp> theta:\n",
    "        return 1"
   ]
  },
  {
   "cell_type": "code",
   "execution_count": 2,
   "id": "bd898ae5-2d32-42f1-afe5-c07a506c7eff",
   "metadata": {},
   "outputs": [
    {
     "name": "stdout",
     "output_type": "stream",
     "text": [
      "0\n",
      "0\n",
      "0\n",
      "1\n"
     ]
    }
   ],
   "source": [
    "print(AND(0,0))\n",
    "print(AND(1,0))\n",
    "print(AND(0,1))\n",
    "print(AND(1,1))"
   ]
  },
  {
   "cell_type": "markdown",
   "id": "e1bd208e-6805-41c3-a495-0c4ebdb69020",
   "metadata": {},
   "source": [
    "- 위 AND 게이트를 좀 더 효율적인 방식으로 수정해보자\n",
    "- 함수 AND에서 tmp <= theta에서 theta를 좌항으로 옮겨서 정리한다.\n",
    "- 즉, b + x1*w1 + x2*w2 <= 0 이 되고\n",
    "- 이때, b를 편향이라고 바꿔부른다. \n",
    "  - 원래 b는 임계값! (=theta)"
   ]
  },
  {
   "cell_type": "markdown",
   "id": "ec9bc0d3-3f7a-4d3d-97f6-2da8402200ee",
   "metadata": {},
   "source": [
    "> 즉, 퍼셉트론은 입력 신호에 가중치를 곱한 값과 편향을 합하여 그 값이 0을 초과하면 1을 출력하고, 그렇지 않으면 0을 출력한다. "
   ]
  },
  {
   "cell_type": "markdown",
   "id": "4d1b901f-3a24-4f98-a80c-00254cc56187",
   "metadata": {},
   "source": [
    "-  넘파이를 이용하여 가중치와 편향 개념 구현해보자"
   ]
  },
  {
   "cell_type": "code",
   "execution_count": 3,
   "id": "3f27cd07-fa77-476f-8218-5d9703d61e41",
   "metadata": {},
   "outputs": [
    {
     "name": "stderr",
     "output_type": "stream",
     "text": [
      "C:\\Users\\ehfus\\Anaconda3\\envs\\dv2021\\lib\\site-packages\\numpy\\_distributor_init.py:30: UserWarning: loaded more than 1 DLL from .libs:\n",
      "C:\\Users\\ehfus\\Anaconda3\\envs\\dv2021\\lib\\site-packages\\numpy\\.libs\\libopenblas.EL2C6PLE4ZYW3ECEVIV3OXXGRN2NRFM2.gfortran-win_amd64.dll\n",
      "C:\\Users\\ehfus\\Anaconda3\\envs\\dv2021\\lib\\site-packages\\numpy\\.libs\\libopenblas.XWYDX2IKJW2NMTWSFYNGFUWKQU3LYTCZ.gfortran-win_amd64.dll\n",
      "  warnings.warn(\"loaded more than 1 DLL from .libs:\"\n"
     ]
    },
    {
     "data": {
      "text/plain": [
       "0.5"
      ]
     },
     "execution_count": 3,
     "metadata": {},
     "output_type": "execute_result"
    }
   ],
   "source": [
    "import numpy as np\n",
    "x = np.array([0,1]) # 두 입력 값\n",
    "w = np.array([0.5,0.5]) # 가중치\n",
    "b = -0.7 # 편향\n",
    "# 원래 우항에 있던 임계값을 좌항으로 옮겼기 때문에 마이너스! 그런데 이건 게이트마다 임계값이 다르기 때문에 좌항으로 옮겼을 때\n",
    "# 음수일 수도 있고 양수일 수도 있음\n",
    "np.sum(w*x)"
   ]
  },
  {
   "cell_type": "code",
   "execution_count": 4,
   "id": "4310999e-44ad-49d1-a6bc-b21995ed46e7",
   "metadata": {},
   "outputs": [
    {
     "data": {
      "text/plain": [
       "-0.19999999999999996"
      ]
     },
     "execution_count": 4,
     "metadata": {},
     "output_type": "execute_result"
    }
   ],
   "source": [
    "np.sum(w*x) + b"
   ]
  },
  {
   "cell_type": "markdown",
   "id": "6d17a5df-fa63-49a3-bf09-0c9351ca4c3e",
   "metadata": {},
   "source": [
    "- 가중치와 편향을 도입한 AND 게이트를 구현해보자"
   ]
  },
  {
   "cell_type": "code",
   "execution_count": 5,
   "id": "2d878810-6fb5-48fd-bd6e-1f5513789601",
   "metadata": {},
   "outputs": [],
   "source": [
    "def AND(x1,x2):\n",
    "    x = np.array([x1,x2])\n",
    "    w = np.array([0.5,0.5])\n",
    "    b = -0.7\n",
    "    \n",
    "    tmp = np.sum(w*x) + b\n",
    "    \n",
    "    if tmp <= 0 :\n",
    "        return 0 \n",
    "    else :\n",
    "        return 1"
   ]
  },
  {
   "cell_type": "markdown",
   "id": "9a18e2f1-e8c0-4147-8416-81f7831964c4",
   "metadata": {},
   "source": [
    "> 가중치는 각 입력 신호가 결과에 주는 영향력(중요도)을 조절하는 매개변수고, 편향은 뉴런이 얼마나 쉽게 활성화(결과로 1을 출력) 하느냐를 조정하는 매개변수이다. (책에 따라 셋 모두(가중치와 편향)를 가중치라고 할 때도 있다)"
   ]
  },
  {
   "cell_type": "markdown",
   "id": "525541cd-d777-4424-856b-5c3d242f578a",
   "metadata": {},
   "source": [
    "- NAND 게이트와 OR 게이트 구현"
   ]
  },
  {
   "cell_type": "code",
   "execution_count": 6,
   "id": "b4d60dd6-7916-4fb7-8365-757fbef93555",
   "metadata": {},
   "outputs": [],
   "source": [
    "def NAND(x1,x2):\n",
    "    x = np.array([x1,x2])\n",
    "    w = np.array([-0.5,-0.5])\n",
    "    b = 0.7\n",
    "    \n",
    "    tmp = np.sum(w*x) + b\n",
    "    \n",
    "    if tmp <= 0 :\n",
    "        return 0\n",
    "    else : \n",
    "        return 1\n",
    "\n",
    "def OR(x1,x2):\n",
    "    x = np.array([x1,x2])\n",
    "    w = np.array([0.5,0.5])\n",
    "    b = -0.2\n",
    "    \n",
    "    tmp = np.sum(w*x) + b\n",
    "    \n",
    "    if tmp <= 0 :\n",
    "        return 0\n",
    "    else : \n",
    "        return 1"
   ]
  },
  {
   "cell_type": "markdown",
   "id": "1536a615-866d-4d7d-af61-80a11e1d8dd5",
   "metadata": {},
   "source": [
    "- AND, NAND, OR 게이트 `모두 같은 구조`의 퍼셉트론이며, 차이는 가중치 매개변수의 값 뿐이다."
   ]
  },
  {
   "cell_type": "markdown",
   "id": "bdaca849-5db6-48b2-a309-e2e6a98f7265",
   "metadata": {},
   "source": [
    "---"
   ]
  },
  {
   "cell_type": "markdown",
   "id": "df6382c5-3774-404b-a979-b0089389c654",
   "metadata": {},
   "source": [
    "- 퍼셉트론의 한계\n",
    "  - 무슨 한계?\n",
    "    - 직선 하나로 나눈 영역만 표현할 수 있다는 한계\n",
    "- XOR 게이트 (배타적 논리합)\n",
    "  - 한쪽이 1일 때만 1을 출력\n",
    "  - 지금까지 본 퍼셉트론으로는 XOR 게이트를 구현할 수 없다.\n",
    "    - 왜?\n",
    "      - XOR 게이트는 한 쪽이 1일 때만 1을 출력한다고 했다.\n",
    "      - 이 입력값들을 좌표평면에 나타내면 입력 값들을 하나의 직선으로 분리하는 것은 불가능하다. \n",
    "      - 따라서 기존의 AND, NAND, OR 게이트의 퍼셉트론으로는 XOR 게이트를 구현할 수 없다. \n",
    "      - 책 55p ~ 56p 참고"
   ]
  },
  {
   "cell_type": "markdown",
   "id": "7ba17dc3-db78-4ea2-9be1-4fbd5f97be73",
   "metadata": {},
   "source": [
    "- 이때, 직선이라는 제약을 없앤다면 주어진 입력값들을 두 구간으로 분류할 수 있을 것이다. \n",
    "- 퍼셉트론은 직선 하나로 나눈 영역만 표현할 수 있다는 한계가 있다. \n",
    "  - 그렇다면 방법은?\n",
    "  - 층을 쌓아, 다층 퍼셉트론을 만든다.\n",
    "  - 층을 하나 더 쌓아 XOR를 표현해보자"
   ]
  },
  {
   "cell_type": "markdown",
   "id": "0fec9448-346b-40c4-93a0-121a2075eb10",
   "metadata": {},
   "source": [
    "---"
   ]
  },
  {
   "cell_type": "markdown",
   "id": "66968f30-7860-4569-9ad5-bef28ec49712",
   "metadata": {},
   "source": [
    "> 0627~"
   ]
  },
  {
   "cell_type": "markdown",
   "id": "6e9d5dc1-f11b-4b31-9218-9f8858dc6b78",
   "metadata": {},
   "source": [
    "- 기존 게이트 조합하기\n",
    "  - AND, NAND, OR 게이트를 조합하기\n",
    "    - 퍼셉트론의 한계 : 단층 퍼셉트론으로는 XOR 게이트를 표현할 수 없음\n",
    "    - 즉, 단층 퍼셉트론으로는 비선형 영역을 분리할 수 없음\n",
    "    - 따라서 퍼셉트론을 조합하여, 즉 층을 쌓아서 XOR 게이트를 구현하면 됨\n",
    "  - 이때 XOR 게이트는 입력 중 하나만 1일 때, 출력 1이 가능"
   ]
  },
  {
   "cell_type": "code",
   "execution_count": 7,
   "id": "aa45cd2d-1317-427e-92a9-c7e6ec904e2d",
   "metadata": {},
   "outputs": [],
   "source": [
    "# 지금까지 정의한 함수 AND, NAND, OR를 사용하면 XOR 게이트를 쉽게 구현할 수 있음\n",
    "def XOR(x1,x2) : \n",
    "    s1 = NAND(x1,x2)\n",
    "    s2 = OR(x1,x2)\n",
    "    y = AND(s1,s2)\n",
    "    \n",
    "    return y"
   ]
  },
  {
   "cell_type": "code",
   "execution_count": 8,
   "id": "b84ea2f0-0f51-42ba-a641-eb46de97bdaa",
   "metadata": {},
   "outputs": [
    {
     "name": "stdout",
     "output_type": "stream",
     "text": [
      "0\n",
      "1\n",
      "1\n",
      "0\n"
     ]
    }
   ],
   "source": [
    "print(XOR(0,0))\n",
    "print(XOR(0,1)) # 이때 1을 출력해야 함\n",
    "print(XOR(1,0)) # # 이때 1을 출력해야 함\n",
    "print(XOR(1,1))"
   ]
  },
  {
   "cell_type": "markdown",
   "id": "6dfc5c3f-3138-4046-a1ad-7109fd10e7be",
   "metadata": {},
   "source": [
    "- 단층 퍼셉트론으로는 표현하지 못한 것을 층을 하나 늘려 구현할 수 있게 됨"
   ]
  },
  {
   "cell_type": "markdown",
   "id": "7b49ee2a-09d3-4193-b907-2fbfe41dec1e",
   "metadata": {},
   "source": [
    "> 정리\n",
    "\n",
    "    1. 퍼셉트론에서는 가중치와 편향을 매개변수로 설정\n",
    "    2. XOR 게이트는 단층 퍼셉트론으로는 표현할 수 없다\n",
    "    3. 2층 퍼셉트론을 이용하면 XOR 게이트를 표현할 수 있다\n",
    "    4. 단층 퍼셉트론은 직선형 영역만 표현할 수 있고, 다층 퍼셉트론은 비선형 영역도 표현할 수 있다\n",
    "    5. 다층 퍼셉트론은 (이론상) 컴퓨터를 표현할 수 있다"
   ]
  },
  {
   "cell_type": "markdown",
   "id": "cb9ba476-9913-4875-be23-53cd8731135d",
   "metadata": {},
   "source": [
    "----"
   ]
  },
  {
   "cell_type": "markdown",
   "id": "452da363-e57f-4200-8530-3e2d78867ed8",
   "metadata": {},
   "source": [
    "----"
   ]
  },
  {
   "cell_type": "markdown",
   "id": "fb24cde1-66f4-49f4-b59c-72aafac46cd5",
   "metadata": {},
   "source": [
    "----"
   ]
  },
  {
   "cell_type": "markdown",
   "id": "31e35256-1981-47e2-8e60-eebb1597c61b",
   "metadata": {},
   "source": [
    "### 신경망"
   ]
  },
  {
   "cell_type": "markdown",
   "id": "98b67cb8-9ae9-427e-b023-8bafcfeae22a",
   "metadata": {},
   "source": [
    "#### - 퍼셉트론에서 신경망으로\n",
    "- 신경망은 퍼셉트론과 유사한 점이 많으나, 퍼셉트론과 다른 점을 중심으로 신경망의 구조를 설명해보자\n",
    "- 신경망은 입력층, 은닉층, 출력층으로 구성되어 있음\n",
    "  - 이때 은닉층의 뉴런은 입력층이나 출력층과 달리 사람 눈에 보이지 않음\n",
    "    - (아마 이게 블랙박스라고 일컬었던 것 같음)\n",
    "  - rewiew\n",
    "    - 편향 : 뉴런이 얼마나 쉽게 활성화되느냐를 제어\n",
    "    - 가중치 : 각 신호의 영향력을 제어"
   ]
  },
  {
   "cell_type": "markdown",
   "id": "0cfad790-4389-4e14-b955-98bf00fafa36",
   "metadata": {},
   "source": [
    "- 활성화 함수의 등장\n",
    "  - 입력 신호의 총합을 출력 신호로 변환하는 함수를 일반적으로 활성화 함수라 한다.\n",
    "  - 입력 신호의 총합이 활성화를 일으키는지를 정하는 역할을 한다."
   ]
  },
  {
   "cell_type": "markdown",
   "id": "1e384822-d03b-4bf2-8915-0726270a9771",
   "metadata": {},
   "source": [
    "- 종전에 설명한 활성화 함수는 임계값을 경계로 출력이 바뀌는데, 이런 함수를 계단 함수라 한다.\n",
    "  - 그래서 '퍼셉트론에서는 활성화 함수로 계단 함수를 이용한다'고 할 수 있다.\n",
    "  - 즉, 활성화 함수로 쓸 수 있는 여러 후보 중에서 퍼셉트론은 계단 함수를 채용한 것\n",
    "    - 그 외, 시그모이드 함수도 활성화 함수로 사용할 수 있음"
   ]
  },
  {
   "cell_type": "markdown",
   "id": "09745ebf-c106-44c9-ba16-c976c592780e",
   "metadata": {},
   "source": [
    "- 활성화 함수 中 시그모이드 함수"
   ]
  },
  {
   "cell_type": "markdown",
   "id": "9348f188-451b-4e3d-844b-4254dd7ab57c",
   "metadata": {},
   "source": [
    "$$h(x) = {\\frac{1}{1+exp(-x)}}$$"
   ]
  },
  {
   "cell_type": "markdown",
   "id": "0d6b10a7-87c9-462e-903e-9cc5d0435961",
   "metadata": {},
   "source": [
    "- 활성화 함수로 이용되는 시그모이드 함수를 계단 함수와 비교하면서 자세히 살펴보자"
   ]
  },
  {
   "cell_type": "code",
   "execution_count": 9,
   "id": "649ba133-2f61-463e-a9be-46a8aa361f4d",
   "metadata": {},
   "outputs": [],
   "source": [
    "def step_function(x):\n",
    "    if x>0:\n",
    "        return 1\n",
    "    else :\n",
    "        return 0 "
   ]
  },
  {
   "cell_type": "markdown",
   "id": "74d0ab06-16ff-4462-b7b3-f9ad02083fe3",
   "metadata": {},
   "source": [
    "- 해당 함수는 실수만 받아들임\n",
    "  - 즉, 넘파이 배열을 인수로 넣을 순 없음\n",
    "    - 이를테면, np.array([1.3,23.3])\n",
    "    - 가능하게 해보자"
   ]
  },
  {
   "cell_type": "code",
   "execution_count": 10,
   "id": "d07f8691-bc10-4319-b13d-2f474a5542d1",
   "metadata": {},
   "outputs": [],
   "source": [
    "def step_function(x):\n",
    "    y = x>0\n",
    "    return y.astype(np.int) # 원하는 자료형(e.g. np.int)을 인수로 지정해주면 된다"
   ]
  },
  {
   "cell_type": "code",
   "execution_count": 11,
   "id": "b2c9e0ac-b417-4c1e-a600-24da055bc9d6",
   "metadata": {},
   "outputs": [
    {
     "name": "stderr",
     "output_type": "stream",
     "text": [
      "C:\\Users\\ehfus\\AppData\\Local\\Temp/ipykernel_14060/4075629736.py:3: DeprecationWarning: `np.int` is a deprecated alias for the builtin `int`. To silence this warning, use `int` by itself. Doing this will not modify any behavior and is safe. When replacing `np.int`, you may wish to use e.g. `np.int64` or `np.int32` to specify the precision. If you wish to review your current use, check the release note link for additional information.\n",
      "Deprecated in NumPy 1.20; for more details and guidance: https://numpy.org/devdocs/release/1.20.0-notes.html#deprecations\n",
      "  return y.astype(np.int) # 원하는 자료형(e.g. np.int)을 인수로 지정해주면 된다\n"
     ]
    },
    {
     "data": {
      "text/plain": [
       "array([1, 0, 1, 1, 0])"
      ]
     },
     "execution_count": 11,
     "metadata": {},
     "output_type": "execute_result"
    }
   ],
   "source": [
    "step_function(np.array([23.123,-213,123,333.2,0]))"
   ]
  },
  {
   "cell_type": "markdown",
   "id": "2b8c017d-7428-4e55-97b4-59de33cfc333",
   "metadata": {},
   "source": [
    "---"
   ]
  },
  {
   "cell_type": "markdown",
   "id": "21b8515d-48b3-4167-ae40-0d462f317ef6",
   "metadata": {},
   "source": [
    "---"
   ]
  },
  {
   "cell_type": "markdown",
   "id": "b9154dd9-cddb-4cb6-ac39-d7315734b703",
   "metadata": {},
   "source": [
    "---"
   ]
  },
  {
   "cell_type": "markdown",
   "id": "e88620e4-0135-40a2-af3b-d4c50e010210",
   "metadata": {},
   "source": [
    "> 0628"
   ]
  },
  {
   "cell_type": "markdown",
   "id": "f7b6255f-827c-4067-8afa-ab80a515d91d",
   "metadata": {},
   "source": [
    "- 계단 함수의 그래프"
   ]
  },
  {
   "cell_type": "code",
   "execution_count": 12,
   "id": "274483a7-b1e0-4bd1-b98b-a6478218ce85",
   "metadata": {},
   "outputs": [
    {
     "name": "stderr",
     "output_type": "stream",
     "text": [
      "C:\\Users\\ehfus\\AppData\\Local\\Temp/ipykernel_14060/247113324.py:4: DeprecationWarning: `np.int` is a deprecated alias for the builtin `int`. To silence this warning, use `int` by itself. Doing this will not modify any behavior and is safe. When replacing `np.int`, you may wish to use e.g. `np.int64` or `np.int32` to specify the precision. If you wish to review your current use, check the release note link for additional information.\n",
      "Deprecated in NumPy 1.20; for more details and guidance: https://numpy.org/devdocs/release/1.20.0-notes.html#deprecations\n",
      "  return np.array(x>0, dtype = np.int) # 배열 생성하면서 동시에 자료형까지 지정\n"
     ]
    },
    {
     "data": {
      "image/png": "[encoded data removed]",
      "text/plain": [
       "<Figure size 432x288 with 1 Axes>"
      ]
     },
     "metadata": {
      "needs_background": "light"
     },
     "output_type": "display_data"
    }
   ],
   "source": [
    "import matplotlib.pylab as plt\n",
    "\n",
    "def step_function(x):\n",
    "    return np.array(x>0, dtype = np.int) # 배열 생성하면서 동시에 자료형까지 지정\n",
    "\n",
    "x = np.arange(-5,5,0.1) # -5부터 5까지 0.1의 간격으로 수열 생성\n",
    "y = step_function(x)\n",
    "plt.plot(x,y)\n",
    "plt.ylim(-0.1,1.1)\n",
    "plt.show()"
   ]
  },
  {
   "cell_type": "markdown",
   "id": "4cf01c8f-9e74-4d6b-aec1-b4d9d523e815",
   "metadata": {},
   "source": [
    "- 시그모이드 함수 구현하기"
   ]
  },
  {
   "cell_type": "code",
   "execution_count": 13,
   "id": "7019d87f-f0cb-4038-b1db-c9d738ce300d",
   "metadata": {},
   "outputs": [],
   "source": [
    "def sigmoid(x):\n",
    "    return 1 / ( 1 + np.exp(-x))"
   ]
  },
  {
   "cell_type": "code",
   "execution_count": 14,
   "id": "1ce06db6-88b6-40e0-9d7c-573409577e04",
   "metadata": {},
   "outputs": [
    {
     "data": {
      "text/plain": [
       "array([0.26894142, 0.73105858, 0.88079708])"
      ]
     },
     "execution_count": 14,
     "metadata": {},
     "output_type": "execute_result"
    }
   ],
   "source": [
    "x = np.array([-1,1,2])\n",
    "sigmoid(x)"
   ]
  },
  {
   "cell_type": "code",
   "execution_count": 15,
   "id": "40fa3273-e772-473f-971b-703e4345da32",
   "metadata": {},
   "outputs": [
    {
     "data": {
      "image/png": "[encoded data removed]",
      "text/plain": [
       "<Figure size 432x288 with 1 Axes>"
      ]
     },
     "metadata": {
      "needs_background": "light"
     },
     "output_type": "display_data"
    }
   ],
   "source": [
    "x = np.arange(-5,5,0.1)\n",
    "y = sigmoid(x)\n",
    "plt.plot(x,y)\n",
    "plt.ylim(-0.1,1.1)\n",
    "plt.show()"
   ]
  },
  {
   "cell_type": "markdown",
   "id": "5a610f14-de91-42ce-aeeb-fabed90a3614",
   "metadata": {},
   "source": [
    "**S자모양**"
   ]
  },
  {
   "cell_type": "markdown",
   "id": "11c469a2-f049-45db-9a7b-d379a5f59cb8",
   "metadata": {},
   "source": [
    "- 시그모이드 함수와 계단 함수 비교"
   ]
  },
  {
   "cell_type": "markdown",
   "id": "7fa12427-b39e-4fdf-97d4-b383187d5c13",
   "metadata": {},
   "source": [
    "시그모이드는 부드러운 곡선이며 입력에 딸 출력이 연속적으로 변화한다.\n",
    "\n",
    "한편 계단 함수는 0을 경계로 출력이 갑자기 바뀌어 버린다. \n",
    "\n",
    "이때 시그모이드 함수의 이 매끈함이 신경망 학습에서 아주 중요한 역할을 하게 된다. \n",
    "\n",
    "계단 함수가 0과 1 중 하나의 값만 돌려주는 반면 시그모이드 함수는 실수를 돌려준다. \n",
    "\n",
    "다시말해, 퍼셉트론에서는 뉴런 사이에 0혹은 1이 흘렀다면 신경망에서는 연속적인 실수가 흐른다.(신경망과 퍼셉트론은 유사하나 상이한 부분도 분명 있음. 다른 개념이다.)\n",
    "\n",
    "비유하자면, 시그모이드 함수는 물레방아처럼 흘러온 물의 양에 비례해 흐르는 물의 양을 조절한다."
   ]
  },
  {
   "cell_type": "markdown",
   "id": "65cd53bd-707a-4484-9746-4f15047facce",
   "metadata": {},
   "source": [
    "- 시그모이드 함수와 계단 함수의 공통점?\n",
    "  - 큰 관점에서 보면 둘은 같은 모양을 하고 있다. \n",
    "  - 둘 다 입력이 작을 때의 출력은 0에 가깝거나 0이고, 입력이 커지면 출력이 1에 가까워지는 혹은 1이 되는 구조이다. \n",
    "  - 즉, 계단 함수와 시그모이드 함수는 입력이 중요하면 큰 값을 출력하고 입력이 중요하지 않으면 작은 값을 출력한다.\n",
    "    - 중요도?\n",
    "  - 그리고 입력이 아무리 작거나 커도 출력은 0에서 1 사이라는 것도 둘의 공통점이다. \n",
    "  - 또한 두 함수 모두 ### 비선형 함수이다."
   ]
  },
  {
   "cell_type": "markdown",
   "id": "f11a6588-0ce0-4213-ad91-6176a56ef69f",
   "metadata": {},
   "source": [
    "- 비선형 함수?\n",
    "  - 직선 1개로는 그릴 수 없는 함수\n",
    "  - 신경망에서는 활성화 함수로 비선형 함수를 사용해야 한다\n",
    "    - 즉, 선형 함수는 사용해선 안 된다.\n",
    "    - 왜? 선형 함수를 사용하면 신경망의 층을 깊게 하는 의미가 없어지기 때문이다. \n",
    "    - 선형 함수의 문제? \n",
    "      - 층을 아무리 깊게 해도 은닉층이 없는 네트워크(즉, 입력층과 출력층만 있는??)로도 똑같은 기능을 할 수 있다는 데 있다.\n",
    "      - 이 부분 먼저 설명해보자\n",
    "      - 선형 함수인 h(x) = cx를 활성화 함수로 사용한 3층 네트워크를 떠올려보라\n",
    "      - 이를 식으로 나타내면 y(x) = h(h(h(x)))가 되면 계산은 c*c*c*x지만, 결국은 특정 상수 곱하기 엑스가 되는 것\n",
    "      - 즉, y(x) = h(h(h(x))) = ax로도 표현가능하다는 것.\n",
    "        - 은닉층이 없는 네트워크로도 표현이 가능해진 것이다. "
   ]
  },
  {
   "cell_type": "markdown",
   "id": "d99590ee-de7a-422b-91f4-0fc22c0135a2",
   "metadata": {},
   "source": [
    "> 즉! 선형 함수를 이용해서는 여러 층으로 구성하는 이점을 살릴 수 없다. \n",
    "\n",
    "> 왜? 선형 함수로 여러 층을 구성해봤자 그냥 은닉층 없는 네트워크로도 동일 기능을 수행할 수 있기 때문에"
   ]
  },
  {
   "cell_type": "markdown",
   "id": "6ce3ef72-cb3b-4bf1-92d2-a6a834c5a81d",
   "metadata": {},
   "source": [
    "#### 따라서 층을 쌓는 혜택을 얻기 위해선 활성화 함수를 비선형 함수로 채택해야 한다."
   ]
  },
  {
   "cell_type": "markdown",
   "id": "d49db5a1-6c2e-483f-8e04-3a5c1a3124b3",
   "metadata": {},
   "source": [
    "---"
   ]
  },
  {
   "cell_type": "markdown",
   "id": "d45496a5-59d0-4cc6-b91b-02cd0e53aace",
   "metadata": {},
   "source": [
    "- ReLU 함수\n",
    "  - 입력이 0을 넘으면 그 입력을 그대로 출력, 그렇지 않으면 무조건 0을 출력"
   ]
  },
  {
   "cell_type": "code",
   "execution_count": 16,
   "id": "e63c8086-1781-438b-a1f1-80aff480ba9a",
   "metadata": {},
   "outputs": [],
   "source": [
    "def relu(x):\n",
    "    return np.maximum(0,x)"
   ]
  },
  {
   "cell_type": "markdown",
   "id": "464c2be5-f738-479d-9a1e-49ecda399c0c",
   "metadata": {},
   "source": [
    "- 넘파이 행렬을 써서 신경망을 구현해보자 \n",
    "- 해당 예에서는 편향과 활성화 함수를 생략하고 가중치만 갖는 신경망을 구현한 것이다."
   ]
  },
  {
   "cell_type": "code",
   "execution_count": 17,
   "id": "9695fc33-4640-4348-a272-b03860405faa",
   "metadata": {},
   "outputs": [
    {
     "name": "stdout",
     "output_type": "stream",
     "text": [
      "[ 5 11 17]\n"
     ]
    }
   ],
   "source": [
    "X = np.array([1,2]) # 입력값\n",
    "W = np.array([[1,3,5],[2,4,6]]) # 가중치.\n",
    "# 해당 예에서는 편향과 활성화 함수를 생략하고 가중치만 갖는 신경망을 구현한다고 했음\n",
    "# 이때, 가중치는 2x3 크기의 matrix이다\n",
    "Y = np.dot(X,W)\n",
    "print(Y)"
   ]
  },
  {
   "cell_type": "markdown",
   "id": "860657ed-9522-4390-845b-8bab42bccdab",
   "metadata": {},
   "source": [
    "> 주의 : Y = np.dot(X,W)에서 입력값과 각각 대응되는 가중치들이 적절히 곱해지도록 행렬곱이 이루어짐\n",
    "\n",
    "> 이를테면 X가 1x2 크기의 행렬이고 W가 2x3 크기의 행렬인데 W에 원소들을 각각 어떻게 배치하느냐에 따라 입력값에 곱해져야 하는 가중치들이 적절히 곱해질 수도 안 곱해질 수도 있음 \n",
    "\n",
    "> 따라서 행렬곱을 수행해줄 때 입력값 각각에 할당된 가중치들이 입력값과 적절히 곱해질 수 있도록 가중치 행렬을 구성해주어야 함"
   ]
  },
  {
   "cell_type": "markdown",
   "id": "398e731f-deae-44d0-bbdc-1ac136fc5bc7",
   "metadata": {},
   "source": [
    "위 예에서 볼 수 있듯 행렬의 곱으로 한꺼번에 계산해주는 기능은 신경망을 구현할 때 매우 중요함을 알 수 있다. "
   ]
  },
  {
   "cell_type": "markdown",
   "id": "1e12e8ea-0df8-4bc4-a17a-c6973295b1bb",
   "metadata": {},
   "source": [
    "---"
   ]
  },
  {
   "cell_type": "markdown",
   "id": "c9752247-37b6-401c-8290-ff4e756c8a20",
   "metadata": {},
   "source": [
    "- 3층 신경망에서 수행되는 입력부터 출력까지의 처리(순방향 처리)를 구현해보자\n",
    "- 넘파이 배열을 잘 구사하면 아주 적은 코드만으로 신경망의 순방향 처리를 완성할 수 있다. "
   ]
  },
  {
   "cell_type": "markdown",
   "id": "4948bd2f-50b0-4b9f-ba75-6e80e4512d35",
   "metadata": {},
   "source": [
    "- 85p 그림 3-17을 확인해보면, 편향을 0층 뉴런에 따로 할당하여 처리해줄 수 있다.\n",
    "- 해당 예에서는 편향을 1로 설정하여 두 입력값과 가중치가 곱해진 결과의 합과 편향을 더하여 다음 뉴런에 전달해주었음"
   ]
  },
  {
   "cell_type": "code",
   "execution_count": 18,
   "id": "81b9d73a-5c8e-4120-a6f1-e8e22cb81c4a",
   "metadata": {},
   "outputs": [
    {
     "name": "stdout",
     "output_type": "stream",
     "text": [
      "(2,)\n",
      "(2, 3)\n",
      "(3,)\n",
      "[0.3 0.7 1.1]\n",
      "(3,)\n"
     ]
    }
   ],
   "source": [
    "X = np.array([1,0.5])\n",
    "W1 = np.array([[0.1,0.3,0.5],[0.2,0.4,0.6]])\n",
    "B1 = np.array([0.1,0.2,0.3])\n",
    "\n",
    "print(X.shape) # 1x2 \n",
    "print(W1.shape) # 2x3\n",
    "print(B1.shape) # 1x3\n",
    "\n",
    "A1 = np.dot(X,W1) + B1\n",
    "print(A1) # 1x3\n",
    "print(A1.shape)"
   ]
  },
  {
   "cell_type": "markdown",
   "id": "196243f8-b78d-47b6-b27c-cc3226bcc85f",
   "metadata": {},
   "source": [
    "- 0층이 아닌 1층에서의 활성화 함수를 시그모이드로 설정해보고 코드를 구현해보자"
   ]
  },
  {
   "cell_type": "code",
   "execution_count": 19,
   "id": "7c10654c-0d0e-4c16-97e2-1e816c1fb171",
   "metadata": {},
   "outputs": [
    {
     "name": "stdout",
     "output_type": "stream",
     "text": [
      "[0.3 0.7 1.1]\n",
      "[0.57444252 0.66818777 0.75026011]\n"
     ]
    }
   ],
   "source": [
    "Z1 = sigmoid(A1)\n",
    "print(A1)\n",
    "print(Z1)"
   ]
  },
  {
   "cell_type": "markdown",
   "id": "5bd518b0-7412-4ac6-9d1f-c52c4154d6ca",
   "metadata": {},
   "source": [
    "- 1층에서 2층으로 가는 과정을 구현해보자"
   ]
  },
  {
   "cell_type": "code",
   "execution_count": 20,
   "id": "6ea8cd30-5792-43fe-ae8d-35a520810099",
   "metadata": {},
   "outputs": [
    {
     "name": "stdout",
     "output_type": "stream",
     "text": [
      "(3,)\n",
      "(3, 2)\n",
      "(2,)\n"
     ]
    }
   ],
   "source": [
    "W2 = np.array([[0.1,0.4],[0.2,0.5],[0.3,0.6]])\n",
    "B2 = np.array([0.1,0.2])\n",
    "\n",
    "print(Z1.shape)\n",
    "print(W2.shape)\n",
    "print(B2.shape)\n",
    "\n",
    "A2 = np.dot(Z1,W2) + B2\n",
    "Z2 = sigmoid(A2)"
   ]
  },
  {
   "cell_type": "markdown",
   "id": "ae7f7d34-944e-4d45-9685-2c8317671f99",
   "metadata": {},
   "source": [
    "- 해당 과정은 1층의 출력 Z1이 2층의 입력이 된다는 점을 제외하면 0층에서 1층으로의 구현과 대동소이하다.\n",
    "- 이처럼 넘파이 배열을 사용하면 층 사이의 신호 전달을 쉽게 구현할 수 있다. "
   ]
  },
  {
   "cell_type": "markdown",
   "id": "bd995fa6-5eb7-463e-9479-c985f9d503b0",
   "metadata": {},
   "source": [
    "- 이제 2층에서 3층으로 즉, 2층에서 출력층으로의 신호 전달을 살펴보자\n",
    "- 출력층의 구현도 그 동안의 구현과 일맥상통하나 활성화 함수만 지금까지의 은닉층과 다르다"
   ]
  },
  {
   "cell_type": "code",
   "execution_count": 21,
   "id": "d5d79d4c-b9ad-4481-9983-e81a9b815979",
   "metadata": {},
   "outputs": [],
   "source": [
    "def identity_function(x):\n",
    "    return x\n",
    "\n",
    "# 여기서는 활성화함수로서 항등함수를 설정한 것\n",
    "\n",
    "\n",
    "W3 = np.array([[0.1,0.3],[0.2,0.4]])\n",
    "B3 = np.array([0.1,0.2])\n",
    "\n",
    "A3 = np.dot(Z2,W3) + B3\n",
    "Y = identity_function(A3) # 혹은 Y = A3 , 활성화 함수로 항등함수를 설정했기 때문에"
   ]
  },
  {
   "cell_type": "markdown",
   "id": "8cafefb9-4e3d-4bce-9b1f-aac42626d26e",
   "metadata": {},
   "source": [
    "> 출력층의 활성화 함수는 풀고자 하는 문제의 성질에 맞게 설정한다\n",
    "\n",
    "> 이를테면, 회귀에는 항등함수를 설정하며 이진 분류에는 시그모이드 함수를 설정하고 다중분류에는 소프트맥스 함수를 사용하는 것이 일반적이다\n",
    "\n",
    "> 해당 예에서는 회귀에서 항등함수를 설정하는 경우를 상정하고 출력층의 활성화함수를 설정해준 것이다. "
   ]
  },
  {
   "cell_type": "markdown",
   "id": "f1b44c75-8e20-45b6-9cd2-165051f86d90",
   "metadata": {},
   "source": [
    "### 구현 정리"
   ]
  },
  {
   "cell_type": "code",
   "execution_count": 22,
   "id": "ba63ee8f-dabc-4ef1-9ee2-68a8b40bf9ed",
   "metadata": {},
   "outputs": [
    {
     "name": "stdout",
     "output_type": "stream",
     "text": [
      "[0.31682708 0.69627909]\n"
     ]
    }
   ],
   "source": [
    "def init_network():\n",
    "    network = {} # 빈 dict 설정\n",
    "    network['W1'] = np.array([[0.1,0.3,0.5],[0.2,0.4,0.6]])\n",
    "    network['b1'] = np.array([0.1,0.2,0.3])\n",
    "    network['W2'] = np.array([[0.1,0.4],[0.2,0.5],[0.3,0.6]])\n",
    "    network['b2'] = np.array([0.1,0.2])\n",
    "    network['W3'] = np.array([[0.1,0.3],[0.2,0.4]])\n",
    "    network['b3'] = np.array([0.1,0.2])\n",
    "    \n",
    "    return network\n",
    "\n",
    "# 해당 함수를 실행시키면 3층짜리 신경망에서 필요한 가중치와 편향을 불러올 수 있음\n",
    "\n",
    "# forward 함수를 실행시키기 위해서는 당연히 network가 설정되어 있어야 하고 network가 설정되기 위해서는 init_network함수가 불러와져야 함\n",
    "def forward(network,x) : \n",
    "    W1,W2,W3 = network['W1'], network['W2'], network['W3']\n",
    "    b1,b2,b3 = network['b1'], network['b2'], network['b3']\n",
    "    \n",
    "    a1 = np.dot(x,W1) + b1\n",
    "    z1 = sigmoid(a1) # 입력층(0층)에서 1층으로 가며 얻은 출력값\n",
    "    a2 = np.dot(z1, W2) + b2\n",
    "    z2 = sigmoid(a2)\n",
    "    a3 = np.dot(z2,W3) + b3\n",
    "    y = identity_function(a3)\n",
    "    \n",
    "    return y\n",
    "\n",
    "network = init_network()\n",
    "x = np.array([1,0.5]) # 0층에서의 입력값\n",
    "y = forward(network,x)\n",
    "print(y)"
   ]
  },
  {
   "cell_type": "markdown",
   "id": "4974cd5c-5b78-45d3-856e-be8a2d82c420",
   "metadata": {},
   "source": [
    "> 이때 함수 이름을 forward라고 명해준 이유는 신호가 순방향(입력에서 출력 방향)으로 전달됨(순전파)을 알리기 위함\n",
    "\n",
    "> 순전파가 있다는 것은 역전파도 있다는 의미"
   ]
  },
  {
   "cell_type": "markdown",
   "id": "ded0f6ff-4647-4fec-8697-c79f14df4787",
   "metadata": {},
   "source": [
    "### 출력층 설계하기\n",
    "- 신경망을 분류와 회귀 모두에 이용할 수 있다. \n",
    "- 다만 둘 중 어떤 문제냐에 따라 출력층에서 사용하는 활성화 함수가 달라진다.\n",
    "- 일반적으로 회귀에는 항등 함수를, 분류에는 소프트 맥스 함수를 사용한다."
   ]
  },
  {
   "cell_type": "markdown",
   "id": "824d75f7-9a8c-404b-a729-a66345fc6e8b",
   "metadata": {},
   "source": [
    "> ### 항등 함수와 소프트 맥스 함수 구현하기"
   ]
  },
  {
   "cell_type": "markdown",
   "id": "6eaf3ce4-70d8-427a-83ba-6e48c71e587d",
   "metadata": {},
   "source": [
    "분류에서 사용하는 소프트 맥스의 식을 알아보자"
   ]
  },
  {
   "cell_type": "markdown",
   "id": "4567f9a0-6a6a-478b-b132-28c6f4400f05",
   "metadata": {},
   "source": [
    "$$y_k = \\frac{exp(a_k)}{\\Sigma exp(a_i)}$$"
   ]
  },
  {
   "cell_type": "markdown",
   "id": "f83fe4a2-45f8-46c6-ace8-fe054dc059bf",
   "metadata": {},
   "source": [
    "- 92p의 그림에서 볼 수 있듯, 소프트맥스의 출력은 모든 입력 신호로부터 화살표를 받는다. 소프트맥스 식의 분모에서 볼 수 있듯 출력층의 각 뉴런이 모든 입력 신호에서 영향을 받기 때문이다."
   ]
  },
  {
   "cell_type": "markdown",
   "id": "eb16ad13-7347-44cb-939b-c2352d848b2d",
   "metadata": {},
   "source": [
    "---"
   ]
  },
  {
   "cell_type": "markdown",
   "id": "eb1cb06f-3653-49de-8686-16ee0ca67a7f",
   "metadata": {},
   "source": [
    "> 0704~"
   ]
  },
  {
   "cell_type": "markdown",
   "id": "dc7b8fd4-7a62-4308-9a02-c6804cefd4a9",
   "metadata": {},
   "source": [
    "- 소프트맥스 함수를 구현해보자"
   ]
  },
  {
   "cell_type": "code",
   "execution_count": 23,
   "id": "96785b00-97eb-4463-9ad4-8084fed3a6de",
   "metadata": {},
   "outputs": [
    {
     "name": "stdout",
     "output_type": "stream",
     "text": [
      "[0.01821127 0.24519181 0.73659691]\n"
     ]
    }
   ],
   "source": [
    "a = np.array([0.3,2.9,4])\n",
    "\n",
    "exp_a = np.exp(a)\n",
    "sum_exp_a = np.sum(exp_a)\n",
    "\n",
    "y = exp_a/sum_exp_a\n",
    "print(y)"
   ]
  },
  {
   "cell_type": "code",
   "execution_count": 24,
   "id": "edcd6fc0-bb19-420d-b62f-e809379e6f05",
   "metadata": {},
   "outputs": [],
   "source": [
    "def softmax(a):\n",
    "    exp_a = np.exp(a)\n",
    "    sum_exp_a = np.sum(exp_a)\n",
    "    y = exp_a/sum_exp_a\n",
    "    \n",
    "    return y"
   ]
  },
  {
   "cell_type": "markdown",
   "id": "8c2cf8c8-dbf0-4fb4-9d0c-38dda710628d",
   "metadata": {},
   "source": [
    "- 소프트 맥스함수를 컴퓨터로 계산할 때는 결함이 있다.\n",
    "### 바로 오버플로 문제이다"
   ]
  },
  {
   "cell_type": "markdown",
   "id": "35282488-af26-4973-8e10-9d1617ac8550",
   "metadata": {},
   "source": [
    "- 지수함수는 매우 큰 수까지 다루게 되는데 이런 큰 값끼리 나눗셈을 하게 되면 결과 수치가 불안정해진다\n",
    "- 이 문제를 해결하도록 소프트 맥스 함수를 구현 개선해보자\n",
    "- 자세한 식은 93p를 참고한다"
   ]
  },
  {
   "cell_type": "markdown",
   "id": "7d19bb0b-87f2-4989-9a7b-f4ba3dd5edda",
   "metadata": {},
   "source": [
    "> 오버플로 문제를 해결할 구체적인 예를 하나 살펴보자"
   ]
  },
  {
   "cell_type": "code",
   "execution_count": 25,
   "id": "9b58cecb-7cef-4aca-ac9e-17c36643c4b8",
   "metadata": {},
   "outputs": [
    {
     "name": "stderr",
     "output_type": "stream",
     "text": [
      "C:\\Users\\ehfus\\AppData\\Local\\Temp/ipykernel_14060/4152157764.py:2: RuntimeWarning: overflow encountered in exp\n",
      "  np.exp(a)/ np.sum(np.exp(a))\n",
      "C:\\Users\\ehfus\\AppData\\Local\\Temp/ipykernel_14060/4152157764.py:2: RuntimeWarning: invalid value encountered in true_divide\n",
      "  np.exp(a)/ np.sum(np.exp(a))\n"
     ]
    },
    {
     "data": {
      "text/plain": [
       "array([nan, nan, nan])"
      ]
     },
     "execution_count": 25,
     "metadata": {},
     "output_type": "execute_result"
    }
   ],
   "source": [
    "a = np.array([1010,1000,990])\n",
    "np.exp(a)/ np.sum(np.exp(a))\n"
   ]
  },
  {
   "cell_type": "markdown",
   "id": "6b5a7287-3a20-417f-9ce9-5c26e9a2d1b6",
   "metadata": {},
   "source": [
    "- 값이 너무 커 제대로 계산되지 않는다."
   ]
  },
  {
   "cell_type": "code",
   "execution_count": 26,
   "id": "fe8a69a2-3be4-4560-983f-05ded316f761",
   "metadata": {},
   "outputs": [
    {
     "data": {
      "text/plain": [
       "array([  0, -10, -20])"
      ]
     },
     "execution_count": 26,
     "metadata": {},
     "output_type": "execute_result"
    }
   ],
   "source": [
    "c = np.max(a)\n",
    "a-c"
   ]
  },
  {
   "cell_type": "markdown",
   "id": "9a335d5b-a59e-44af-9baf-dc3d09304033",
   "metadata": {},
   "source": [
    "> 이렇게 오버플로를 막을 목적으로는 입력 신호 중 최댓값을 이용하는 것이 일반적이다. "
   ]
  },
  {
   "cell_type": "code",
   "execution_count": 27,
   "id": "b4b5fe51-e4f1-4455-9384-c4e310f33422",
   "metadata": {},
   "outputs": [
    {
     "data": {
      "text/plain": [
       "array([9.99954600e-01, 4.53978686e-05, 2.06106005e-09])"
      ]
     },
     "execution_count": 27,
     "metadata": {},
     "output_type": "execute_result"
    }
   ],
   "source": [
    "np.exp(a-c) / np.sum(np.exp(a-c))"
   ]
  },
  {
   "cell_type": "markdown",
   "id": "7148cac1-5ac4-4802-bfa7-a534b091d3fa",
   "metadata": {},
   "source": [
    "> 이렇게 입력 신호 중 최댓값을 빼주면 올바르게 계산할 수 있다.\n",
    "\n",
    "> 이를 바탕으로 소프트맥스 함수를 다시 구현해보자"
   ]
  },
  {
   "cell_type": "code",
   "execution_count": 28,
   "id": "bc2ee07c-ceb2-475f-8eaa-23d43a09ae99",
   "metadata": {},
   "outputs": [],
   "source": [
    "def softmax(a):\n",
    "    c = np.max(a)\n",
    "    exp_a = np.exp(a-c)\n",
    "    sum_exp_a = np.sum(exp_a)\n",
    "    y = exp_a / sum_exp_a\n",
    "    \n",
    "    return y"
   ]
  },
  {
   "cell_type": "markdown",
   "id": "1be4d294-63df-4f17-bd74-f3493da906dc",
   "metadata": {},
   "source": [
    "- 소프트맥스 함수의 특징"
   ]
  },
  {
   "cell_type": "code",
   "execution_count": 29,
   "id": "432721a9-a210-49af-92e2-d79639ea051d",
   "metadata": {},
   "outputs": [
    {
     "name": "stdout",
     "output_type": "stream",
     "text": [
      "[0.01821127 0.24519181 0.73659691]\n"
     ]
    }
   ],
   "source": [
    "a = np.array([0.3,2.9,4])\n",
    "y = softmax(a)\n",
    "print(y)"
   ]
  },
  {
   "cell_type": "code",
   "execution_count": 30,
   "id": "7b31aa80-7644-4c96-aac1-5132de83f982",
   "metadata": {},
   "outputs": [
    {
     "data": {
      "text/plain": [
       "1.0"
      ]
     },
     "execution_count": 30,
     "metadata": {},
     "output_type": "execute_result"
    }
   ],
   "source": [
    "np.sum(y)"
   ]
  },
  {
   "cell_type": "markdown",
   "id": "7f568a91-298f-454b-a33a-aac45fdba613",
   "metadata": {},
   "source": [
    "> ### `특징 : 소프트 맥스 함수의 출력의 총합은 1이 된다`"
   ]
  },
  {
   "cell_type": "markdown",
   "id": "34c96d50-264f-4477-b018-1d1c6f65806f",
   "metadata": {},
   "source": [
    "- 따라서 확률로 이해할 수 있게 되는 것이다\n",
    "  - 이를테면 결과 확률들로부터 \"2번째 원소의 확률이 가장 높으니 답은 2번째 클래스다\"라고 할 수 있는 것이다.\n",
    "  - 즉, 소프트맥스 함수를 이용함으로써 문제를 확률적으로 대응할 수 있게 되는 것이다."
   ]
  },
  {
   "cell_type": "markdown",
   "id": "b8ec2d55-3948-492d-a02f-7cb1e1907cef",
   "metadata": {},
   "source": [
    "- 주의점\n",
    "  - 지수 함수(단조 증가 함수)로 이루어진 특성 때문에 소프트맥스 함수를 적용해도 각 원소의 대소관계는 변하지 않는다."
   ]
  },
  {
   "cell_type": "markdown",
   "id": "c96bd5a1-9a77-4134-be2d-8ad5b6bfd74d",
   "metadata": {},
   "source": [
    "---"
   ]
  },
  {
   "cell_type": "markdown",
   "id": "14435fb6-2fb4-4916-9bf8-c9a31c8080a5",
   "metadata": {},
   "source": [
    "- 신경망을 이용한 분류에서는 일반적으로 가장 큰 출력을 내는 뉴런에 해당하는 클래스로만 인식한다.\n",
    "- 그리고 소프트맥스 함수를 적용해도 출력이 가장 큰 뉴런의 위치는 달라지지 않는다.\n",
    "  - 위에서 기술했다.\n",
    "- 결과적으로 신경망으로 분류할 때는 출력층의 소프트맥스 함수를 생략해도 된다.\n",
    "- 현업에서도 지수 함수 계산에 드는 자원 낭비를 줄이고자 출력층의 소프트맥스 함수는 생략하는 것이 일반적이다. "
   ]
  },
  {
   "cell_type": "markdown",
   "id": "fdadb0e7-6d10-43c3-ba62-82330d6c2f82",
   "metadata": {},
   "source": [
    "---"
   ]
  },
  {
   "cell_type": "markdown",
   "id": "35a62732-2120-45bc-8d4a-ca4a2f0c1b8f",
   "metadata": {},
   "source": [
    "> 출력층의 뉴런 수 정하기\n",
    "\n",
    "    출력층의 뉴런 수는 풀려는 문제에 맞게 적절히 정한다.\n",
    "    분류에서는 분류하고 싶은 클래스 수로 설정하는 것이 일반적이다."
   ]
  },
  {
   "cell_type": "markdown",
   "id": "84798f31-1d27-4e60-a5d0-d30a430e720b",
   "metadata": {},
   "source": [
    "> ### 손글씨 숫자 인식"
   ]
  },
  {
   "cell_type": "markdown",
   "id": "6f87f704-e7ef-4f65-af54-4dfa58ad0545",
   "metadata": {},
   "source": [
    "(기계학습과 마찬가지로 신경망도 두 단계를 거쳐 문제를 해결한다. 먼저 훈련 데이터를 사용해 가중치 매개변수를 학습하고, 추론 단계에서는 앞서 학습한 매개변수를 사용하여 입력 데이터를 분류한다. )\n",
    "\n",
    "이번 절에서는 이미 학습된 매개변수를 사용하기 때문에, 가중치 매개변수를 학습하는 학습 과정은 생략하고, 추론과정만 구현한다. "
   ]
  },
  {
   "cell_type": "markdown",
   "id": "7ee6c52a-b64b-4eda-bc55-8f7a66f1613c",
   "metadata": {},
   "source": [
    "> ### MNIST data set"
   ]
  },
  {
   "cell_type": "code",
   "execution_count": 31,
   "id": "509043c5-6496-4fc0-86c4-3fa0672e057f",
   "metadata": {},
   "outputs": [
    {
     "name": "stdout",
     "output_type": "stream",
     "text": [
      "(60000, 784)\n",
      "(60000,)\n",
      "(10000, 784)\n",
      "(10000,)\n"
     ]
    }
   ],
   "source": [
    "import sys, os\n",
    "sys.path.append(os.pardir)\n",
    "from dataset.mnist import load_mnist\n",
    "\n",
    "(x_train, t_train),(x_test,t_test) = load_mnist(flatten=True, normalize = False)\n",
    "# 순서대로\n",
    "# 훈련 이미지, 훈련 레이블, 시험 이미지, 시험 레이블\n",
    "\n",
    "# 첫번째 인수인 normalize는 입력 이미지의 픽셀 값을 0~1 사이의 값으로 정규화할지를 정한다.\n",
    "# 두번째 인수인 flatten은 입력 이미지를 평탄하게, 즉 1차원 배열로 만들지를 정한다. False로 정하면 입력 이미지를 1x28x28의 3차원 배열로\n",
    "# 그렇지 않으면 784개의 원소로 이뤄진 1차원 배열로 저장한다. \n",
    "\n",
    "\n",
    "print(x_train.shape)\n",
    "print(t_train.shape)\n",
    "print(x_test.shape)\n",
    "print(t_test.shape)"
   ]
  },
  {
   "cell_type": "markdown",
   "id": "b377773f-bd5d-4e73-a281-0183dc7cc899",
   "metadata": {},
   "source": [
    "----"
   ]
  },
  {
   "cell_type": "markdown",
   "id": "52225af8-e1f0-4b72-ad76-51ffbc47178d",
   "metadata": {},
   "source": [
    "- 파이썬에는 pickle이라는 기능이 있다.\n",
    "  - 프로그램 실행 중에 특정 객체를 파일로 저장하는 기능\n",
    "  - 저장해둔 pickle 파일을 로드하면 실행 당시의 객체를 즉시 복원할 수 있다"
   ]
  },
  {
   "cell_type": "markdown",
   "id": "f7575335-4d19-4a13-9e2d-90640bea4d82",
   "metadata": {},
   "source": [
    "---"
   ]
  },
  {
   "cell_type": "code",
   "execution_count": 32,
   "id": "dee1b066-1201-467f-94b0-f54e61dcdb3c",
   "metadata": {},
   "outputs": [
    {
     "name": "stdout",
     "output_type": "stream",
     "text": [
      "5\n",
      "(784,)\n",
      "(28, 28)\n"
     ]
    }
   ],
   "source": [
    "import sys,os\n",
    "sys.path.append(os.pardir)\n",
    "import numpy as np\n",
    "from dataset.mnist import load_mnist\n",
    "from PIL import Image\n",
    "\n",
    "def img_show(img):\n",
    "    pil_img = Image.fromarray(np.uint8(img))\n",
    "    pil_img.show()\n",
    "    \n",
    "(x_train,t_train), (x_test, t_test) = load_mnist(flatten=True, normalize = False)\n",
    "\n",
    "img = x_train[0]\n",
    "label = t_train[0]\n",
    "print(label) # 5라는 label이 붙어있는 데이터임, x_train[0] = 5임\n",
    "\n",
    "print(img.shape)\n",
    "img = img.reshape(28,28) # 원래 이미지의 모양으로 변형\n",
    "print(img.shape)\n",
    "\n",
    "img_show(img)"
   ]
  },
  {
   "cell_type": "markdown",
   "id": "6fad3d40-ca30-4241-a57f-a900734adbb1",
   "metadata": {},
   "source": [
    "---"
   ]
  },
  {
   "cell_type": "markdown",
   "id": "7fc65c73-102f-4c5b-86bd-579e2feeaa83",
   "metadata": {},
   "source": [
    "> ### 신경망의 추론 처리"
   ]
  },
  {
   "cell_type": "markdown",
   "id": "5333922d-acd1-426f-bf3b-18926d2f10fd",
   "metadata": {},
   "source": [
    "- 추론을 수행하는 신경망을 구현해보자\n",
    "- 입력층 뉴런을 784개, 출력층 뉴런을 10개로 구성한다.\n",
    "  - 각 데이터가 784개의 픽셀로 구성되어져 있기 때문에 입력층 뉴런은 784개가 필요하다.\n",
    "  - 출력층 뉴런이 10개인 이유는 이 문제가 0에서 9가지의 숫자를 구분하는 문제이기 때문이다.\n",
    "- 한편, 은닉층은 총 두 개로 첫 번째 은닉층에는 50개의 뉴런을, 두 번째 은닝층에는 100갸의 뉴런을 배치할 것이다. \n",
    "  - 여기서 50과 100은 임의로 정한 값이다. "
   ]
  },
  {
   "cell_type": "code",
   "execution_count": 33,
   "id": "f0899339-58ca-4692-a344-cc2c2aa19c9c",
   "metadata": {},
   "outputs": [],
   "source": [
    "def get_data():\n",
    "    (x_train, t_train), (x_test, t_test) = load_mnist(normalize = True, flatten = True, one_hot_label = False)\n",
    "    return x_test, t_test\n",
    "\n",
    "def init_network():\n",
    "    with open(\"sample_weight.pkl\",'rb') as f :\n",
    "        network = pickle.load(f)\n",
    "        \n",
    "    return network\n",
    "\n",
    "def predict(network,x):\n",
    "    W1,W2,W3 = network['W1'], network['W2'], network['W3']\n",
    "    b1,b2,b3 = network['b1'], network['b2'], network['b3']\n",
    "    \n",
    "    a1 = np.dot(x,W1) + b1\n",
    "    z1 = sigmoid(a1)\n",
    "    a2 = np.dot(z1,W2) + b2\n",
    "    z2 = sigmoid(a2)\n",
    "    a3 = np.dot(z2,W3) + b3\n",
    "    y = softmax(a3)\n",
    "    \n",
    "    return y"
   ]
  },
  {
   "cell_type": "markdown",
   "id": "52781ddc-3146-478d-9b9d-c130e095b1d1",
   "metadata": {},
   "source": [
    "> 함수 init_network()에서는 pickle 파일인 sample_weight.pkl에 저장된 학습된 가중치 매개변수를 읽는다"
   ]
  },
  {
   "cell_type": "markdown",
   "id": "6f020d4e-af3b-4c25-b4ec-bf7e48a9f240",
   "metadata": {},
   "source": [
    "해당 예제에서는 학습된 가중치 매개변수를 활용할 것이라고 전설하였음"
   ]
  },
  {
   "cell_type": "markdown",
   "id": "8d9f5b41-81bd-434b-ab98-ac789b13a23a",
   "metadata": {},
   "source": [
    "해당 파일에는 가중치와 편향 매개변수가 딕셔너리 변수로 저장되어 있다."
   ]
  },
  {
   "cell_type": "markdown",
   "id": "29d19aac-d076-4367-b3a0-a36aa95f6f19",
   "metadata": {},
   "source": [
    "> 이제 이 세 함수를 사용해 신경망에 의한 추론을 수행해보고, 정확도도 평가해보자"
   ]
  },
  {
   "cell_type": "code",
   "execution_count": 34,
   "id": "920e592f-d447-4beb-bba9-e11ab9742b4c",
   "metadata": {},
   "outputs": [],
   "source": [
    "import pickle"
   ]
  },
  {
   "cell_type": "code",
   "execution_count": 35,
   "id": "a2bfe985-2328-4ff9-a48f-ae3ea51b2909",
   "metadata": {},
   "outputs": [
    {
     "name": "stdout",
     "output_type": "stream",
     "text": [
      "Accuracy: 0.9352\n"
     ]
    }
   ],
   "source": [
    "x,t = get_data() # 이때 x에 할당된 data는 (x_train, t_train)으로서 훈련이미지와 훈련이미지 레이블이다.\n",
    "network = init_network()\n",
    "\n",
    "accuracy_cnt = 0\n",
    "for i in range(len(x)):\n",
    "    y = predict(network, x[i])\n",
    "    p = np.argmax(y) # 확률이 가장 높은 원소의 인덱스를 얻는다.\n",
    "    if p == t[i]: # 확률이 가장 높은 원소의 인덱스와 시험 데이터의 인덱스가 동일하면 accuracy_cnt를 하나 올려준다.\n",
    "        accuracy_cnt += 1\n",
    "    \n",
    "print(\"Accuracy: \"+ str(float(accuracy_cnt) / len(x)))"
   ]
  },
  {
   "cell_type": "markdown",
   "id": "657166d9-ae7c-4946-aadc-f1f855051264",
   "metadata": {},
   "source": [
    "- 이 예에서는 load_mnist 함수의 인수인 normalize를 True로 설정했다.\n",
    "- normalize를 True로 설정하면 0\\~255 범위인 각 픽셀의 값을 0\\~1 범위로 변환한다.\n",
    "- 단순히 픽셀의 값을 255로 나눈다.\n",
    "- 이처럼 데이터를 특정 범위로 변환하는 처리를 정규화라 하고, 신경망의 입력 데이터에 특정 변환을 가하는 것을 전처리라 한다.\n",
    "- 여기에서는 입력 이미지 데이터에 대한 전처리 작업으로 정규화를 수행한 셈이다."
   ]
  },
  {
   "cell_type": "markdown",
   "id": "6d2924d4-05c5-4a33-b8e2-d7576befa5eb",
   "metadata": {},
   "source": [
    "- 현업에서는 데이터 전체 평균과 표준편차를 이용하여 데이터들이 0을 중심으로 분포하도록 이동하거나 데이터의 확신 범위를 제한하는 정규화를 수행한다.\n",
    "- 혹은 전체 데이터를 균일하게 분포시키는 데이터 백색화등도 있따. "
   ]
  },
  {
   "cell_type": "markdown",
   "id": "c964dbc3-c9a4-443b-90ba-c5af221b9889",
   "metadata": {},
   "source": [
    "---"
   ]
  },
  {
   "cell_type": "markdown",
   "id": "faf82219-0881-4bc0-bc31-3ba7b4e88126",
   "metadata": {},
   "source": [
    "> ### 배치 처리"
   ]
  },
  {
   "cell_type": "markdown",
   "id": "5e7ea0ce-393d-4ff6-9aa5-7335154fecfb",
   "metadata": {},
   "source": [
    "배치?\n",
    "- 하나로 묶은 입력 데이터\n",
    "- 곧 묶음을 의미함\n",
    "- 이미지가 지폐처럼 다발로 묶여있는 형태"
   ]
  },
  {
   "cell_type": "markdown",
   "id": "05c7c4dd-07cd-470a-8037-827d6b6ffc16",
   "metadata": {},
   "source": [
    "배치 처리를 수행함으로써 큰 배열로 이뤄진 계산을 하게 되는데 컴퓨터에서는 큰 배열을 한꺼번에 계산하는 것이 분할된 작은 배열을 여러 번 계산하는 것보다 빠르다. "
   ]
  },
  {
   "cell_type": "markdown",
   "id": "a02547c0-9c5f-4af5-8681-9ea8f5bb72e6",
   "metadata": {},
   "source": [
    "배치 처리를 구현해보자"
   ]
  },
  {
   "cell_type": "code",
   "execution_count": 40,
   "id": "9151d1f2-658b-4fd4-886e-8594b0a27472",
   "metadata": {},
   "outputs": [
    {
     "name": "stdout",
     "output_type": "stream",
     "text": [
      "Accuracy:0.9352\n"
     ]
    }
   ],
   "source": [
    "x,t = get_data()\n",
    "network = init_network()\n",
    "\n",
    "batch_size = 100\n",
    "accuracy_cnt = 0\n",
    "\n",
    "for i in range(0,len(x),batch_size):\n",
    "    x_batch = x[i:i+batch_size] # 입력데이터를 지폐처럼 묶음으로 묶는 과정\n",
    "    y_batch = predict(network, x_batch)\n",
    "    p = np.argmax(y_batch, axis=1) # 최댓값의 index\n",
    "    # 이때, axis=1의 역할 : 100x10의 배열 중 1번째 차원을 구성하는 각 원소에서 최댓값의 인덱스를 찾도록 한 것\n",
    "    # index는 0부터 시작하므로 실질적으로는 2번째 차원을 의미함\n",
    "    # 아래에서 예를 살펴보자\n",
    "    accuracy_cnt += np.sum(p == t[i:i+batch_size])\n",
    "\n",
    "print(\"Accuracy:\" + str(float(accuracy_cnt)/len(x)))"
   ]
  },
  {
   "cell_type": "code",
   "execution_count": 50,
   "id": "f15ca2c9-904d-4c93-a758-011f0478f1d0",
   "metadata": {},
   "outputs": [
    {
     "name": "stdout",
     "output_type": "stream",
     "text": [
      "[1 2 1 0]\n",
      "[3 0 1]\n",
      "1\n"
     ]
    }
   ],
   "source": [
    "x = np.array([[0.1,0.8,0.1],[0.3,0.1,0.6],[0.2,0.5,0.3],[0.8,0.1,0.1]])\n",
    "y = np.argmax(x, axis=1)\n",
    "y1 = np.argmax(x,axis=0) \n",
    "y2 = np.argmax(x)\n",
    "print(y) # 행차원\n",
    "print(y1) # 열차원\n",
    "print(y2) # 별 효용성은 없어보이지만 아래 예시를 통해 알아보자"
   ]
  },
  {
   "cell_type": "code",
   "execution_count": 52,
   "id": "2fc4e7e0-30c3-49dc-8d7e-a81113f49c2c",
   "metadata": {},
   "outputs": [
    {
     "data": {
      "text/plain": [
       "4"
      ]
     },
     "execution_count": 52,
     "metadata": {},
     "output_type": "execute_result"
    }
   ],
   "source": [
    "x = np.array([[1,2,3],[2,10,4],[5,6,7]])\n",
    "np.argmax(x)"
   ]
  },
  {
   "cell_type": "markdown",
   "id": "ee1701a8-2502-41cf-bf6f-4af5ea3b9a74",
   "metadata": {},
   "source": [
    "axis를 설정해주지 않으면 그냥 1차원적인 배열로 생각하고 index 찾는 것 같음"
   ]
  },
  {
   "cell_type": "markdown",
   "id": "af366a33-4bf7-40da-a248-a4fd97771a33",
   "metadata": {},
   "source": [
    "> data를 배치로 처리함으로써 효율적이고 빠르게 처리할 수 있었음"
   ]
  },
  {
   "cell_type": "markdown",
   "id": "e9593e51-2867-463e-bcfc-709acc60672e",
   "metadata": {},
   "source": [
    "> Conclusion\n",
    "\n",
    "    지금까지 신경망의 순전파를 살펴보았다.\n",
    "    이번 장에서 설명한 `신경망`은 각 층의 뉴런들이 다음 층의 뉴런으로 신호를 전달한다는 점에서 앞 장의 퍼셉트론과 같다.\n",
    "    하지만 다음 뉴런으로 갈 때 신호를 변화시키는 활성화 함수에 큰 차이가 있었다. \n",
    "    신경망에서는 매끄럽게 변화하는 시그모이드 함수를 퍼셉트론에서는 갑자기 변화하는 계단 함수를 활성화 함수로 사용했다. \n",
    "    이 차이가 신경망 학습에 중요하다.\n",
    "    다음 장에서 부연 설명한다."
   ]
  },
  {
   "cell_type": "markdown",
   "id": "76ea1f81-6bb2-4a7d-a63b-26e489757257",
   "metadata": {},
   "source": [
    "- 신경망에서는 활성화 함수로 시그모이드 함수와 ReLU 함수 같은 매끄럽게 변화하는 함수를 이용\n",
    "- 출력층의 활성화 함수로는 회귀에서는 주로 항등 함수를, 분류에서는 주로 소프트 맥스 함수를 이용한다. \n",
    "- 분류에서는 출력층의 뉴런 수를 분류하려는 클래스 수와 같게 설정한다. \n",
    "- 입력 데이터를 묶은 것을 배치라 하며, 추론 처리를 이 배치 단위로 진행하면 결과를 훨씬 빠르게 얻을 수 있다. "
   ]
  },
  {
   "cell_type": "markdown",
   "id": "58ad0532-bea9-472a-bdfe-a2fd53a74259",
   "metadata": {},
   "source": [
    "---"
   ]
  },
  {
   "cell_type": "markdown",
   "id": "2d8ab021-cabd-41cb-9e85-8b04be4baca8",
   "metadata": {},
   "source": [
    "---"
   ]
  },
  {
   "cell_type": "markdown",
   "id": "cf1db83f-75c0-4d04-9b59-6a3ee47a1826",
   "metadata": {},
   "source": [
    "---"
   ]
  },
  {
   "cell_type": "markdown",
   "id": "4278ebaa-3a75-4ecc-a116-3a04fbeb6e0a",
   "metadata": {},
   "source": [
    "> ### 신경망 학습"
   ]
  },
  {
   "cell_type": "markdown",
   "id": "eba4df90-e5fa-41af-bfb9-7bfb40d47c33",
   "metadata": {},
   "source": [
    "신경망 학습\n",
    "- 여기서 학습이란? 훈련 데이터로부터 가중치 매개변수의 최적값을 자동으로 획득하는 것을 의미.\n",
    "- 신경망이 학습할 수 있도록 해주는 지표인 손실 함수에 대해 알아보자\n",
    "- 이 `손실 함수의 결괏값을 가장 작게 만드는 가중치 매개변수를 찾는 것`이 학습 목표이다. "
   ]
  },
  {
   "cell_type": "markdown",
   "id": "68d94d5f-72a8-42bb-9cbf-bc70b98fa836",
   "metadata": {},
   "source": [
    "->->->->->->->->->->->->->->->->->->->->->->->->->->->->->->->->->->->->->->->->->->->->->->->->->->->->->->->->->->->->"
   ]
  },
  {
   "cell_type": "markdown",
   "id": "dc7421ae-800a-4cc6-aeea-b9a86933c1b6",
   "metadata": {},
   "source": [
    "한 가지 예를 들어보자"
   ]
  },
  {
   "cell_type": "markdown",
   "id": "2fbaad4e-e93d-430d-95fc-9dba7d310163",
   "metadata": {},
   "source": [
    "여러 사람이 자필로 작성한 5라는 숫자를 인식하고자 할 때, 5를 인식하는 알고리즘을 밑바닥부터 설계하는 대신, 주어진 데이터를 잘 활용해 해결할 수 있다. 이미지에서 feature를 추출하고 그 feature의 패턴을 기계학습 기술로 학습하는 방법이다. 여기서 말하는 feature는 입력 데이터(입력 이미지)에서 본질적인 데이터를 정확하게 추출할 수 있도록 설계된 변화기를 가리킨다."
   ]
  },
  {
   "cell_type": "markdown",
   "id": "630c6bee-38f4-4c36-8f2f-e55e96e6f87f",
   "metadata": {},
   "source": [
    "이미지의 특징은 보통 vector로 기술하고, 컴퓨터 비전 분야에서는 SIFT, SURF, HOG 등의 특징을 많이 사용한다. 이런 특징을 사용하여 이미지 데이터를 벡터로 변환하고, 변환된 벡터를 가지고 지도 학습 방식의 대표 분류 기법인 SVM, KNN등으로 학습할 수 있다. "
   ]
  },
  {
   "cell_type": "markdown",
   "id": "0155029d-faa2-4d63-91f9-dbd15f622b7a",
   "metadata": {},
   "source": [
    "- 위에서 언급한 기계학습은 딥러닝을 제외한 머신러닝을 의미."
   ]
  },
  {
   "cell_type": "markdown",
   "id": "6a6ed4c7-be29-407f-a829-a5caf4e73f56",
   "metadata": {},
   "source": [
    "- 기계학습에서 단순 이미지를 벡터로 변환할 때 사용하는 특징은 사람이 설계해야 한다.\n",
    "  - 하지만 신경망은 이미지에 포함된 중요한 특징까지도 기계가 스스로 학습한다. "
   ]
  },
  {
   "cell_type": "markdown",
   "id": "0ddd5cf5-565d-4708-a40e-93b07a102659",
   "metadata": {},
   "source": [
    "- 따라서 신경망의 이점은 모든 문제를 같은 맥락에서 풀 수 있다는 점이다.\n",
    "- 예를 들어, 5를 인식하는 문제든, 개를 인식하는 문제든 아니면 사람의 얼굴을 인식하는 문제든 세부사항과 관계없이 신경망은 주어진 데이터를 온전히 학습하고, 주어진 문제의 패턴을 발견하려 시도한다.\n",
    "- 즉, 신경망은 모든 문제를 주어진 데이터 그대로를 입력 데이터로 활용해 'end-to-end'로 학습한다. "
   ]
  },
  {
   "cell_type": "markdown",
   "id": "043d0943-919e-4d6c-875e-07add42b9bd0",
   "metadata": {},
   "source": [
    "->->->->->->->->->->->->->->->->->->->->->->->->->->->->->->->->->->->->->->->->->->->->->->->->->->->->->->->->->->->->"
   ]
  },
  {
   "cell_type": "markdown",
   "id": "69eb7642-676e-4bbf-842a-f1e1f5bdab3b",
   "metadata": {},
   "source": [
    "모델의 범용능력을 제대로 평가하기 위해 기계학습에서는 훈련 데이터와 시험 데이터를 구분하여 사용한다.\n",
    "  - 참고로 한 데이터셋에만 지나치게 최적화된 상태를 오버피팅이라고 한다. \n",
    "  - 오버피팅의 해결은 기계학습의 중요한 과제이기도 하다."
   ]
  },
  {
   "cell_type": "markdown",
   "id": "c0b49845-2f5b-463c-afc0-240e178f41b3",
   "metadata": {},
   "source": [
    "->->->->->->->->->->->->->->->->->->->->->->->->->->->->->->->->->->->->->->->->->->->->->->->->->->->->->->->->->->->->"
   ]
  },
  {
   "cell_type": "markdown",
   "id": "af2fd648-ef9d-4ee7-8009-97d693883f7d",
   "metadata": {},
   "source": [
    "> ### 손실 함수"
   ]
  },
  {
   "cell_type": "markdown",
   "id": "0c0b9d8f-b23f-4777-9b71-d8b03f4609db",
   "metadata": {},
   "source": [
    "신경망 학습에서 사용하는 지표로서 이 손실 함수는 임의의 함수를 사용할 수도 있지만, 일반적으로는 오차제곱합과 교차 엔트로피 오차를 사용한다."
   ]
  }
 ],
 "metadata": {
  "kernelspec": {
   "display_name": "Python 3 (ipykernel)",
   "language": "python",
   "name": "python3"
  },
  "language_info": {
   "codemirror_mode": {
    "name": "ipython",
    "version": 3
   },
   "file_extension": ".py",
   "mimetype": "text/x-python",
   "name": "python",
   "nbconvert_exporter": "python",
   "pygments_lexer": "ipython3",
   "version": "3.8.11"
  }
 },
 "nbformat": 4,
 "nbformat_minor": 5
}
