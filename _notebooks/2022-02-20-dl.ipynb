{
 "cells": [
  {
   "cell_type": "markdown",
   "id": "1c2a10e4-df50-4e89-bdb0-3cca715fc580",
   "metadata": {},
   "source": [
    "# CNN 시각화하기"
   ]
  },
  {
   "cell_type": "markdown",
   "id": "b763f6c2-9691-4d83-90cf-ef23c604b269",
   "metadata": {},
   "source": [
    "- 간단히 정리만 해보자"
   ]
  },
  {
   "cell_type": "markdown",
   "id": "75570ad0-c763-4d1b-a71b-5d2d716f6bf7",
   "metadata": {},
   "source": [
    "- CNN을 구성하는 합성곱 계층은 입력으로 받은 이미지 데이터에서 무엇을 보는 걸까.\n",
    "- 합성곱 계층을 시각화하여 CNN이 보고 있는 것이 무엇인지 알아보자"
   ]
  },
  {
   "cell_type": "markdown",
   "id": "89d13940-66fd-4418-8fc7-21c1713d0db1",
   "metadata": {},
   "source": [
    "- MNIST 데이터셋으로 간단한 CNN 학습을 했을 때, 1번째 층의 합성곱 계층의 가중치는 그 형상이 (30,1,5,5)였다. 즉 필터 30개, 채널 1개, 5x5 크기인 것이다. 즉 채널이 1개라는 것은 이 필터를 1채널의 회색조 이미지로 시각화할 수 있다는 뜻이다. "
   ]
  },
  {
   "cell_type": "markdown",
   "id": "27415879-ef32-47b4-8673-5b0782c19641",
   "metadata": {},
   "source": [
    "- 255p를 참고해보면, 학습 전 필터는 무작위로 초기화되고 있어 흑백의 정도에 규칙성이 없다. 한편 학습을 마친 필터는 규칙성 있는 이미지가 되었다. 흰색에서 검은색으로 점차 변화하는 필터와 덩어리-블롭(blob)가 진 필터 등, 규칙을 띄는 필터로 바뀌었다. \n",
    "- 그렇다면 오른쪽 그림같이 규칙성 있는 필터는 무엇을 보고 있는 것일까.\n",
    "  - 그것은 에지(색상이 바꾸니 경계선)와 블롭(국소적으로 덩어리진 영역) 등을 보고 있다. 가령, 왼쪽 절반이 흰색이고 오른쪽 절반이 검은색인 필터는 세로 방향의 에지에 반응하는 필터이다. \n",
    "- 합성곱 계층의 필터는 에지나 블롭 등의 원시적인 정보를 추출할 수 있따. 이런 원시적인 정보가 뒷단 계층에 전달된다는 것이 앞에서 구현한 CNN에서 일어나는 일이다. "
   ]
  },
  {
   "cell_type": "markdown",
   "id": "8ee9c9ce-e1e8-4cd9-bb94-563a6cafa93e",
   "metadata": {},
   "source": [
    "---"
   ]
  },
  {
   "cell_type": "markdown",
   "id": "bf66df8e-d3af-4600-a6d6-90465c9a2ea5",
   "metadata": {},
   "source": [
    "- 층 깊이에 따른 추출 정보 변화\n",
    "  - 지금까진 1번째 층의 합성곱 계층을 대상으로 한 것이다. 1번째 층의 합성곱 계층에서는 에지나 블롭 등의 저수준 정보가 추출된다면 겹겹이 쌓인 CNN의 각 계층에서는 어떤 정보가 추출될까. \n",
    "    - 계층이 깊어지면 깊어질수록 추출되는 정보(정확히는 강하게 반응하는 뉴런)는 더 추상화된다는 것을 알 수 있다."
   ]
  },
  {
   "cell_type": "markdown",
   "id": "0c5a90d0-8a94-402b-9147-8c1adcaab0ac",
   "metadata": {},
   "source": [
    "- 딥러닝의 흥미로운 점은 합성곱 계층을 겹겹히 쌓으면 층이 깊어지면서 더 복잡하고 추상화된 정보가 추출된다는 것이다.\n",
    "- 처음 층은 단순한 에지에 반응하고, 이어서 텍스처에 반응하고, 더 복잡한 사물의 일부에 반응하도록 변화한다. \n",
    "  - 즉, 층이 깊어지면서 뉴런이 반응하는 대상이 단순한 모양에서 고급 정보로 변해간다. 다시 말하면 사물의 의미를 이해하도록 변화하는 것이다."
   ]
  },
  {
   "cell_type": "markdown",
   "id": "543e597f-5ad3-437a-8da8-af35293e72e8",
   "metadata": {},
   "source": [
    "---"
   ]
  },
  {
   "cell_type": "markdown",
   "id": "d5105d9c-1299-48b3-9218-c1c70fef9083",
   "metadata": {},
   "source": [
    "- 대표적 CNN\n",
    "  - 지금까지 제안된 CNN 네트워크 구성은 다양하다. 그 중 두가지를 알아보자"
   ]
  },
  {
   "cell_type": "markdown",
   "id": "149be3b7-207d-4f46-9c9d-2d9c5d2aea6f",
   "metadata": {},
   "source": [
    "- 1) LeNet\n",
    "  - 손글씨 숫자를 인식하는 네트워크로서 합성곱 계층과 풀링 계층을 반복하고 마지막으로 완전연결 계층을 거치면서 결과를 출력한다. \n",
    "  - 현재의 CNN과 몇가지 차이가 있다.\n",
    "    - 1) 활성화함수가 LeNet은 Sigmoid인 반면, 현재는 주로 ReLU를 사용한다. \n",
    "    - 2) 원래의 LeNet은 서브 샘플링을 하여 중간 데이터의 크기를 줄이지만 현재는 최대 풀링이 주류이다. "
   ]
  },
  {
   "cell_type": "markdown",
   "id": "4428dac0-1d4d-48aa-9b48-ecc40efc512f",
   "metadata": {},
   "source": [
    "- 2) AlexNet\n",
    "  - 합성곱 계층과 풀링 계층을 거듭하며 마지막으로 완전연결 계층을 거쳐 결과를 출력한다. LeNet에서 큰 구조는 바뀌지 않는다. \n",
    "    - 1) 활성화 함수로 ReLU를 이용한다.\n",
    "    - 2) LRN이라는 국소적 정규화를 실시하는 계층을 이용한다.\n",
    "    - 3) 드롭 아웃을 사용한다."
   ]
  },
  {
   "cell_type": "markdown",
   "id": "bfc403c7-caf7-4f93-a1be-92419c9b5eff",
   "metadata": {},
   "source": [
    "---"
   ]
  },
  {
   "cell_type": "markdown",
   "id": "20c5c656-5302-4630-bdac-b21afee722e2",
   "metadata": {},
   "source": [
    "> Conclusion\n",
    "  - CNN에 대해 배웠다. CNN은 이미지를 다루는 분야에서는 거의 예외없이 쓰인다. \n",
    "  - CNN은 지금까지의 완전연결 계층 네트워크에 합성곱 계층가 풀링 계층을 새로 추가한다. \n",
    "  - 합성곱 계층과 풀링 계층은 im2col(이미지를 행렬로 전개하는 함수)을 이용하면 간단하고 효율적으로 구현할 수 있다. \n",
    "  - CNN을 시각화해보면 계층이 깊어질수록 고급 정보가 추출되는 모습을 확인할 수 있다. \n",
    "  - 대표적인 CNN에는 LeNet과 AlexNet이 있다."
   ]
  }
 ],
 "metadata": {
  "kernelspec": {
   "display_name": "Python 3 (ipykernel)",
   "language": "python",
   "name": "python3"
  },
  "language_info": {
   "codemirror_mode": {
    "name": "ipython",
    "version": 3
   },
   "file_extension": ".py",
   "mimetype": "text/x-python",
   "name": "python",
   "nbconvert_exporter": "python",
   "pygments_lexer": "ipython3",
   "version": "3.8.11"
  }
 },
 "nbformat": 4,
 "nbformat_minor": 5
}
