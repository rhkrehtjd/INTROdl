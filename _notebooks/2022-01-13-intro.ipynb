{
 "cells": [
  {
   "cell_type": "markdown",
   "id": "3ef7e172-cd31-4e3b-be3e-4f4cbe9caec2",
   "metadata": {},
   "source": [
    "# 2022/01/13/THU"
   ]
  },
  {
   "cell_type": "markdown",
   "id": "bf1da32b-79f8-4118-a923-93e28a26fdb2",
   "metadata": {},
   "source": [
    "> ### View(Reshape)"
   ]
  },
  {
   "cell_type": "code",
   "execution_count": 8,
   "id": "7e6ca0a1-0372-4c88-9d7c-d187e6d84a8a",
   "metadata": {},
   "outputs": [
    {
     "name": "stdout",
     "output_type": "stream",
     "text": [
      "torch.Size([2, 2, 3])\n"
     ]
    }
   ],
   "source": [
    "import numpy as np\n",
    "import torch\n",
    "t=np.array([[[0, 1, 2],\n",
    "            [3, 4, 5]],\n",
    "          \n",
    "            [[6, 7, 8],\n",
    "           [9, 10, 11]]])\n",
    "ft=torch.FloatTensor(t)\n",
    "print(ft.shape)"
   ]
  },
  {
   "cell_type": "code",
   "execution_count": 9,
   "id": "c5d27f91-2544-4828-8b9d-10ecac81dbcb",
   "metadata": {},
   "outputs": [
    {
     "data": {
      "text/plain": [
       "array([[[ 0,  1,  2],\n",
       "        [ 3,  4,  5]],\n",
       "\n",
       "       [[ 6,  7,  8],\n",
       "        [ 9, 10, 11]]])"
      ]
     },
     "execution_count": 9,
     "metadata": {},
     "output_type": "execute_result"
    }
   ],
   "source": [
    "t"
   ]
  },
  {
   "cell_type": "code",
   "execution_count": 10,
   "id": "942dce74-27cb-4b19-9ecf-b924c0261139",
   "metadata": {},
   "outputs": [
    {
     "name": "stdout",
     "output_type": "stream",
     "text": [
      "tensor([[ 0.,  1.,  2.],\n",
      "        [ 3.,  4.,  5.],\n",
      "        [ 6.,  7.,  8.],\n",
      "        [ 9., 10., 11.]])\n",
      "torch.Size([4, 3])\n"
     ]
    }
   ],
   "source": [
    "print(ft.view([-1,3])) # view사용해서 모양 바꾸자\n",
    "print(ft.view([-1,3]).shape)"
   ]
  },
  {
   "cell_type": "markdown",
   "id": "bf4bc19d-847b-4d78-b1c4-92cc6af2b5b1",
   "metadata": {},
   "source": [
    "- 두개의 차원으로 변경할 건데 앞 차원은 모르겠고 뒷 차원은 세개의 element를 가질래"
   ]
  },
  {
   "cell_type": "code",
   "execution_count": 11,
   "id": "853cde07-bbe1-45e0-91c2-f9b660c2a32c",
   "metadata": {},
   "outputs": [
    {
     "name": "stdout",
     "output_type": "stream",
     "text": [
      "tensor([[[ 0.,  1.,  2.]],\n",
      "\n",
      "        [[ 3.,  4.,  5.]],\n",
      "\n",
      "        [[ 6.,  7.,  8.]],\n",
      "\n",
      "        [[ 9., 10., 11.]]])\n",
      "torch.Size([4, 1, 3])\n"
     ]
    }
   ],
   "source": [
    "print(ft.view([-1,1,3]))\n",
    "print(ft.view([-1,1,3]).shape)"
   ]
  },
  {
   "cell_type": "markdown",
   "id": "cb2a4dba-833a-4531-907c-2381368e184b",
   "metadata": {},
   "source": [
    "- 세개의 차원으로 변경할 건데 첫번째 차원은 아직 모르겠고 두번째 차원과 세번째 차원은 각각 1과3으로 변경해줘"
   ]
  },
  {
   "cell_type": "markdown",
   "id": "b043a97f-81dc-41c0-a1ab-97cdcaac4b1c",
   "metadata": {},
   "source": [
    "> Squeeze"
   ]
  },
  {
   "cell_type": "code",
   "execution_count": 12,
   "id": "29aed42b-d638-4bc8-a953-82d42de889e5",
   "metadata": {},
   "outputs": [
    {
     "name": "stdout",
     "output_type": "stream",
     "text": [
      "tensor([[0.],\n",
      "        [1.],\n",
      "        [2.]])\n",
      "torch.Size([3, 1])\n"
     ]
    }
   ],
   "source": [
    "ft=torch.FloatTensor([[0],[1],[2]])\n",
    "print(ft)\n",
    "print(ft.shape)"
   ]
  },
  {
   "cell_type": "code",
   "execution_count": 13,
   "id": "9592d887-848d-4943-80bb-7b3c28bf01ca",
   "metadata": {},
   "outputs": [
    {
     "name": "stdout",
     "output_type": "stream",
     "text": [
      "tensor([0., 1., 2.])\n",
      "torch.Size([3])\n"
     ]
    }
   ],
   "source": [
    "print(ft.squeeze())\n",
    "print(ft.squeeze().shape)"
   ]
  },
  {
   "cell_type": "markdown",
   "id": "efc529bf-2988-411d-b6a8-0d1ee7c4e1f5",
   "metadata": {},
   "source": [
    "- 차원이 줄어들었음\n",
    "- 1만 압축해주는 것 같음"
   ]
  },
  {
   "cell_type": "code",
   "execution_count": 15,
   "id": "b85e5018-2c04-4a94-8f33-32a401ac0907",
   "metadata": {},
   "outputs": [
    {
     "name": "stdout",
     "output_type": "stream",
     "text": [
      "tensor([[0.],\n",
      "        [1.],\n",
      "        [2.]])\n",
      "tensor([0., 1., 2.])\n"
     ]
    }
   ],
   "source": [
    "print(ft.squeeze(dim=0))\n",
    "print(ft.squeeze(dim=1)) # 해당 차원이 1일 때만!"
   ]
  },
  {
   "cell_type": "markdown",
   "id": "e7685e19-ff93-4c70-a109-27a254760f26",
   "metadata": {},
   "source": [
    "> Unsqueeze"
   ]
  },
  {
   "cell_type": "code",
   "execution_count": 16,
   "id": "f17a000e-153c-413c-93c8-4cc6e2cde903",
   "metadata": {},
   "outputs": [
    {
     "name": "stdout",
     "output_type": "stream",
     "text": [
      "torch.Size([3])\n"
     ]
    }
   ],
   "source": [
    "ft = torch.Tensor([0,1,2])\n",
    "print(ft.shape)"
   ]
  },
  {
   "cell_type": "markdown",
   "id": "9c49adc1-8b3f-48b6-bf04-6b4f261580d2",
   "metadata": {},
   "source": [
    "- 첫번째 차원에 1을 넣자"
   ]
  },
  {
   "cell_type": "code",
   "execution_count": 20,
   "id": "5cb51ccc-3b26-456a-a78b-fa235beb782f",
   "metadata": {},
   "outputs": [
    {
     "name": "stdout",
     "output_type": "stream",
     "text": [
      "tensor([[0., 1., 2.]])\n",
      "torch.Size([1, 3])\n"
     ]
    }
   ],
   "source": [
    "print(ft.unsqueeze(0))\n",
    "print(ft.unsqueeze(0).shape)"
   ]
  },
  {
   "cell_type": "code",
   "execution_count": 22,
   "id": "40b56fd9-88fb-4bc0-a054-b139b534ff8e",
   "metadata": {},
   "outputs": [
    {
     "name": "stdout",
     "output_type": "stream",
     "text": [
      "tensor([[0., 1., 2.]])\n",
      "torch.Size([1, 3])\n"
     ]
    }
   ],
   "source": [
    "print(ft.view(1,-1))\n",
    "print(ft.view(1,-1).shape)"
   ]
  },
  {
   "cell_type": "markdown",
   "id": "8082a7fe-2e62-4a09-b7cb-c31a7a421893",
   "metadata": {},
   "source": [
    "- 두번째 차원에 1을 넣자"
   ]
  },
  {
   "cell_type": "code",
   "execution_count": 24,
   "id": "390d16e6-f2ba-42ce-8a19-c1ed90871221",
   "metadata": {},
   "outputs": [
    {
     "name": "stdout",
     "output_type": "stream",
     "text": [
      "tensor([[0.],\n",
      "        [1.],\n",
      "        [2.]])\n",
      "torch.Size([3, 1])\n"
     ]
    }
   ],
   "source": [
    "print(ft.unsqueeze(1))\n",
    "print(ft.unsqueeze(1).shape)"
   ]
  },
  {
   "cell_type": "markdown",
   "id": "5e652609-0f57-40fc-8f2f-a4227958e9af",
   "metadata": {},
   "source": [
    "- -1=(dim=1)"
   ]
  },
  {
   "cell_type": "code",
   "execution_count": 26,
   "id": "afb3646d-5877-4a96-b4e9-69d044266d8d",
   "metadata": {},
   "outputs": [
    {
     "name": "stdout",
     "output_type": "stream",
     "text": [
      "tensor([[0.],\n",
      "        [1.],\n",
      "        [2.]])\n",
      "torch.Size([3, 1])\n"
     ]
    }
   ],
   "source": [
    "print(ft.unsqueeze(-1))\n",
    "print(ft.unsqueeze(-1).shape)"
   ]
  },
  {
   "cell_type": "markdown",
   "id": "cc07bdab-5360-4c4b-89f4-7eac4a9e6d0a",
   "metadata": {},
   "source": [
    "> Type Casting"
   ]
  },
  {
   "cell_type": "code",
   "execution_count": 27,
   "id": "b5a3593a-efcc-4bd6-96b0-da1c4c46b1dd",
   "metadata": {},
   "outputs": [
    {
     "name": "stdout",
     "output_type": "stream",
     "text": [
      "tensor([1, 2, 3, 4])\n"
     ]
    }
   ],
   "source": [
    "lt = torch.LongTensor([1,2,3,4])\n",
    "print(lt)"
   ]
  },
  {
   "cell_type": "code",
   "execution_count": 28,
   "id": "f680f040-041f-4d0c-92fa-095f2fa08e8d",
   "metadata": {},
   "outputs": [
    {
     "name": "stdout",
     "output_type": "stream",
     "text": [
      "tensor([1., 2., 3., 4.])\n"
     ]
    }
   ],
   "source": [
    "print(lt.float())"
   ]
  },
  {
   "cell_type": "markdown",
   "id": "987cf993-82c7-4e8b-b495-4b1f405556e9",
   "metadata": {},
   "source": [
    "- bool형일 때"
   ]
  },
  {
   "cell_type": "code",
   "execution_count": 29,
   "id": "434218db-9e0b-4de6-a3a6-ead1486944c6",
   "metadata": {},
   "outputs": [
    {
     "name": "stdout",
     "output_type": "stream",
     "text": [
      "tensor([1, 1, 1], dtype=torch.uint8)\n"
     ]
    }
   ],
   "source": [
    "bt=torch.ByteTensor([True,True,True])\n",
    "print(bt)"
   ]
  },
  {
   "cell_type": "code",
   "execution_count": 30,
   "id": "fe4fc2a8-c6c0-42d2-8255-331fd4787b84",
   "metadata": {},
   "outputs": [
    {
     "name": "stdout",
     "output_type": "stream",
     "text": [
      "tensor([1, 1, 1])\n",
      "tensor([1., 1., 1.])\n"
     ]
    }
   ],
   "source": [
    "print(bt.long())\n",
    "print(bt.float())"
   ]
  },
  {
   "cell_type": "markdown",
   "id": "7554da61-b3f6-4bff-b819-333b816ab13b",
   "metadata": {},
   "source": [
    "> Concatenate"
   ]
  },
  {
   "cell_type": "code",
   "execution_count": 31,
   "id": "e8f77926-2b34-4f0f-8ae2-177e0e56759a",
   "metadata": {},
   "outputs": [],
   "source": [
    "x=torch.FloatTensor([[1,2],[3,4]])\n",
    "y=torch.FloatTensor([[5,6],[7,8]])"
   ]
  },
  {
   "cell_type": "code",
   "execution_count": 33,
   "id": "5433eecc-f2d8-4068-bcfc-d0f6b607e703",
   "metadata": {},
   "outputs": [
    {
     "name": "stdout",
     "output_type": "stream",
     "text": [
      "tensor([[1., 2.],\n",
      "        [3., 4.],\n",
      "        [5., 6.],\n",
      "        [7., 8.]])\n",
      "tensor([[1., 2., 5., 6.],\n",
      "        [3., 4., 7., 8.]])\n"
     ]
    }
   ],
   "source": [
    "print(torch.cat([x,y], dim=0))\n",
    "print(torch.cat([x,y], dim=1))"
   ]
  },
  {
   "cell_type": "markdown",
   "id": "edd2d2c4-26a8-4f81-a97b-6ca1196515a4",
   "metadata": {},
   "source": [
    "> Stacking"
   ]
  },
  {
   "cell_type": "code",
   "execution_count": 34,
   "id": "f7d0c1b1-4462-4e3b-bd3b-cc48fc6362d2",
   "metadata": {},
   "outputs": [],
   "source": [
    "x=torch.FloatTensor([1,4])\n",
    "y=torch.FloatTensor([2,5])\n",
    "z=torch.FloatTensor([3,6])"
   ]
  },
  {
   "cell_type": "code",
   "execution_count": 37,
   "id": "0c7003b4-a6b9-475b-a761-f4a3d21897b3",
   "metadata": {},
   "outputs": [
    {
     "name": "stdout",
     "output_type": "stream",
     "text": [
      "tensor([[1., 4.],\n",
      "        [2., 5.],\n",
      "        [3., 6.]])\n",
      "tensor([[1., 2., 3.],\n",
      "        [4., 5., 6.]])\n"
     ]
    }
   ],
   "source": [
    "print(torch.stack([x,y,z]))\n",
    "print(torch.stack([x,y,z],dim=1))"
   ]
  },
  {
   "cell_type": "code",
   "execution_count": 38,
   "id": "f7226f6c-0da3-4295-980e-ce655fb51ba9",
   "metadata": {},
   "outputs": [
    {
     "name": "stdout",
     "output_type": "stream",
     "text": [
      "tensor([[1., 4.],\n",
      "        [2., 5.],\n",
      "        [3., 6.]])\n"
     ]
    }
   ],
   "source": [
    "print(torch.cat([x.unsqueeze(0),y.unsqueeze(0),z.unsqueeze(0)],dim=0))"
   ]
  },
  {
   "cell_type": "markdown",
   "id": "97a076e5-806d-4e7a-ac9d-51be1853fced",
   "metadata": {},
   "source": [
    "> Ones and Zeros"
   ]
  },
  {
   "cell_type": "code",
   "execution_count": 40,
   "id": "830355c9-cc8e-4405-a0cf-b10cd950f1b9",
   "metadata": {},
   "outputs": [
    {
     "name": "stdout",
     "output_type": "stream",
     "text": [
      "tensor([[1., 1., 1.],\n",
      "        [1., 1., 1.]])\n",
      "tensor([[0., 0., 0.],\n",
      "        [0., 0., 0.]])\n"
     ]
    }
   ],
   "source": [
    "x=torch.FloatTensor([[0,1,2],[2,1,0]])\n",
    "print(torch.ones_like(x))\n",
    "print(torch.zeros_like(x))"
   ]
  },
  {
   "cell_type": "markdown",
   "id": "1db39b68-35d8-4002-9c82-7f526a8af05f",
   "metadata": {},
   "source": [
    "> In-place Operation"
   ]
  },
  {
   "cell_type": "code",
   "execution_count": 41,
   "id": "2e711e24-0101-46d0-85be-1dcb4dc35aac",
   "metadata": {},
   "outputs": [],
   "source": [
    "x=torch.FloatTensor([[1,2],[3,4]])"
   ]
  },
  {
   "cell_type": "code",
   "execution_count": 47,
   "id": "afa1144e-0a31-4d72-91a6-dc7ff47618d7",
   "metadata": {},
   "outputs": [
    {
     "name": "stdout",
     "output_type": "stream",
     "text": [
      "tensor([[2., 4.],\n",
      "        [6., 8.]])\n",
      "tensor([[1., 2.],\n",
      "        [3., 4.]])\n",
      "tensor([[2., 4.],\n",
      "        [6., 8.]])\n",
      "tensor([[2., 4.],\n",
      "        [6., 8.]])\n"
     ]
    }
   ],
   "source": [
    "print(x.mul(2))\n",
    "print(x)\n",
    "print(x.mul_(2))\n",
    "print(x)"
   ]
  },
  {
   "cell_type": "markdown",
   "id": "f7dc88c6-116d-4833-ae71-26b57b47e9a6",
   "metadata": {},
   "source": [
    "- 즉 언더바를 통해 inplace=True 효과!"
   ]
  }
 ],
 "metadata": {
  "kernelspec": {
   "display_name": "Python 3 (ipykernel)",
   "language": "python",
   "name": "python3"
  },
  "language_info": {
   "codemirror_mode": {
    "name": "ipython",
    "version": 3
   },
   "file_extension": ".py",
   "mimetype": "text/x-python",
   "name": "python",
   "nbconvert_exporter": "python",
   "pygments_lexer": "ipython3",
   "version": "3.8.11"
  }
 },
 "nbformat": 4,
 "nbformat_minor": 5
}
