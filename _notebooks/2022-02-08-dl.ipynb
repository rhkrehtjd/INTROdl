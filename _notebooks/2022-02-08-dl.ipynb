{
 "cells": [
  {
   "cell_type": "markdown",
   "id": "359f651d-ad60-4049-95be-221b8a3ce459",
   "metadata": {},
   "source": [
    "# 교차 엔트로피 오차"
   ]
  },
  {
   "cell_type": "markdown",
   "id": "d7a0a017-ab65-415d-96b8-955f01ca8a65",
   "metadata": {},
   "source": [
    "- 데이터에서 학습한다 : 가중치 매개변수의 값을 데이터를 보고 자동으로 결정한다.\n",
    "- 이번 장에서는 신경망 학습(데이터로부터 매개변수의 값을 정하는 방법)에 대해 알아보고 파이썬으로 MNIST 데이터셋의 손글씨 숫자를 학습하는 코드를 구현해보자"
   ]
  },
  {
   "cell_type": "markdown",
   "id": "89bad030-8fbd-43ee-85d1-d5f8a27e4eb1",
   "metadata": {},
   "source": [
    "---"
   ]
  },
  {
   "cell_type": "markdown",
   "id": "d14515fc-bf16-4ec8-827c-0a048c3cca1a",
   "metadata": {},
   "source": [
    "- 데이터 주도 학습\n",
    "  - 신경망과 딥러닝은 기존 기계학습에서 사용하던 방법보다 사람의 개입을 더욱 배제할 수 있게 해주는 중요한 특성을 지녔다.\n",
    "    - 구체적 예 > 가령 이미지에서 '5'라는 숫자를 인식하는 프로그램을 구현한다고 해보자. 주어진 데이터를 잘 활용해서 해결해야 한다. 이런 방법의 하나로서 이미지에서 특징을 추출하고 그 특징의 패턴을 기계학습 기술로 학습하는 방법이 있다. 여기서 말하는 특징은 입력 데이터(입력 이미지)에서 본질적인 데이터(중요 데이터)를 정확하게 추출할 수 있도록 설계된 변환기를 가리킨다. 이미지의 특징은 보통 벡터로 기술한다. 이미지 데이터를 벡터로 변환하고, 변환된 벡터를 가지고 지도 학습 방식의 대표 분류 기법인 SVM,KNN등으로 학습할 수 있다. \n",
    "    - 다만, 이미지를 벡터로 변환할 때 사용하는 특징은 여전히 사람이 설계한다. \n",
    "    - 즉, 특징과 기계학습을 활용한 접근에도 문제에 따라서는 사람이 적절한 특징을 생각해내야 하는 것이다.\n",
    "    - 반면 신경망 방식은 사람이 개입하지 않는 블록 하나로 이루어진다. \n",
    "    - 신경망은 이미지를 있는 그대로 학습한다. 신경망은 이미지에 포함된 중요한 특징까지도 기계가 스스로 학습한다. 따라서 종단간 기계학습이라고 딥러닝을 부르기도 한다. "
   ]
  },
  {
   "cell_type": "markdown",
   "id": "17292b2f-aa30-41f6-8c27-3f47ba80fe42",
   "metadata": {},
   "source": [
    "- 신경망도 하나의 지표를 기준으로 최적의 매개변수 값을 탐색한다. 신경망 학습에서 사용하는 지표는 손실 함수라고도 한다. 이 손실 함수는 임의의 함수를 사용할 수도 있지만 일반적으로는 오차제곱합과 교차 엔트로피 오차를 사용한다.\n",
    "- 오차 제곱합은 각 원소의 출력(추정 값)과 정답 레이블(참 값)의 차를 제곱한 후, 그 총합을 구한다. 파이썬으로 구현해보자"
   ]
  },
  {
   "cell_type": "code",
   "execution_count": 4,
   "id": "3ee90849-709c-410d-a3a0-1cd6cd9a1b7c",
   "metadata": {},
   "outputs": [],
   "source": [
    "import numpy as np\n",
    "\n",
    "def sum_squares_error(y,t):\n",
    "    return 0.5 * np.sum((y-t)**2)"
   ]
  },
  {
   "cell_type": "markdown",
   "id": "900b96b2-cbc4-498b-b59a-07106b9c3191",
   "metadata": {},
   "source": [
    "- 여기서 인수 y와 t는 넘파이 배열이다. "
   ]
  },
  {
   "cell_type": "code",
   "execution_count": 5,
   "id": "b89ed843-9273-4ec0-a0e4-b794836b234d",
   "metadata": {},
   "outputs": [
    {
     "data": {
      "text/plain": [
       "0.09750000000000003"
      ]
     },
     "execution_count": 5,
     "metadata": {},
     "output_type": "execute_result"
    }
   ],
   "source": [
    "t = [0,0,1,0,0,0,0,0,0,0]\n",
    "y = [0.1,0.05,0.6,0,0.05,0.1,0,0.1,0,0]\n",
    "\n",
    "sum_squares_error(np.array(y), np.array(t))"
   ]
  },
  {
   "cell_type": "code",
   "execution_count": 6,
   "id": "cf43cd6c-cd23-430e-9884-dff5f7069582",
   "metadata": {},
   "outputs": [
    {
     "data": {
      "text/plain": [
       "1.0"
      ]
     },
     "execution_count": 6,
     "metadata": {},
     "output_type": "execute_result"
    }
   ],
   "source": [
    "sum(y)\n",
    "# 해당 예는 정답도 2이고 예측도 2일 확률이 0.6으로 가장 높다고 했음"
   ]
  },
  {
   "cell_type": "code",
   "execution_count": 7,
   "id": "012d3df5-4613-4bca-94fe-20c7d75d5dcc",
   "metadata": {},
   "outputs": [
    {
     "data": {
      "text/plain": [
       "0.5975"
      ]
     },
     "execution_count": 7,
     "metadata": {},
     "output_type": "execute_result"
    }
   ],
   "source": [
    "y = [0.1,0.05,0.1,0,0.05,0.1,0,0.6,0,0]\n",
    "sum_squares_error(np.array(y),np.array(t))"
   ]
  },
  {
   "cell_type": "code",
   "execution_count": 8,
   "id": "d12574b2-7149-4116-865c-e4724de3f40b",
   "metadata": {},
   "outputs": [
    {
     "data": {
      "text/plain": [
       "1.0"
      ]
     },
     "execution_count": 8,
     "metadata": {},
     "output_type": "execute_result"
    }
   ],
   "source": [
    "sum(y)\n",
    "# 해당 예는 정답은 똑갑이 2이지만 예측은 6일 확률이 0.6으로 가장 높다고 했음"
   ]
  },
  {
   "cell_type": "markdown",
   "id": "b50c5f8a-d9d7-4437-90ee-00bb678892e4",
   "metadata": {},
   "source": [
    "- 즉, 첫 번째 예의 손실 함수 쪽 출력이 작으며 정답 레이블과의 오차도 작은 것을 알 수 있다.\n",
    "- 오차제곱합 기준으로는 첫 번째 추정 결과가 (오차가 더 작으니) 정답에 더 가까울 것으로 판단할 수 있다."
   ]
  },
  {
   "cell_type": "markdown",
   "id": "2ec55535-b543-4be6-8ad8-476fe449fa8d",
   "metadata": {},
   "source": [
    "---"
   ]
  },
  {
   "cell_type": "markdown",
   "id": "9e7457b1-464a-479f-ae10-1dd1e7eb6367",
   "metadata": {},
   "source": [
    "- 교차 엔트로피 오차\n",
    "  - 실질적으로 정답일 때의 추정의 자연로그를 계산하는 식이 된다. \n",
    "  - 즉, 교차 엔트로피 오차는 정답일 때의 출력이 전체 값을 정하게 된다. \n",
    "  - 정답에 해당하는 출력이 커질수록 0에 다가가다가, 그 출력이 1일 때, 0이 된다.\n",
    "  - 반대로 정답일 때의 출력이 작아질수록 오차는 커진다."
   ]
  },
  {
   "cell_type": "code",
   "execution_count": 9,
   "id": "b72875de-415a-494e-9231-5c0d77038a87",
   "metadata": {},
   "outputs": [
    {
     "data": {
      "text/plain": [
       "Text(0.5, 1.0, 'y=log(x)')"
      ]
     },
     "execution_count": 9,
     "metadata": {},
     "output_type": "execute_result"
    },
    {
     "data": {
      "image/png": "[encoded data removed]",
      "text/plain": [
       "<Figure size 432x288 with 1 Axes>"
      ]
     },
     "metadata": {
      "needs_background": "light"
     },
     "output_type": "display_data"
    }
   ],
   "source": [
    "import matplotlib.pyplot as plt\n",
    "import warnings\n",
    "warnings.filterwarnings('ignore')\n",
    "\n",
    "x=np.arange(0,1,0.01)\n",
    "plt.plot(x,np.log(x))\n",
    "plt.title('y=log(x)')"
   ]
  },
  {
   "cell_type": "code",
   "execution_count": 10,
   "id": "a5392c3c-bfd8-4280-97d0-e894f6628f8a",
   "metadata": {},
   "outputs": [],
   "source": [
    "def cross_entropy_error(y,t):\n",
    "    delta = 1e-7 # np.log 함수에 0을 입력하면 마이너스 무한대를 뜻하는 -inf가 되어 더 이상 계산할 수 없기에 아주 작은 값인 delta를 더해줌.\n",
    "    return -np.sum( t*np.log(y+delta))"
   ]
  },
  {
   "cell_type": "code",
   "execution_count": 11,
   "id": "b6c06908-d642-4d82-a7cd-1f7c69dd16de",
   "metadata": {},
   "outputs": [
    {
     "data": {
      "text/plain": [
       "0.510825457099338"
      ]
     },
     "execution_count": 11,
     "metadata": {},
     "output_type": "execute_result"
    }
   ],
   "source": [
    "t = [0,0,1,0,0,0,0,0,0,0]\n",
    "y = [0.1,0.05,0.6,0,0.05,0.1,0,0.1,0,0]\n",
    "cross_entropy_error(np.array(y),np.array(t))"
   ]
  },
  {
   "cell_type": "code",
   "execution_count": 12,
   "id": "eb714c4e-cc73-452f-bd71-22877c9e34bc",
   "metadata": {},
   "outputs": [
    {
     "data": {
      "text/plain": [
       "2.302584092994546"
      ]
     },
     "execution_count": 12,
     "metadata": {},
     "output_type": "execute_result"
    }
   ],
   "source": [
    "y = [0.1,0.05,0.1,0,0.05,0.6,0,0.1,0,0]\n",
    "cross_entropy_error(np.array(y),np.array(t))"
   ]
  },
  {
   "cell_type": "markdown",
   "id": "7dad5af1-3cc8-4fae-a95c-3f03256f13df",
   "metadata": {},
   "source": [
    "- 첫 번째 예는 정답일 때의 출력이 0.6인 경우로 이때의 교차 엔트로피 오차는 약 0.51이다.\n",
    "- 다음은 정답일 때의 출력이 0.1인 경우로 이 때의 교차 엔트로피 오차는 무려 2.3이다. \n",
    "- ***즉, 결과(오차 값)가 더 작은 첫 번째 추정이 정답일 가능성이 높다고 판단한 것으로, 앞서 오차제곱합의 판단과 일치한다.***"
   ]
  },
  {
   "cell_type": "markdown",
   "id": "64a002d9-9964-4fef-83e7-79fc5c90e15f",
   "metadata": {},
   "source": [
    "---"
   ]
  },
  {
   "cell_type": "markdown",
   "id": "cdd76168-e796-4c19-bb6c-e780d9a875c5",
   "metadata": {},
   "source": [
    "- 지금까지는 데이터 하나에 대한 손실 함수만 생각했으니, 이제 훈련 데이터 모두에 대한 손실함수의 합을 구하는 방법에 대해 생각해보자\n",
    "- 빅데이터 수준의 수백만, 수천만개의 수준에서는 데이터 일부를 추려 전체의 근사치로 이용할 수 있다. \n",
    "  - 이 일부를 미니배치라고 한다. 가령 60000장의 훈련 데이터 중에서 100장을 무작위로 뽑아 그 100장 만을 사용하여 학습하는 것이다. 이러한 학습을 미니배치 학습이라고 한다. \n",
    "  - 미니배치 학습을 구현하는 코드를 작성해보자"
   ]
  },
  {
   "cell_type": "code",
   "execution_count": 13,
   "id": "29234bf7-5c1a-4360-b154-b37e9426005d",
   "metadata": {},
   "outputs": [
    {
     "name": "stdout",
     "output_type": "stream",
     "text": [
      "(60000, 784)\n",
      "(60000, 10)\n"
     ]
    }
   ],
   "source": [
    "import sys, os\n",
    "sys.path.append(os.pardir)\n",
    "from dataset.mnist import load_mnist\n",
    "\n",
    "(x_train,t_train),(x_test, t_test) = \\\n",
    "load_mnist(normalize=True, one_hot_label=True)\n",
    "\n",
    "print(x_train.shape)\n",
    "print(t_train.shape)"
   ]
  },
  {
   "cell_type": "markdown",
   "id": "388b779f-598b-46bd-8266-70c7d2ec4586",
   "metadata": {},
   "source": [
    "- 이 훈련 데이터에서 무작위로 10장만 빼내려면 어떻게 하면 될까."
   ]
  },
  {
   "cell_type": "code",
   "execution_count": 15,
   "id": "4f3e4371-ec48-4464-92f9-9899e32b4cbd",
   "metadata": {},
   "outputs": [],
   "source": [
    "train_size = x_train.shape[0]\n",
    "batch_size = 10\n",
    "batch_mask = np.random.choice(train_size, batch_size)\n",
    "x_batch = x_train[batch_mask]\n",
    "t_batch = t_train[batch_mask]"
   ]
  },
  {
   "cell_type": "markdown",
   "id": "b70f16fd-f417-4be3-bac3-8b7c61f9140e",
   "metadata": {},
   "source": [
    "```python\n",
    "np.random.choice(60000,10)\n",
    "```\n",
    "- 의미 : 0이상 60000 미만의 수 중에서 무작위로 10개 골라낸다"
   ]
  },
  {
   "cell_type": "markdown",
   "id": "6a11d94e-f2c3-4d9a-9092-09faddbe0241",
   "metadata": {},
   "source": [
    "- 이제 무작위로 선택한 이 인덱스를 사용해 미니배치를 뽑아내기만 하면 된다. 손실함수도 이 미니배치로 계산한다. "
   ]
  },
  {
   "cell_type": "markdown",
   "id": "7c21add7-6dcd-4fd3-a92c-293cdad97894",
   "metadata": {},
   "source": [
    "---"
   ]
  },
  {
   "cell_type": "markdown",
   "id": "5ec95793-e1e9-4238-a980-05e0cd9924a8",
   "metadata": {},
   "source": [
    "- 미니배치 같은 배치 데이터를 지원하는 교차 엔트로피 오차는 어떻게 구현할까\n",
    "- 아래 셀은 데이터가 하나인 경우와 데이터가 배치로 묶여 입력된 경우 모두를 처리할 수 있도록 구현한 것이다. "
   ]
  },
  {
   "cell_type": "code",
   "execution_count": 19,
   "id": "846f525d-282b-4f28-809d-fbb401fa9356",
   "metadata": {},
   "outputs": [],
   "source": [
    "def cross_entropy_error(y,t): # y는 신경망의 출력, t는 정답레이블\n",
    "    if y.dim == 1:\n",
    "        t = t.reshape(1, t.size)\n",
    "        y = y.reshape(1, y.size)\n",
    "    \n",
    "    batch_size = y.shape[0]\n",
    "    return -np.sum( t * np.log(y + 1e-7)) / batch_size"
   ]
  },
  {
   "cell_type": "markdown",
   "id": "485aab53-40bf-41fe-8c89-5742defda605",
   "metadata": {},
   "source": [
    "- y(신경망의 출력)가 1차원이라면, 즉 데이터 하나당 교차 엔트로피 오차를 구하는 경우는 reshape함수로 데이터의 형상을 바꿔준다. \n",
    "- 정답 레이블이 원-핫 인코딩이 아니라 '2'나 '7'등의 숫자 레이블로 주어졌을 때의 교차 엔트로피 오차는 다음과 같이 구현할 수 있다."
   ]
  },
  {
   "cell_type": "code",
   "execution_count": 21,
   "id": "39771d13-64a6-49ab-babb-6a12d1fa855b",
   "metadata": {},
   "outputs": [],
   "source": [
    "def cross_entropy_error(y,t): # y는 신경망의 출력, t는 정답레이블\n",
    "    if y.dim == 1:\n",
    "        t = t.reshape(1, t.size)\n",
    "        y = y.reshape(1, y.size)\n",
    "    \n",
    "    batch_size = y.shape[0]\n",
    "    return -np.sum( np.log(y[np.arange(batach_size),t] + 1e-7)) / batch_size"
   ]
  },
  {
   "cell_type": "markdown",
   "id": "7c76dda0-9939-4e93-aff5-21fbaa7ce24f",
   "metadata": {},
   "source": [
    "- 이 구현에서는 원-핫 인코딩일 때 t가 0인 원소는 교차 엔트로피 오차도 0이므로, 그 계산은 무시해도 좋다는 것이 핵심이다. \n",
    "- 다시 말하면 정답에 해당하는 신경망의 출력만으로 교차 엔트로피 오차를 계산할 수 있다. "
   ]
  },
  {
   "cell_type": "markdown",
   "id": "96b82902-7c10-4a85-b9ec-85cb6b23f877",
   "metadata": {},
   "source": [
    "---"
   ]
  }
 ],
 "metadata": {
  "kernelspec": {
   "display_name": "Python 3 (ipykernel)",
   "language": "python",
   "name": "python3"
  },
  "language_info": {
   "codemirror_mode": {
    "name": "ipython",
    "version": 3
   },
   "file_extension": ".py",
   "mimetype": "text/x-python",
   "name": "python",
   "nbconvert_exporter": "python",
   "pygments_lexer": "ipython3",
   "version": "3.8.11"
  }
 },
 "nbformat": 4,
 "nbformat_minor": 5
}
