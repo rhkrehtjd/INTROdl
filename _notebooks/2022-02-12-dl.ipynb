{
 "cells": [
  {
   "cell_type": "markdown",
   "id": "235af1d7-bbbd-470b-95bb-e4064c313688",
   "metadata": {},
   "source": [
    "# 연쇄 법칙과 역전파"
   ]
  },
  {
   "cell_type": "markdown",
   "id": "34cabd8e-0ea2-4f90-b86a-67010209f3ed",
   "metadata": {},
   "source": [
    "- 역전파 : 국소적인 미분을 순방향과는 방대인 오른쪽에서 왼쪽으로 전달한다. 또한, 이런 국소적 미분을 전달하는 원리는 연쇄 법칙에 따른 것이다. \n",
    "  - 연쇄 법칙 : 합성 함수의 미분은 합성 함수를 구성하는 각 함수의 미분의 곱으로 나타낼 수 있다. 이것이 연쇄 법칙의 원리이다. \n",
    "  - $\\frac{\\partial z}{\\partial x} = \\frac{\\partial z}{\\partial t}\\frac{\\partial t}{\\partial x}$\n",
    "- 역전파의 계산 절차는 신호 E에 노드의 국소적 미분을 곱한 후 다음 노드로 전달하는 것이다. 여기에서 말하는 국소적 미분은 순전파 때의 y=f(x) 계산의 미분을 구한다는 것이며, 이는 x에대한 y의 미분을 구한다는 뜻이다. "
   ]
  },
  {
   "cell_type": "markdown",
   "id": "4228f2be-e89a-4a79-b980-b0cdc5142f33",
   "metadata": {},
   "source": [
    "- 덧셈 노드의 역전파\n",
    "  - 역전파 때는 상류에서 전해진 미분에 1을 곱하여 하류로 흘린다. 즉, 덧셈 노드의 역전파는 1을 곱하기만 할 뿐이므로 입력된 값을 그대로 다음 노드로 보내게 된다. \n",
    "- 곱셈 노드의 역전파\n",
    "  - 상류의 값에 순전파 때의 입력 신호들을 서로 바꾼 값을 곱해서 하류로 보낸다. 서로 바꾼 값이란 순전파 때 x였다면 역전파에서는 y, 순전파 때 y였다면 역전파에서는 x로 바꾼다는 의미이다.\n",
    "  \n",
    "> 덧셈의 역전파에서는 상류의 값을 그대로 흘려보내서 순방향 입력 신호의 값을 필요하지 않았지만, 곱셈의 역전파는 순방향 입력 신호의 값이 필요하다. 그래서 곱셈 노드를 구현할 때는 순전파의 입력 신호를 변수에 저장해둔다."
   ]
  },
  {
   "cell_type": "markdown",
   "id": "444fc1ac-1c20-4c0a-9e74-26d685762ef7",
   "metadata": {},
   "source": [
    "- 앞서 들었던 사과 쇼핑의 예를 들어보자\n",
    "  - 이 문제에서는 사과의 가격, 사과의 개수, 소비세라는 세 변수 각각이 최종 금액에 어떻게 영향을 주느냐를 풀고자 한다. 이는 사과 가격에 대한 지불 금액의 미분, 사과 개수에 대한 지불 금액의 미분, 소비세에 대한 지불 금액의 미분을 구하는 것에 해당한다. \n",
    "  - 앞서 곱셈 노드의 역전파에서는 입력 신호를 서로 바꿔서 하류로 흘린다고 했다. 결과를 보면 사과 과격의 미분은 2.2, 사과 개수의 미분은 110, 소비세의 미분은 200이다. 이는 소비세와 사과 과격이 같은 양만큼 오르면 최종 금액에는 소비세가 200의 크기로 사과 과격이 2.2 크기로 영향을 준다고 해석할 수 있다. 단, 단위는 조심하여야 한다. "
   ]
  },
  {
   "cell_type": "markdown",
   "id": "2f06c99a-ba06-473e-ba8d-918b97336852",
   "metadata": {},
   "source": [
    "---"
   ]
  },
  {
   "cell_type": "markdown",
   "id": "ad2b703f-57fa-45ce-916a-93966e667ad1",
   "metadata": {},
   "source": [
    "- 지금까지 보아온 사과 쇼핑의 예를 파이썬으로 구현해보자"
   ]
  },
  {
   "cell_type": "markdown",
   "id": "162d9d4f-9c78-457b-a962-749e5295f6e1",
   "metadata": {},
   "source": [
    "- 먼저, 곱셈 계층부터 구현해보자"
   ]
  },
  {
   "cell_type": "code",
   "execution_count": 1,
   "id": "4d7a5dd6-836b-4711-a307-0b1d099cdcd6",
   "metadata": {},
   "outputs": [],
   "source": [
    "class MulLayer: # 곱셈 노드\n",
    "    def __init__(self): # 생성자 함수로써 인스턴스 변수인 x와 y를 초기화한다. \n",
    "        self.x = None\n",
    "        self.y = None\n",
    "\n",
    "    def forward(self, x, y): # 순전파\n",
    "        self.x = x\n",
    "        self.y = y                \n",
    "        out = x * y\n",
    "\n",
    "        return out\n",
    "\n",
    "    def backward(self, dout): # 역전파\n",
    "        dx = dout * self.y  # x와 y를 바꾼다.\n",
    "        dy = dout * self.x\n",
    "\n",
    "        return dx, dy"
   ]
  },
  {
   "cell_type": "markdown",
   "id": "e5d51447-b109-4a9d-95db-aade8f177470",
   "metadata": {},
   "source": [
    "- 순전파에서는 x와 y를 인수로 받고 두 값을 곱해서 반환한다. 반면 역전파에서는 상류에서 넘어온 미분(dout)에 순전파 때의 값을 서로 바꿔 곱한 후 하류로 흘려보낸다. \n",
    "- 해당 클래스를 이용하여 사과 쇼핑 예시에서의 순전파를 구현해보자"
   ]
  },
  {
   "cell_type": "code",
   "execution_count": 3,
   "id": "d2ceed58-bd70-469d-8786-0584f773d08f",
   "metadata": {},
   "outputs": [
    {
     "name": "stdout",
     "output_type": "stream",
     "text": [
      "220\n"
     ]
    }
   ],
   "source": [
    "apple = 100\n",
    "apple_num = 2\n",
    "tax = 1.1\n",
    "\n",
    "# 계층들\n",
    "mul_apple_layer = MulLayer()\n",
    "mul_tax_layer = MulLayer()\n",
    "\n",
    "# forward\n",
    "apple_price = mul_apple_layer.forward(apple, apple_num)\n",
    "price = mul_tax_layer.forward(apple_price, tax)\n",
    "\n",
    "print(int(price))"
   ]
  },
  {
   "cell_type": "markdown",
   "id": "15e75945-987b-4262-b186-be52e30a008f",
   "metadata": {},
   "source": [
    "- 각 변수에 대한 미분은 backward()에서 구할 수 있다."
   ]
  },
  {
   "cell_type": "code",
   "execution_count": 4,
   "id": "2fdbc557-bdbb-4b6c-aecc-5eddeea63b2f",
   "metadata": {},
   "outputs": [
    {
     "name": "stdout",
     "output_type": "stream",
     "text": [
      "dApple: 2.2\n",
      "dApple_num: 110\n",
      "dTax: 200\n"
     ]
    }
   ],
   "source": [
    "# backward\n",
    "dprice = 1\n",
    "dapple_price, dtax = mul_tax_layer.backward(dprice)\n",
    "dapple, dapple_num = mul_apple_layer.backward(dapple_price)\n",
    "\n",
    "print(\"dApple:\", dapple)\n",
    "print(\"dApple_num:\", int(dapple_num))\n",
    "print(\"dTax:\", dtax)"
   ]
  },
  {
   "cell_type": "markdown",
   "id": "0032f035-6f1b-44f2-a7d9-27309c34c463",
   "metadata": {},
   "source": [
    "- backward() 호출 순서는 forward()때와는 반대이다. 또 backward()가 받는 인수는 순전파의 출력에 대한 미분이다. 가령 mul_apple_layer()라는 곱셈 계층은 순전파 때는 apple_price를 반환하지만 역전파 때는 apple_price의 미분 값인 dapple_price를 인수로 받는다. "
   ]
  },
  {
   "cell_type": "markdown",
   "id": "7c97de24-8cc5-421d-9feb-c37d62ac33d9",
   "metadata": {},
   "source": [
    "---"
   ]
  },
  {
   "cell_type": "markdown",
   "id": "addcd0ea-025d-4936-be9b-81fd8df7a762",
   "metadata": {},
   "source": [
    "- 덧셈 계층을 구현해보자"
   ]
  },
  {
   "cell_type": "code",
   "execution_count": 5,
   "id": "81ee7efc-354a-4dc6-b557-a74539e30c88",
   "metadata": {},
   "outputs": [],
   "source": [
    "class AddLayer:\n",
    "    def __init__(self):\n",
    "        pass # 덧셈 계층에서는 초기화가 필요없으니 pass처리 한다.\n",
    "    \n",
    "    def forward(self,x,y):\n",
    "        out = x+y\n",
    "        return out\n",
    "    \n",
    "    def backward(self, dout):\n",
    "        dx = dout * 1\n",
    "        dy = dout * 1\n",
    "        return dx,dy"
   ]
  },
  {
   "cell_type": "markdown",
   "id": "c4487040-e0a7-4256-ae23-08538b5b4fb6",
   "metadata": {},
   "source": [
    "- 전체적인 계산 그래프를 파이썬으로 구현해보자"
   ]
  },
  {
   "cell_type": "code",
   "execution_count": 6,
   "id": "76a28928-f7db-42c1-bcc7-203685b61e7d",
   "metadata": {},
   "outputs": [
    {
     "name": "stdout",
     "output_type": "stream",
     "text": [
      "price: 715\n",
      "dApple: 2.2\n",
      "dApple_num: 110\n",
      "dOrange: 3.3000000000000003\n",
      "dOrange_num: 165\n",
      "dTax: 650\n"
     ]
    }
   ],
   "source": [
    "apple = 100\n",
    "apple_num = 2\n",
    "orange = 150\n",
    "orange_num = 3\n",
    "tax = 1.1\n",
    "\n",
    "# layer\n",
    "mul_apple_layer = MulLayer()\n",
    "mul_orange_layer = MulLayer()\n",
    "add_apple_orange_layer = AddLayer()\n",
    "mul_tax_layer = MulLayer()\n",
    "\n",
    "# forward\n",
    "apple_price = mul_apple_layer.forward(apple, apple_num)  # (1)\n",
    "orange_price = mul_orange_layer.forward(orange, orange_num)  # (2)\n",
    "all_price = add_apple_orange_layer.forward(apple_price, orange_price)  # (3)\n",
    "price = mul_tax_layer.forward(all_price, tax)  # (4)\n",
    "\n",
    "# backward\n",
    "dprice = 1\n",
    "dall_price, dtax = mul_tax_layer.backward(dprice)  # (4)\n",
    "dapple_price, dorange_price = add_apple_orange_layer.backward(dall_price)  # (3)\n",
    "dorange, dorange_num = mul_orange_layer.backward(dorange_price)  # (2)\n",
    "dapple, dapple_num = mul_apple_layer.backward(dapple_price)  # (1)\n",
    "\n",
    "print(\"price:\", int(price))\n",
    "print(\"dApple:\", dapple)\n",
    "print(\"dApple_num:\", int(dapple_num))\n",
    "print(\"dOrange:\", dorange)\n",
    "print(\"dOrange_num:\", int(dorange_num))\n",
    "print(\"dTax:\", dtax)"
   ]
  },
  {
   "cell_type": "markdown",
   "id": "ae5b9bf1-f932-4e68-ae3f-cc64cc5d1710",
   "metadata": {},
   "source": [
    "---"
   ]
  },
  {
   "cell_type": "markdown",
   "id": "6df9fa2a-9d73-4aac-86e3-b6cb8c90ad2e",
   "metadata": {},
   "source": [
    "- 활성화 함수 계층을 구현해보자, 계산 그래프를 신경망에 적용해보자\n",
    "  - ReUL 계층, 165p 참고."
   ]
  },
  {
   "cell_type": "code",
   "execution_count": 7,
   "id": "5414ed6c-63ab-484f-901d-bd2f9c036a0b",
   "metadata": {},
   "outputs": [],
   "source": [
    "class Relu:\n",
    "    def __init__(self):\n",
    "        self.mask = None\n",
    "        # 해당 클래스는 mask라는 인스턴스 변수를 갖는다. bool형 넘파이 배열로 사용될 것이다.\n",
    "    def forward(self, x):\n",
    "        self.mask = (x<=0)\n",
    "        out = x.copy()\n",
    "        out[self.mask] = 0\n",
    "        \n",
    "        return out\n",
    "    def backward(self,dout):\n",
    "        dout[self.mask] = 0\n",
    "        dx = sout\n",
    "        \n",
    "        return dx"
   ]
  },
  {
   "cell_type": "code",
   "execution_count": 10,
   "id": "0643f2f3-8a96-4b23-a1d5-038ddf2ac4cd",
   "metadata": {},
   "outputs": [
    {
     "name": "stdout",
     "output_type": "stream",
     "text": [
      "[[ 1.  -0.5]\n",
      " [-2.   3. ]]\n",
      "\n",
      "\n",
      "[[False  True]\n",
      " [ True False]]\n"
     ]
    }
   ],
   "source": [
    "import numpy as np\n",
    "x = np.array([[1,-0.5],[-2,3]])\n",
    "print(x)\n",
    "print('\\n')\n",
    "mask = x<=0\n",
    "print(mask)"
   ]
  },
  {
   "cell_type": "markdown",
   "id": "706d7289-063f-4589-9714-be689f6705bf",
   "metadata": {},
   "source": [
    "- 이제 sigmoid 함수를 구현해보자\n",
    "  - +와 x노드 말고도 exp와 /노드도 필요하다.\n",
    "  - 자세한 과정은 167p부터 169p를 참고하자"
   ]
  },
  {
   "cell_type": "code",
   "execution_count": 11,
   "id": "abc2e4a8-1a4e-40ba-85cd-fe5ceffa5844",
   "metadata": {},
   "outputs": [],
   "source": [
    "class Sigmoid:\n",
    "    def __init__(self):\n",
    "        self.out = None\n",
    "        \n",
    "    def forward(self, x):\n",
    "        out = 1 / ( 1 + np.exp(-x))\n",
    "        self.out = out\n",
    "        \n",
    "    def backward(self, dout):\n",
    "        dx = dout * (1 - self.out) * self.out\n",
    "        \n",
    "        return dx"
   ]
  },
  {
   "cell_type": "markdown",
   "id": "0b0901ee-46fb-4d2a-9ed0-dda9bd199d44",
   "metadata": {},
   "source": [
    "- 해당 구현에서는 순전파의 출력을 인스턴스 변수 out에 보관했다가, 역전파 계산 때 그 값을 사용하는 것이다."
   ]
  }
 ],
 "metadata": {
  "kernelspec": {
   "display_name": "Python 3 (ipykernel)",
   "language": "python",
   "name": "python3"
  },
  "language_info": {
   "codemirror_mode": {
    "name": "ipython",
    "version": 3
   },
   "file_extension": ".py",
   "mimetype": "text/x-python",
   "name": "python",
   "nbconvert_exporter": "python",
   "pygments_lexer": "ipython3",
   "version": "3.8.11"
  }
 },
 "nbformat": 4,
 "nbformat_minor": 5
}
