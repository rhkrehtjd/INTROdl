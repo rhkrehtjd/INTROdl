{
 "cells": [
  {
   "cell_type": "markdown",
   "id": "7e9ed919-db17-4925-b6e6-4735e492459a",
   "metadata": {},
   "source": [
    "# 수치 미분"
   ]
  },
  {
   "cell_type": "markdown",
   "id": "f69d66b8-239a-4cb2-a664-634f7693fc7c",
   "metadata": {},
   "source": [
    "- 경사법에서는 기울기 값을 기준으로 나아갈 방향을 정한다. \n",
    "- 함수를 미분하는 계산을 구현해보자"
   ]
  },
  {
   "cell_type": "code",
   "execution_count": 1,
   "id": "2d1741b5-60fe-4368-8efd-7c56d33ef361",
   "metadata": {},
   "outputs": [],
   "source": [
    "# 나쁜 구현의 예\n",
    "def numerical_diff(f,x):\n",
    "    h = 1e-50 # 매우 작은 수, 소수점 아래 0이 50개\n",
    "    return (f(x+h) - f(x))/h"
   ]
  },
  {
   "cell_type": "markdown",
   "id": "56a3e2d3-e0cd-46c6-8a94-0836f07bd1c4",
   "metadata": {},
   "source": [
    "- 위 함수에서 개선해야 할 점 \n",
    "  - 1) 1e-50은 반올림 오차 문제를 일으킨다. 작은 값이 생략되어 최종 계산 결과에 오차가 생기게 하는 것이다. 예를 들면"
   ]
  },
  {
   "cell_type": "code",
   "execution_count": 24,
   "id": "bcf8d4f7-7916-47b3-8622-f5e8cfb7f4bc",
   "metadata": {},
   "outputs": [
    {
     "data": {
      "text/plain": [
       "0.0"
      ]
     },
     "execution_count": 24,
     "metadata": {},
     "output_type": "execute_result"
    }
   ],
   "source": [
    "import numpy as np\n",
    "np.float32(1e-50)"
   ]
  },
  {
   "cell_type": "markdown",
   "id": "1239cb9b-c180-4d78-9466-2355eadcbb2c",
   "metadata": {},
   "source": [
    "- 미세한 값 h를 10**-4 정도로 이용해보자. 10**-4 정도의 값을 사용하면 좋은 결과를 얻는다고 알려져 있다. \n",
    "- 두 번째 개선 : 함수 f의 차분(임의의 두 점에서의 함수 값들의 차이)과 관련한 것이다.\n",
    "  - 위 함수에서는 x+h와 x사이의 함수f의 차분을 계산하고 있지만, 애당초 이 계산에는 오차가 있다는 사실에 주의해야 한다.\n",
    "  - 진정한 미분은 x 위치의 함수의 기울기(이를 접선이라고 함)에 해당하지만, 이번 구현에서의 미분은 (x+h)와 x사이의 기울기에 해당한다\n",
    "  - 그래서 진정한 미분(진정한 접선)과 이번 구현의 값은 엄밀히는 일치하지 않는다. 이 차이는 h를 무한히 0으로 좁히는 것이 불가능해 생기는 한계이다."
   ]
  },
  {
   "cell_type": "markdown",
   "id": "43a941ac-31a3-4c07-80c9-7d489f48a4f4",
   "metadata": {},
   "source": [
    "- 수치 미분에는 오차가 포함된다.\n",
    "  - 이 오차를 줄이기 위해 (x+h)와 (x-h)일 때의 함수f의 차분을 계산하는 방법을 쓰기도 한다.\n",
    "  - 해당 차분은 x를 중심으로 그 전후의 차분을 계산한다는 의미에서 중심 차분 혹은 중앙 차분이라고 한다. (x와 x+h의 차분은 전방 차분이라고 한다.)\n",
    "- 두 개선점을 적용해 수치 미분을 구현해보자"
   ]
  },
  {
   "cell_type": "code",
   "execution_count": 3,
   "id": "d4fa70ba-b7e0-42e6-b1de-be1bcc4c363c",
   "metadata": {},
   "outputs": [],
   "source": [
    "def numerical_diff(f,x):\n",
    "    h = 1e-4 #0.0001 # 개선 1\n",
    "    return (f(x+h) - f(x-h)) / (2*h) # 2h = x+h-(x-h) =2h # 개선 2"
   ]
  },
  {
   "cell_type": "markdown",
   "id": "e6ff1b9a-26ea-4fa2-b4c9-ece535a099f2",
   "metadata": {},
   "source": [
    "---"
   ]
  },
  {
   "cell_type": "markdown",
   "id": "c53c9f31-7729-40a1-b7a5-8efb75ec2529",
   "metadata": {},
   "source": [
    "- 앞 절의 수치 미분을 사용하여 간단한 함수를 미분해보자"
   ]
  },
  {
   "cell_type": "code",
   "execution_count": 4,
   "id": "a0defa4e-d140-4f39-ad6d-723c776e15e8",
   "metadata": {},
   "outputs": [],
   "source": [
    "def function_1(x):\n",
    "    return 0.01*x**2 + 0.1*x"
   ]
  },
  {
   "cell_type": "code",
   "execution_count": 5,
   "id": "0f1740b1-3fac-4fd5-9073-218b54df8f5c",
   "metadata": {},
   "outputs": [
    {
     "data": {
      "image/png": "[encoded data removed]",
      "text/plain": [
       "<Figure size 432x288 with 1 Axes>"
      ]
     },
     "metadata": {
      "needs_background": "light"
     },
     "output_type": "display_data"
    }
   ],
   "source": [
    "import matplotlib.pyplot as plt\n",
    "\n",
    "x = np.arange(0.0,20.0,0.1)\n",
    "y = function_1(x)\n",
    "plt.xlabel('x')\n",
    "plt.ylabel('f(x)')\n",
    "plt.plot(x,y)\n",
    "plt.show()"
   ]
  },
  {
   "cell_type": "markdown",
   "id": "796ac93d-cb44-448b-8c52-57aefb43ae32",
   "metadata": {},
   "source": [
    "- 이제 x는 5일 때와 10일 때의 함수의 미분을 계산해보자"
   ]
  },
  {
   "cell_type": "code",
   "execution_count": 6,
   "id": "08f0448d-cf99-4586-90a2-1b2df79c5894",
   "metadata": {},
   "outputs": [
    {
     "name": "stdout",
     "output_type": "stream",
     "text": [
      "0.1999999999990898\n",
      "0.2999999999986347\n"
     ]
    }
   ],
   "source": [
    "print(numerical_diff(function_1,5))\n",
    "print(numerical_diff(function_1,10))\n",
    "# 함수의 기울기에 해당한다."
   ]
  },
  {
   "cell_type": "markdown",
   "id": "f38b7280-515f-47a6-bd81-d442a5d6c685",
   "metadata": {},
   "source": [
    "---"
   ]
  },
  {
   "cell_type": "code",
   "execution_count": 7,
   "id": "885e2aeb-5d72-41d6-95d0-14cf891fa7f8",
   "metadata": {},
   "outputs": [
    {
     "name": "stdout",
     "output_type": "stream",
     "text": [
      "0.1999999999990898\n",
      "0.2999999999986347\n"
     ]
    },
    {
     "data": {
      "image/png": "[encoded data removed]",
      "text/plain": [
       "<Figure size 432x288 with 2 Axes>"
      ]
     },
     "metadata": {
      "needs_background": "light"
     },
     "output_type": "display_data"
    }
   ],
   "source": [
    "def tangent_line(f, x):\n",
    "    d = numerical_diff(f, x)\n",
    "    print(d)\n",
    "    y = f(x) - d*x\n",
    "    return lambda t: d*t + y\n",
    "     \n",
    "\n",
    "fig, (ax1,ax2)= plt.subplots(1,2)    \n",
    "\n",
    "x = np.arange(0.0, 20.0, 0.1)\n",
    "y = function_1(x)\n",
    "\n",
    "tf = tangent_line(function_1, 5)\n",
    "y2 = tf(x)\n",
    "\n",
    "ax1.plot(x, y)\n",
    "ax1.plot(x, y2)\n",
    "ax1.set_xlabel('x')\n",
    "ax1.set_ylabel('f(x)')\n",
    "\n",
    "tf = tangent_line(function_1, 10)\n",
    "y2 = tf(x)\n",
    "\n",
    "ax2.plot(x, y)\n",
    "ax2.plot(x, y2)\n",
    "ax2.set_xlabel('x')\n",
    "ax2.set_ylabel('f(x)')\n",
    "\n",
    "plt.show()"
   ]
  },
  {
   "cell_type": "markdown",
   "id": "23f1db69-6521-4668-8d47-f4e0333c9d4b",
   "metadata": {},
   "source": [
    "---"
   ]
  },
  {
   "cell_type": "markdown",
   "id": "6b7c7a50-7f32-4d51-b7de-1d25e8896e8e",
   "metadata": {},
   "source": [
    "- 편미분"
   ]
  },
  {
   "cell_type": "code",
   "execution_count": 8,
   "id": "c399dca5-1d8d-4049-b4b5-0e7cfd403775",
   "metadata": {},
   "outputs": [],
   "source": [
    "def function_2(x):\n",
    "    return x[0]**2+x[1]**2\n",
    "    # 또는 return np.sum(x**2)"
   ]
  },
  {
   "cell_type": "markdown",
   "id": "5d667652-64ac-4b9b-a61a-70f3ed36aa8a",
   "metadata": {},
   "source": [
    "- 앞의 예와 달리 변수가 2개이다\n",
    "  - 미분해보자\n",
    "    - 변수가 2개다\n",
    "    - 어느 변수에 대한 미분이냐가 중요하다\n",
    "    - 이와 같이 변수가 여럿인 함수에 대한 미분을 편미분이라고 한다.\n",
    "    - $\\frac{\\partial f}{\\partial x_0}$\n",
    "    - $\\frac{\\partial f}{\\partial x_1}$"
   ]
  },
  {
   "cell_type": "markdown",
   "id": "39c84855-4b56-463b-af88-f61303319e11",
   "metadata": {},
   "source": [
    "- x_0 = 3, x_1 = 4 일 때, x_0에 대한 편미분을 구해보자"
   ]
  },
  {
   "cell_type": "code",
   "execution_count": 9,
   "id": "64aabcab-1496-4306-8981-589885180ed2",
   "metadata": {},
   "outputs": [
    {
     "data": {
      "text/plain": [
       "6.00000000000378"
      ]
     },
     "execution_count": 9,
     "metadata": {},
     "output_type": "execute_result"
    }
   ],
   "source": [
    "def function_tmp1(x0):\n",
    "    return x0*x0 + 4**2\n",
    "\n",
    "numerical_diff(function_tmp1,3)"
   ]
  },
  {
   "cell_type": "code",
   "execution_count": 10,
   "id": "128218d3-2004-4b99-b28b-81a35d2f209f",
   "metadata": {},
   "outputs": [
    {
     "data": {
      "text/plain": [
       "7.999999999999119"
      ]
     },
     "execution_count": 10,
     "metadata": {},
     "output_type": "execute_result"
    }
   ],
   "source": [
    "def function_tmp2(x1):\n",
    "    return 3**2 + x1*x1\n",
    "\n",
    "numerical_diff(function_tmp2,4)"
   ]
  },
  {
   "cell_type": "markdown",
   "id": "1469d08e-9a5c-4554-9765-56e6d5cc368f",
   "metadata": {},
   "source": [
    "- 변수가 하나인 함수를 정의하고, 그 함수를 미분하는 형태로 구현하여 풀었다. \n",
    "  - 예를 들어 문제 1에서는 x1=4로 고정된 새로운 함수를 정의하고 변수가 x0 하나뿐인 함수에 대해 이전에 정의해두었던 수치 미분 함수를 적용하였따. \n",
    "  - 이처럼 편미분은 변수가 하나인 미분과 마찬가지로 특정 장소의 기울기를 구한다.\n",
    "  - 단, 여러 변수 중 목표 변수 하나에 초점을 맞추고 다른 변수는 값을 고정한다. \n",
    "  - 앞의 예에서는 목표 변수를 제외한 나머지를 특정 값에 고정하기 위해서 새로운 함수를 정의했다.\n",
    "  - 그리고 그 새로이 정의한 함수에 대해 그동안 사용한 수치 미분 함수를 적용하여 편미분을 구한 것이다."
   ]
  },
  {
   "cell_type": "markdown",
   "id": "a023ec9b-4c43-44f1-9f3d-193ddd4e3f92",
   "metadata": {},
   "source": [
    "---"
   ]
  },
  {
   "cell_type": "markdown",
   "id": "72cfb257-ee23-4408-b64b-42c93c608ac7",
   "metadata": {},
   "source": [
    "- 기울기\n",
    "  - 위에선 x0와 x1에 대한 편미분 각각을 구했다. 이번엔 편미분을 묶어서\n",
    "  - ($\\frac{\\partial f}{\\partial x_0}$, $\\frac{\\partial f}{\\partial x_1}$)\n",
    "  - 을 계산해본다고 해보자. 이때 ($\\frac{\\partial f}{\\partial x_0}$, $\\frac{\\partial f}{\\partial x_1}$)처럼 모든 변수의 편미분을 벡터로 정리한 것을 `기울기`라고 한다.\n",
    "  - 구현해보자"
   ]
  },
  {
   "cell_type": "code",
   "execution_count": 11,
   "id": "943aa1ca-1552-4eb2-917a-b351fb4d0729",
   "metadata": {},
   "outputs": [],
   "source": [
    "def numerical_gradient(f,x):\n",
    "    h = 1e-4\n",
    "    grad = np.zeros_like(x) # x와 형상이 같은 배열을 생성\n",
    "    \n",
    "    for idx in range(x.size):\n",
    "        tmp_val = x[idx]\n",
    "        # f(x+h) 계산\n",
    "        x[idx] = tmp_val + h\n",
    "        fxh1 = f(x)\n",
    "        \n",
    "        # f(x-h) 계산\n",
    "        x[idx] = tmp_val - h\n",
    "        fxh2 = f(x)\n",
    "        \n",
    "        grad[idx] = (fxh1 - fxh2) / (2*h)\n",
    "        x[idx] = tmp_val # 값 복원\n",
    "\n",
    "    return grad"
   ]
  },
  {
   "cell_type": "markdown",
   "id": "29478919-415e-4022-8abf-a90d8ec5d319",
   "metadata": {},
   "source": [
    "- 좀 복잡해보이지만 동작 방식은 변수가 하나일 때의 수치 미분과 거의 동일하다"
   ]
  },
  {
   "cell_type": "code",
   "execution_count": 12,
   "id": "49c142c5-09e2-4445-ae14-1fae1bac68de",
   "metadata": {},
   "outputs": [
    {
     "data": {
      "text/plain": [
       "array([6., 8.])"
      ]
     },
     "execution_count": 12,
     "metadata": {},
     "output_type": "execute_result"
    }
   ],
   "source": [
    "numerical_gradient(function_2,np.array([3.0,4.0]))"
   ]
  },
  {
   "cell_type": "code",
   "execution_count": 13,
   "id": "93f628c6-f05c-4bf8-be50-3c9caa143c4f",
   "metadata": {},
   "outputs": [
    {
     "data": {
      "text/plain": [
       "array([0., 4.])"
      ]
     },
     "execution_count": 13,
     "metadata": {},
     "output_type": "execute_result"
    }
   ],
   "source": [
    "numerical_gradient(function_2,np.array([0.0,2.0]))"
   ]
  },
  {
   "cell_type": "code",
   "execution_count": 14,
   "id": "850d9fb5-9a8e-4b4f-9cbe-556908bbe9e8",
   "metadata": {},
   "outputs": [
    {
     "data": {
      "text/plain": [
       "array([6., 0.])"
      ]
     },
     "execution_count": 14,
     "metadata": {},
     "output_type": "execute_result"
    }
   ],
   "source": [
    "numerical_gradient(function_2,np.array([3.0,0.0]))"
   ]
  },
  {
   "cell_type": "markdown",
   "id": "e684f3ec-6986-4d8f-8e9d-e0e64007d744",
   "metadata": {},
   "source": [
    "- 아직은 잘 모르겠지만 numerical_gradient함수에 인수로 넘파이 배열 입력해줄 때, 소수형태가 아닌 int형태로 입력해주면 값이 현저히 달라짐\n",
    "- 그런데 이 기울기가 의미하는 건 뭘까, 그림으로 그려서 이해해보자\n",
    "  - 기울기의 결과에 마이너스를 붙인 벡터를 그린것이다."
   ]
  },
  {
   "cell_type": "code",
   "execution_count": 15,
   "id": "880ccf19-0d09-443d-a97c-5b155caa583d",
   "metadata": {},
   "outputs": [
    {
     "name": "stderr",
     "output_type": "stream",
     "text": [
      "No handles with labels found to put in legend.\n"
     ]
    },
    {
     "data": {
      "image/png": "[encoded data removed]",
      "text/plain": [
       "<Figure size 432x288 with 1 Axes>"
      ]
     },
     "metadata": {
      "needs_background": "light"
     },
     "output_type": "display_data"
    }
   ],
   "source": [
    "# hide\n",
    "from mpl_toolkits.mplot3d import Axes3D\n",
    "\n",
    "def _numerical_gradient_no_batch(f, x):\n",
    "    h = 1e-4 # 0.0001\n",
    "    grad = np.zeros_like(x) # x와 형상이 같은 배열을 생성\n",
    "    \n",
    "    for idx in range(x.size):\n",
    "        tmp_val = x[idx]\n",
    "        \n",
    "        # f(x+h) 계산\n",
    "        x[idx] = float(tmp_val) + h\n",
    "        fxh1 = f(x)\n",
    "        \n",
    "        # f(x-h) 계산\n",
    "        x[idx] = tmp_val - h \n",
    "        fxh2 = f(x) \n",
    "        \n",
    "        grad[idx] = (fxh1 - fxh2) / (2*h)\n",
    "        x[idx] = tmp_val # 값 복원\n",
    "        \n",
    "    return grad\n",
    "\n",
    "\n",
    "def numerical_gradient(f, X):\n",
    "    if X.ndim == 1:\n",
    "        return _numerical_gradient_no_batch(f, X)\n",
    "    else:\n",
    "        grad = np.zeros_like(X)\n",
    "        \n",
    "        for idx, x in enumerate(X):\n",
    "            grad[idx] = _numerical_gradient_no_batch(f, x)\n",
    "        \n",
    "        return grad\n",
    "\n",
    "\n",
    "def function_2(x):\n",
    "    if x.ndim == 1:\n",
    "        return np.sum(x**2)\n",
    "    else:\n",
    "        return np.sum(x**2, axis=1)\n",
    "\n",
    "\n",
    "def tangent_line(f, x):\n",
    "    d = numerical_gradient(f, x)\n",
    "    print(d)\n",
    "    y = f(x) - d*x\n",
    "    return lambda t: d*t + y\n",
    "     \n",
    "if __name__ == '__main__':\n",
    "    x0 = np.arange(-2, 2.5, 0.25)\n",
    "    x1 = np.arange(-2, 2.5, 0.25)\n",
    "    X, Y = np.meshgrid(x0, x1)\n",
    "    \n",
    "    X = X.flatten()\n",
    "    Y = Y.flatten()\n",
    "    \n",
    "    grad = numerical_gradient(function_2, np.array([X, Y]) )\n",
    "    \n",
    "    plt.figure()\n",
    "    plt.quiver(X, Y, -grad[0], -grad[1],  angles=\"xy\",color=\"#666666\")#,headwidth=10,scale=40,color=\"#444444\")\n",
    "    plt.xlim([-2, 2])\n",
    "    plt.ylim([-2, 2])\n",
    "    plt.xlabel('x0')\n",
    "    plt.ylabel('x1')\n",
    "    plt.grid()\n",
    "    plt.legend()\n",
    "    plt.draw()\n",
    "    plt.show()"
   ]
  },
  {
   "cell_type": "markdown",
   "id": "3a23bca5-3e11-4526-a39c-b7b97e91e852",
   "metadata": {},
   "source": [
    "- 기울기 그림을 살펴보면 방향을 가진 벡터로 그려진다. \n",
    "- 기욹는 함수의 가장 낮은 장소(최솟값)를 가리키는 것 같다. \n",
    "- 또 가장 낮은 곳(최솟값)에서 멀어질수록 화살표의 크기가 커짐을 알 수 있다.\n",
    "- 위 그림에서 기울기는 가장 낮은 장소를 가리킨다. 실제는 반드시 그렇다고는 할 수 없다.\n",
    "- 사실 기울기는 각 지점에서 낮아지는 방향을 가리킨다. \n",
    "  - #### ***`더 정확히 말하자면 기울기가 가리키는 쪽은 각 장소에서 함수의 출력 값을 가장 크게 줄이는 방향이다`***\n",
    "  - (※ 매우중요)"
   ]
  },
  {
   "cell_type": "markdown",
   "id": "a820ad7b-9866-4987-8565-a7280ceff762",
   "metadata": {},
   "source": [
    "---"
   ]
  },
  {
   "cell_type": "markdown",
   "id": "fafb3b94-46e6-48b5-a718-f59591338170",
   "metadata": {},
   "source": [
    "- 경사법(경사 하강법)\n",
    "  - 기계학습 문제 대부분은 학습 단계에서 최적의 매개변수를 찾아낸다. 신경망 역시 최적의 매개변수(가중치와 편향)를 학습 시에 찾아야 한다. 여기에서 최적이란 손실 함수가 최솟값이 될 때의 매개변수 값이다. 이런 상황에서 기울기를 잘 이용해 함수의 최소값(또는 가능한 한 작은 값)을 찾으려는 것이 경사법이다.\n",
    "  - 여기에서 주의할 점은 각 지점에서 함수의 값을 낮추는 방안을 제시하는 지표가 기울기라는 것이다.\n",
    "    - 그렇지만 기울기가 가리키는 곳에 정말 함수의 최솟값이 있는지, 즉 그쪽이 정말로 나아갈 방향인지는 보장할 수 없다. 실제로 복잡한 함수에서는 기울기가 가리키는 방향에 최솟값이 없는 경우가 대부분이다.\n",
    "  - 기울어진 방향이 꼭 최솟값을 가리키는 것은 아니나, 그 방향으로 가야 함수의 값을 줄일 수 있다. \n",
    "  - 그래서 최솟값이 되는 장소를 찾는 문제, 아니면 가능한 한 작은 값이 되는 장소를 찾는 문제에서는 기울기 정보를 단서로 나아갈 방향을 정해야 한다. \n",
    "  "
   ]
  },
  {
   "cell_type": "markdown",
   "id": "eadd24f3-9a9c-4312-852c-f7552d29a049",
   "metadata": {},
   "source": [
    "- 경사법 : 현 위치에서 기울어진 방향으로 일정 거리만큼 이동한다. 그런 다음 이동한 곳에서도 마찬가지로 기울기를 구하고, 또 그 기울어진 방향으로 나아가기를 반복한다. 이렇게 해서 함수의 값을 줄이는 것이 경사법이다. 경사법은 기계학습을 최적화하는 데 흔히 쓰는 방법이다. 특히 신경망에서는 경사법을 많이 사용한다."
   ]
  },
  {
   "cell_type": "markdown",
   "id": "3be0d509-91d4-48df-a662-652ae20d80c0",
   "metadata": {},
   "source": [
    "- 경사법을 수식으로 나타내보자\n",
    "  - $x_0 = x_0 - \\eta \\frac{\\partial f}{\\partial x_0}$\n",
    "  - $x_1 = x_1 - \\eta \\frac{\\partial f}{\\partial x_1}$\n",
    "- $\\eta$는 갱신하는 양이다. 신경망 학습에서는 학습률이라고 한다. 한 번의 학습으로 얼마만큼 학습해야 할지, 즉 매개변수 값을 얼마나 갱신하느냐를 정하는 것이 학습률이다.\n",
    "- 위 식은 1회에 해당하는 갱신이고, 이 단계를 반복한다. \n",
    "- 위 단계를 반복하며 서서히 함수의 값을 줄이는 것이다.\n",
    "- 또한 학습률은 0.01 혹은 0.001 등 미리 특정한 값으로 정해두어야 하는데, 일반적으로 이 값이 너무 크거나 작으면 좋은 장소를 찾아갈 수 없다. 신경망 학습에서는 보통 이 학습률 값을 변경하면서 올바르게 학습하고 있는지를 확인하면서 진행한다."
   ]
  },
  {
   "cell_type": "markdown",
   "id": "46dd864b-1ca6-4fbc-b7cd-df85c697f841",
   "metadata": {},
   "source": [
    "---"
   ]
  },
  {
   "cell_type": "markdown",
   "id": "ab0cb908-ac23-4468-89b4-1aa9910d5f26",
   "metadata": {},
   "source": [
    "- 경사 하강법을 구현해보자"
   ]
  },
  {
   "cell_type": "code",
   "execution_count": 16,
   "id": "9d24bff5-fa25-48ea-8589-79855d5c17c7",
   "metadata": {},
   "outputs": [],
   "source": [
    "def gradient_descent(f,init_x,lr=0.01,step_num=100):\n",
    "    x = init_x\n",
    "    \n",
    "    for i in range(step_num):\n",
    "        grad = numerical_gradient(f,x)\n",
    "        x-= lr*grad\n",
    "    return x"
   ]
  },
  {
   "cell_type": "markdown",
   "id": "d7b3eb92-0751-4d42-a96d-d64099a1d85e",
   "metadata": {},
   "source": [
    "- f = 최적화하려는 함수\n",
    "- init_x = 초깃값\n",
    "- lr = 학습률\n",
    "- step_num = 경사법에 따른 반복횟수"
   ]
  },
  {
   "cell_type": "code",
   "execution_count": 17,
   "id": "4cd0b9d8-e4da-436a-8721-0dc623b50218",
   "metadata": {},
   "outputs": [
    {
     "data": {
      "text/plain": [
       "array([-6.11110793e-10,  8.14814391e-10])"
      ]
     },
     "execution_count": 17,
     "metadata": {},
     "output_type": "execute_result"
    }
   ],
   "source": [
    "def function_2(x):\n",
    "    return x[0]**2 +x[1]**2\n",
    "\n",
    "init_x = np.array([-3.0,4.0])\n",
    "gradient_descent(function_2,init_x=init_x,lr =0.1, step_num=100)"
   ]
  },
  {
   "cell_type": "markdown",
   "id": "49e7a8a9-6dec-4eee-b4ba-e702eb2d2b55",
   "metadata": {},
   "source": [
    "- 초깃값을 (-3.0,4.0)으로 설정한 후 경사법을 사용해 최솟값 탐색을 시작한다. \n",
    "- 최종 결과는 거의 (0,0)에 가깝다. 실제로 진정한 최솟값을 (0,0)이므로 경사법으로 거의 정확한 결과를 얻은 것이다."
   ]
  },
  {
   "cell_type": "markdown",
   "id": "d192da17-2a5e-4c80-bca9-feb4ddb6ab69",
   "metadata": {},
   "source": [
    "---"
   ]
  },
  {
   "cell_type": "markdown",
   "id": "1fce885b-c065-4dab-b559-330ee8e965b4",
   "metadata": {},
   "source": [
    "- 학습률을 달리하여 해보자"
   ]
  },
  {
   "cell_type": "code",
   "execution_count": 18,
   "id": "99d19194-60da-4de1-8ae2-b5606814df39",
   "metadata": {},
   "outputs": [
    {
     "data": {
      "text/plain": [
       "array([-2.58983747e+13, -1.29524862e+12])"
      ]
     },
     "execution_count": 18,
     "metadata": {},
     "output_type": "execute_result"
    }
   ],
   "source": [
    "init_x = np.array([-3.0,4.0])\n",
    "gradient_descent(function_2,init_x=init_x,lr=10.0,step_num=100)"
   ]
  },
  {
   "cell_type": "markdown",
   "id": "1b8ad135-f410-44ab-adff-6dda40679ece",
   "metadata": {},
   "source": [
    "- 너무 크게 했더니 큰 값으로 발산해버렸다"
   ]
  },
  {
   "cell_type": "code",
   "execution_count": 19,
   "id": "9afac61f-56be-42e5-8819-35547e066e7d",
   "metadata": {},
   "outputs": [
    {
     "data": {
      "text/plain": [
       "array([-2.99999994,  3.99999992])"
      ]
     },
     "execution_count": 19,
     "metadata": {},
     "output_type": "execute_result"
    }
   ],
   "source": [
    "init_x = np.array([-3.0,4.0])\n",
    "gradient_descent(function_2,init_x=init_x,lr=1e-10,step_num=100)"
   ]
  },
  {
   "cell_type": "markdown",
   "id": "d3a3f3f6-0a77-469e-8c3c-c063a274c00f",
   "metadata": {},
   "source": [
    "- 너무 작게 했더니 거의 갱신하지 않고 끝났다"
   ]
  },
  {
   "cell_type": "markdown",
   "id": "d319f08e-a4dd-485a-8d85-d9fdeb7504bd",
   "metadata": {},
   "source": [
    "$\\to$ 따라서 학습률을 적절히 설정하는 일은 중요하다"
   ]
  },
  {
   "cell_type": "markdown",
   "id": "66446453-8534-451e-936f-daae26efa910",
   "metadata": {},
   "source": [
    "- 학습률과 같은 매개 변수를 하이퍼 파라미터라고 한다. 이는 가중치와 편향같은 신경망의 매개변수와는 성질이 다른 매개변수이다. 신경망의 가중치 매개변수는 훈련 데이터와 학습 알고리즘에 의해서 자동으로 획득되는 매개변수인 반면, 학습률 같은 하이퍼 파라미터는 사람이 직접 설정해야 하는 매개변수인 것이다. 일반적으로는 이 하이퍼파라미터들은 여러 후보 값 중에서 시험을 통해 가장 잘 학습하는 값을 찾는 과정을 거쳐야 한다."
   ]
  },
  {
   "cell_type": "markdown",
   "id": "31697990-4aba-4e37-925e-678a5ee6069c",
   "metadata": {},
   "source": [
    "---"
   ]
  },
  {
   "cell_type": "markdown",
   "id": "a006c5bf-60f3-43e9-ab13-53ecd1e77df3",
   "metadata": {},
   "source": [
    "- 신경망에서의 기울기\n",
    "  - 여기서 말하는 기울기는 가중치 매개변수에 대한 손실 함수의 기울기이다."
   ]
  },
  {
   "cell_type": "code",
   "execution_count": 20,
   "id": "cd233a25-e374-4760-809f-8d710ab0dc71",
   "metadata": {},
   "outputs": [],
   "source": [
    "import sys, os\n",
    "sys.path.append(os.pardir)  # 부모 디렉터리의 파일을 가져올 수 있도록 설정\n",
    "import numpy as np\n",
    "from common.functions import softmax, cross_entropy_error\n",
    "from common.gradient import numerical_gradient\n",
    "\n",
    "\n",
    "class simpleNet:\n",
    "    def __init__(self):\n",
    "        self.W = np.random.randn(2,3) # 정규분포로 초기화\n",
    "\n",
    "    def predict(self, x):\n",
    "        return np.dot(x, self.W)\n",
    "\n",
    "    def loss(self, x, t):\n",
    "        z = self.predict(x)\n",
    "        y = softmax(z)\n",
    "        loss = cross_entropy_error(y, t)\n",
    "\n",
    "        return loss"
   ]
  },
  {
   "cell_type": "markdown",
   "id": "36d1edd1-d50c-4adc-ba7e-449c1621a999",
   "metadata": {},
   "source": [
    "- simpleNet 클래스는 형상이 2x3인 가중치 매개변수 하나를 인스턴스 변수로 갖는다.\n",
    "- 메서드는 2개인데, 하나는 예측을 수행하는 predict이고 다른 하나는 손실 함수의 값을 구하는 loss이다. 여기서 x는 입력데이터, t는 정답 레이블이다."
   ]
  },
  {
   "cell_type": "code",
   "execution_count": 21,
   "id": "f61e78f7-4f9a-4749-8352-82637dca77e9",
   "metadata": {},
   "outputs": [
    {
     "name": "stdout",
     "output_type": "stream",
     "text": [
      "[[ 0.48129772  0.4062162  -0.31963495]\n",
      " [ 0.11586695  1.06101565 -0.79045592]]\n",
      "[ 0.39305889  1.19864381 -0.90319129]\n",
      "1\n"
     ]
    },
    {
     "data": {
      "text/plain": [
       "2.5523095142122116"
      ]
     },
     "execution_count": 21,
     "metadata": {},
     "output_type": "execute_result"
    }
   ],
   "source": [
    "net = simpleNet()\n",
    "# 가중치 매개변수\n",
    "print(net.W)\n",
    "\n",
    "x = np.array([0.6, 0.9])\n",
    "p = net.predict(x)\n",
    "print(p)\n",
    "# 최댓값의 인덱스\n",
    "print(np.argmax(p))\n",
    "\n",
    "# 정답 레이블\n",
    "t = np.array([0, 0, 1])\n",
    "net.loss(x,t)"
   ]
  },
  {
   "cell_type": "markdown",
   "id": "5d046ef9-0b2d-4156-af08-e7251efd4ad8",
   "metadata": {},
   "source": [
    "- 이어서 기울기를 구해보자"
   ]
  },
  {
   "cell_type": "code",
   "execution_count": 22,
   "id": "3c2f088d-081f-4c5c-894b-2906ee18378d",
   "metadata": {},
   "outputs": [
    {
     "name": "stdout",
     "output_type": "stream",
     "text": [
      "[[ 0.17086397  0.38239445 -0.55325842]\n",
      " [ 0.25629596  0.57359168 -0.82988764]]\n"
     ]
    }
   ],
   "source": [
    "def f(W):\n",
    "    return net.loss(x,t)\n",
    "\n",
    "dW = numerical_gradient(f, net.W)\n",
    "print(dW)"
   ]
  },
  {
   "cell_type": "markdown",
   "id": "92adefee-5535-4fca-8dc6-e907b159cbb0",
   "metadata": {},
   "source": [
    "- 람다를 사용해 아래와 같이 구현할 수 있겠다"
   ]
  },
  {
   "cell_type": "code",
   "execution_count": 23,
   "id": "d34b36b1-41c6-4783-9b6d-a73196dbc514",
   "metadata": {},
   "outputs": [
    {
     "name": "stdout",
     "output_type": "stream",
     "text": [
      "[[ 0.17086397  0.38239445 -0.55325842]\n",
      " [ 0.25629596  0.57359168 -0.82988764]]\n"
     ]
    }
   ],
   "source": [
    "f = lambda w: net.loss(x, t)\n",
    "dW = numerical_gradient(f, net.W)\n",
    "\n",
    "print(dW)"
   ]
  },
  {
   "cell_type": "markdown",
   "id": "f6a9906a-af8d-405a-8324-766be7b030fb",
   "metadata": {},
   "source": [
    "- 신경망의 기울기를 구한 다음에는 경사법에 따라 가중치 매개변수를 갱신하기만 하면 된다. 다름 절에서는 2층 신경망을 대상으로 학습 과정 전체를 구현해보자\n",
    "- 135p참고하기"
   ]
  }
 ],
 "metadata": {
  "kernelspec": {
   "display_name": "Python 3 (ipykernel)",
   "language": "python",
   "name": "python3"
  },
  "language_info": {
   "codemirror_mode": {
    "name": "ipython",
    "version": 3
   },
   "file_extension": ".py",
   "mimetype": "text/x-python",
   "name": "python",
   "nbconvert_exporter": "python",
   "pygments_lexer": "ipython3",
   "version": "3.8.11"
  }
 },
 "nbformat": 4,
 "nbformat_minor": 5
}
