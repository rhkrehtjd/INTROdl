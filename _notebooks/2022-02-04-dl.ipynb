{
 "cells": [
  {
   "cell_type": "markdown",
   "id": "6147c63b-3039-4b74-b675-d365b0e657c9",
   "metadata": {},
   "source": [
    "# 퍼셉트론"
   ]
  },
  {
   "cell_type": "markdown",
   "id": "e617bca6-e786-4257-b4db-72fe01c2600a",
   "metadata": {},
   "source": [
    "- 퍼셉트론을 구현해보자\n",
    "  - AND 게이트 구현"
   ]
  },
  {
   "cell_type": "code",
   "execution_count": 41,
   "id": "e7f6f66e-30a4-4db6-9cd7-e4a0dbc64398",
   "metadata": {},
   "outputs": [
    {
     "name": "stdout",
     "output_type": "stream",
     "text": [
      "0\n",
      "0\n",
      "0\n",
      "1\n"
     ]
    }
   ],
   "source": [
    "def AND(x1, x2):\n",
    "    w1,w2,theta = 0.5,0.5,0.7\n",
    "    tmp = x1*w1+x2*w2\n",
    "    if tmp<=theta:\n",
    "        return 0\n",
    "    elif tmp>theta:\n",
    "        return 1\n",
    "print(AND(0,0))\n",
    "print(AND(1,0))\n",
    "print(AND(0,1))\n",
    "print(AND(1,1))"
   ]
  },
  {
   "cell_type": "markdown",
   "id": "0a681556-9364-4395-9276-a271031b2bd7",
   "metadata": {},
   "source": [
    "- 물론 앞에서 구현한 AND 게이트는 직관적이고 알기 쉽지만, 앞으로를 생각해서 다른 방식으로 수정해보자.\n",
    "  - 편향이라는 개념을 도입하여, 퍼셉트론은 입력신호에 가중치를 곱한 값과 편향을 더하여, 그 값이 0을 넘으면 1을 출력하고 그렇지 않으면 0을 출력한다. "
   ]
  },
  {
   "cell_type": "code",
   "execution_count": 42,
   "id": "19595903-713d-473e-935f-7324287f37d6",
   "metadata": {},
   "outputs": [
    {
     "name": "stdout",
     "output_type": "stream",
     "text": [
      "[0.  0.5]\n",
      "0.5\n",
      "-0.19999999999999996\n"
     ]
    }
   ],
   "source": [
    "import numpy as np\n",
    "x = np.array([0,1])       # 입력\n",
    "w = np.array([0.5,0.5])   # 가중치\n",
    "b = -0.7                  # 편향\n",
    "print(w*x)\n",
    "print(np.sum(w*x))\n",
    "print(np.sum(w*x)+b)"
   ]
  },
  {
   "cell_type": "markdown",
   "id": "1d31e709-15c0-499e-861d-47d09ca66e2f",
   "metadata": {},
   "source": [
    "---"
   ]
  },
  {
   "cell_type": "markdown",
   "id": "b52a96fe-6703-4a46-a36e-4fb08b8f8b7a",
   "metadata": {},
   "source": [
    "- 가중치와 편향을 도입한 AND 게이트는 다음과 같이 구현할 수 있다. "
   ]
  },
  {
   "cell_type": "code",
   "execution_count": 43,
   "id": "76d0b1ac-c8b5-4f58-b062-b130181344cb",
   "metadata": {},
   "outputs": [],
   "source": [
    "def AND(x1,x2):\n",
    "    x = np.array([x1,x2])\n",
    "    w = np.array([0.5,0.5])\n",
    "    b = -0.7\n",
    "    tmp = np.sum(x*w) + b\n",
    "    if tmp<=0 :\n",
    "        return 0\n",
    "    elif tmp >0 :\n",
    "        return 1"
   ]
  },
  {
   "cell_type": "markdown",
   "id": "acc1aa2d-3bf4-49f3-903a-12ba888f62d8",
   "metadata": {},
   "source": [
    "- w1,w2는 각 입력 신호가 결과에 주는 영향력을 조절하는 매개변수이고, 편향을 뉴런이 얼마나 쉽게 활성화(결과로 1을 출력)하느냐를 조정하는 매개변수이다."
   ]
  },
  {
   "cell_type": "code",
   "execution_count": 44,
   "id": "0d008df6-e136-4f82-a83b-368d5d1b491d",
   "metadata": {},
   "outputs": [],
   "source": [
    "def NAND(x1,x2):\n",
    "    x = np.array([x1,x2])\n",
    "    w = np.array([-0.5,-0.5])\n",
    "    b = 0.7\n",
    "    tmp = np.sum(x*w) + b\n",
    "    if tmp<=0 :\n",
    "        return 0\n",
    "    elif tmp >0 :\n",
    "        return 1\n",
    "def OR(x1,x2):\n",
    "    x = np.array([x1,x2])\n",
    "    w = np.array([0.5,0.5])\n",
    "    b = -0.2\n",
    "    tmp = np.sum(x*w) + b\n",
    "    if tmp<=0 :\n",
    "        return 0\n",
    "    elif tmp >0 :\n",
    "        return 1"
   ]
  },
  {
   "cell_type": "markdown",
   "id": "7e4b5403-ead6-471e-98f5-e54022065d0b",
   "metadata": {},
   "source": [
    "- AND, NAND, OR 모두 같은 구조의 퍼셉트론이고 차이는 가중치 매개변수의 값뿐이다. 실제로 파이썬으로 작성한 NAND와 OR 게이트의 코드에서도  AND와 다른 곳은 가중치와 편향 값을 설정하는 부분뿐이다. "
   ]
  },
  {
   "cell_type": "markdown",
   "id": "984b353d-cfe5-4889-bcfc-a0949f33da0e",
   "metadata": {},
   "source": [
    "---"
   ]
  },
  {
   "cell_type": "markdown",
   "id": "11a6a65b-6f4a-4620-9c78-663c5428b225",
   "metadata": {},
   "source": [
    "- XOR 게이트\n",
    "  - 배타적 논리합이라는 논리회로이다. 한쪽이 1일때만 1을 출력. OR게이트와 달리 둘 다 1일때는 출력하지 않는다. \n",
    "  - 지금까지 본 퍼셉트론의 구조로는 이 XOR 게이트를 구현할 수 없다. "
   ]
  },
  {
   "cell_type": "code",
   "execution_count": 45,
   "id": "5af4777d-3caf-41db-bf3d-00d344bbc3e9",
   "metadata": {},
   "outputs": [
    {
     "data": {
      "text/plain": [
       "(0.0, 2.0)"
      ]
     },
     "execution_count": 45,
     "metadata": {},
     "output_type": "execute_result"
    },
    {
     "data": {
      "image/png": "[encoded data removed]",
      "text/plain": [
       "<Figure size 432x288 with 1 Axes>"
      ]
     },
     "metadata": {
      "needs_background": "light"
     },
     "output_type": "display_data"
    }
   ],
   "source": [
    "import matplotlib.pyplot as plt\n",
    "plt.scatter([0,0,1,1],[0,1,0,1])\n",
    "plt.xlim(0,2)\n",
    "plt.ylim(0,2)"
   ]
  },
  {
   "cell_type": "markdown",
   "id": "743759bd-9551-4752-86b0-3e1f8cbae2b6",
   "metadata": {},
   "source": [
    "- (0,0)(1,1),(1,0)(0,1)이 두 묶음을 각각 나눌 수 있는 직선은 있을 수 없다.\n",
    "- 하지만 직선이라는 제약을 없앤다면 가능하다\n",
    "- 퍼셉트론은 직선 하나로 나눈 영역만 표현할 수 있다는 한계가 있다. 곡선은 표현할 수 없다. \n",
    "- 퍼셉트론으로는 XOR 게이트를 표현할 수 없지만 층을 쌓아 다층 퍼셉트론을 통해 구현할 수 있다."
   ]
  },
  {
   "cell_type": "markdown",
   "id": "461032a9-e7fc-4836-9fff-9150fd580543",
   "metadata": {},
   "source": [
    "---"
   ]
  },
  {
   "cell_type": "markdown",
   "id": "542300ee-f109-4da0-980b-efd17606edf0",
   "metadata": {},
   "source": [
    "- AND, OR NAND 게이트를 조합하여 XOR게이트를 만들 수 있다.\n",
    "- 단층 퍼셉트론으로는 XOR 게이트를 표현할 수 없다. 단층 퍼셉트론으로는 비선형 영역을 분리할 수 없다.\n",
    "- 퍼셉트론을 조합하여 즉, 층을 쌓아서 XOR 게이트를 구현하는 것이다."
   ]
  },
  {
   "cell_type": "code",
   "execution_count": 46,
   "id": "4ea6babf-587e-411e-a6df-4a95944ede19",
   "metadata": {},
   "outputs": [],
   "source": [
    "def XOR(x1,x2):\n",
    "    s1 = NAND(x1,x2)\n",
    "    s2 = OR(x1,x2)\n",
    "    y = AND(s1,s2)\n",
    "    return y"
   ]
  },
  {
   "cell_type": "code",
   "execution_count": 47,
   "id": "a67e4511-686b-4da9-8886-4166d49c8535",
   "metadata": {},
   "outputs": [
    {
     "name": "stdout",
     "output_type": "stream",
     "text": [
      "0\n",
      "1\n",
      "1\n",
      "0\n"
     ]
    }
   ],
   "source": [
    "print(XOR(0,0))\n",
    "print(XOR(0,1))\n",
    "print(XOR(1,0))\n",
    "print(XOR(1,1))"
   ]
  },
  {
   "cell_type": "markdown",
   "id": "71614985-3262-46b7-953d-4c3572a21b67",
   "metadata": {},
   "source": [
    "- 이처럼 퍼셉트론은 층을 쌓아 더 다양한 것을 표현할 수 있다."
   ]
  },
  {
   "cell_type": "markdown",
   "id": "cbe8a8ab-81d1-4481-bcd2-5d2a6fff3ca8",
   "metadata": {},
   "source": [
    "---"
   ]
  },
  {
   "cell_type": "markdown",
   "id": "1b706709-dce9-4e26-af33-0853e489351a",
   "metadata": {},
   "source": [
    "### Conclusion\n",
    "- 퍼셉트론은 입출력을 갖춘 알고리즘이다. 입력을 주면 정해진 규칙에 따른 값을 출력한다.\n",
    "- 퍼셉트론에서는 가중치와 편향을 매개변수로 설정한다. \n",
    "- 퍼셉트론으로 AND,OR 게이트 등의 논리 회로를 표현할 수 있다.\n",
    "- XOR 게이트는 단층 퍼셉트론으로는 표현할 수 없다.\n",
    "- 2층 퍼셉트론을 이용하면 XOR 게이트를 표현할 수 있다.\n",
    "- 단층 퍼셉트론은 직선형 영역만 표현할 수 있고, 다층 퍼셉트론은 비선형 영역도 표현할 수 있다.\n",
    "- 다층 퍼셉트론은 (이론상) 컴퓨터도 표현할 수 있다."
   ]
  }
 ],
 "metadata": {
  "kernelspec": {
   "display_name": "Python 3 (ipykernel)",
   "language": "python",
   "name": "python3"
  },
  "language_info": {
   "codemirror_mode": {
    "name": "ipython",
    "version": 3
   },
   "file_extension": ".py",
   "mimetype": "text/x-python",
   "name": "python",
   "nbconvert_exporter": "python",
   "pygments_lexer": "ipython3",
   "version": "3.8.11"
  }
 },
 "nbformat": 4,
 "nbformat_minor": 5
}
